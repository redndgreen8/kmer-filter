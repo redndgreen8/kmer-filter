{
 "cells": [
  {
   "cell_type": "code",
   "execution_count": 1,
   "metadata": {},
   "outputs": [],
   "source": [
    "import numpy as np\n",
    "import sys\n",
    "import math\n",
    "import networkx as nx\n",
    "from collections import OrderedDict\n",
    "import matplotlib.pyplot as plt\n",
    "%matplotlib inline\n",
    "import statistics as st"
   ]
  },
  {
   "cell_type": "code",
   "execution_count": 2,
   "metadata": {},
   "outputs": [],
   "source": [
    "Hmean=30\n",
    "k=32\n",
    "reads=\"/panfs/qcb-panasas/rdagnew/HG00514/pbmm_combined/all_3/chr6:160609100-160648600/ccs/reads.fasta\"\n",
    "cov=26"
   ]
  },
  {
   "cell_type": "code",
   "execution_count": 3,
   "metadata": {},
   "outputs": [],
   "source": [
    "def returnStat(cts):\n",
    "    summs=[]\n",
    "    for i in range(4):\n",
    "        arr=[int(b) for b in cts[i].split(\",\")]\n",
    "        arr=np.array(arr)\n",
    "        m=np.mean(arr)\n",
    "        med=np.median(arr)\n",
    "        pas=np.count_nonzero(arr>0)\n",
    "        summs.append( (m,med,pas) )\n",
    "    return summs"
   ]
  },
  {
   "cell_type": "code",
   "execution_count": 4,
   "metadata": {},
   "outputs": [],
   "source": [
    "hgct={}\n",
    "ilct={}\n",
    "dup={}\n",
    "with open('/home/cmb-16/mjc/rdagnew/summerproj/kmer_filter/query_out/chr6:160609100-160648600.out','r') as d:\n",
    "    for r in d.readlines():\n",
    "        r=r.rstrip()\n",
    "        r=r.split()\n",
    "        idx=r[0]\n",
    "        if idx in hgct:\n",
    "            dup[idx]=dup[idx]+1\n",
    "        else:\n",
    "            dup[idx]=1\n",
    "            hgct[idx]=returnStat(r[1:5])\n",
    "            ilct[idx]=returnStat(r[5:9])\n",
    "\n",
    "            "
   ]
  },
  {
   "cell_type": "code",
   "execution_count": 5,
   "metadata": {},
   "outputs": [],
   "source": [
    "dup_list=[dup[r] for r in dup.keys() if dup[r]>1]\n",
    "full_dup_list=[dup[r] for r in dup.keys() ]"
   ]
  },
  {
   "cell_type": "code",
   "execution_count": 6,
   "metadata": {},
   "outputs": [
    {
     "name": "stdout",
     "output_type": "stream",
     "text": [
      "12481 12481 1465 4\n"
     ]
    }
   ],
   "source": [
    "print(len(dup),len(hgct),len(dup_list),max(full_dup_list))"
   ]
  },
  {
   "cell_type": "code",
   "execution_count": 7,
   "metadata": {},
   "outputs": [
    {
     "data": {
      "text/plain": [
       "(array([1.1016e+04, 1.4550e+03, 9.0000e+00, 1.0000e+00]),\n",
       " array([1.  , 1.75, 2.5 , 3.25, 4.  ]),\n",
       " <a list of 4 Patch objects>)"
      ]
     },
     "execution_count": 7,
     "metadata": {},
     "output_type": "execute_result"
    },
    {
     "data": {
      "image/png": "[encoded data removed]",
      "text/plain": [
       "<Figure size 432x288 with 1 Axes>"
      ]
     },
     "metadata": {
      "needs_background": "light"
     },
     "output_type": "display_data"
    }
   ],
   "source": [
    "plt.hist(full_dup_list,bins =4)\n"
   ]
  },
  {
   "cell_type": "code",
   "execution_count": 8,
   "metadata": {},
   "outputs": [
    {
     "data": {
      "text/plain": [
       "(array([1.455e+03, 0.000e+00, 0.000e+00, 0.000e+00, 0.000e+00, 9.000e+00,\n",
       "        0.000e+00, 0.000e+00, 0.000e+00, 1.000e+00]),\n",
       " array([2. , 2.2, 2.4, 2.6, 2.8, 3. , 3.2, 3.4, 3.6, 3.8, 4. ]),\n",
       " <a list of 10 Patch objects>)"
      ]
     },
     "execution_count": 8,
     "metadata": {},
     "output_type": "execute_result"
    },
    {
     "data": {
      "image/png": "[encoded data removed]",
      "text/plain": [
       "<Figure size 432x288 with 1 Axes>"
      ]
     },
     "metadata": {
      "needs_background": "light"
     },
     "output_type": "display_data"
    }
   ],
   "source": [
    "plt.hist(dup_list)"
   ]
  },
  {
   "cell_type": "code",
   "execution_count": 111,
   "metadata": {},
   "outputs": [
    {
     "data": {
      "text/plain": [
       "1465"
      ]
     },
     "execution_count": 111,
     "metadata": {},
     "output_type": "execute_result"
    }
   ],
   "source": [
    "len(dup_list)\n"
   ]
  },
  {
   "cell_type": "code",
   "execution_count": 6,
   "metadata": {
    "collapsed": true,
    "jupyter": {
     "outputs_hidden": true,
     "source_hidden": true
    }
   },
   "outputs": [
    {
     "data": {
      "text/plain": [
       "[(0.0, 0.0, 0), (0.0, 0.0, 0), (1.0, 1.0, 32), (0.0, 0.0, 0)]"
      ]
     },
     "execution_count": 6,
     "metadata": {},
     "output_type": "execute_result"
    }
   ],
   "source": [
    "hgct['TGAAATAGTTATCTTAGTCATATGTCAAATTGTCATGCAATTCTTCTATTCTTCTTATACCTA']"
   ]
  },
  {
   "cell_type": "code",
   "execution_count": 7,
   "metadata": {
    "collapsed": true,
    "jupyter": {
     "outputs_hidden": true,
     "source_hidden": true
    }
   },
   "outputs": [
    {
     "data": {
      "text/plain": [
       "[(0.0, 0.0, 0), (0.0, 0.0, 0), (69.84375, 69.0, 32), (0.0, 0.0, 0)]"
      ]
     },
     "execution_count": 7,
     "metadata": {},
     "output_type": "execute_result"
    }
   ],
   "source": [
    "ilct['TGAAATAGTTATCTTAGTCATATGTCAAATTGTCATGCAATTCTTCTATTCTTCTTATACCTA']"
   ]
  },
  {
   "cell_type": "code",
   "execution_count": 8,
   "metadata": {
    "collapsed": true,
    "jupyter": {
     "outputs_hidden": true
    }
   },
   "outputs": [
    {
     "name": "stdout",
     "output_type": "stream",
     "text": [
      "32\n"
     ]
    }
   ],
   "source": [
    "print((len('1,1,1,1,1,1,1,1,1,1,1,1,1,1,1,1,1,1,1,1,1,1,1,1,1,1,1,1,1,1,1,1'.split(\",\"))))"
   ]
  },
  {
   "cell_type": "code",
   "execution_count": 9,
   "metadata": {
    "collapsed": true,
    "jupyter": {
     "outputs_hidden": true,
     "source_hidden": true
    }
   },
   "outputs": [
    {
     "name": "stdout",
     "output_type": "stream",
     "text": [
      "63\n"
     ]
    }
   ],
   "source": [
    "print(len('CATTTTTCAGCATTTGTGGATGTGTGTGTGTATTTGTAAGCTTATACATGTTTGAGTGTGTGT'))"
   ]
  },
  {
   "cell_type": "code",
   "execution_count": 112,
   "metadata": {},
   "outputs": [],
   "source": [
    "NucList={'A':'C,G,T','C':'A,G,T','G':'A,C,T','T':'A,C,G'}\n",
    "kmerList=[]\n",
    "\n",
    "scale_dist=[]\n",
    "scale_dist2=[]\n",
    "scale_dist3=[]\n",
    "ref_dist=[]\n",
    "factor=1/Hmean\n",
    "\n",
    "\n",
    "for key in ilct.keys():\n",
    "    if dup[key]>1:\n",
    "        continue\n",
    "    ref_allele=key[k-1]\n",
    "    ref,alt,alt2,alt3=hgct[key]\n",
    "    ill,alti,alt2i,alt3i=ilct[key]\n",
    "    altList=NucList[ref_allele].split(\",\")\n",
    "    if alt[0]==0 and alti[0]>0:\n",
    "        scale_dist.append(alti[0]*factor)\n",
    "        scale_dist2.append(alti[1]*factor)\n",
    "        scale_dist3.append(alti[2])\n",
    "    if alt2[0]==0 and alt2i[0]>0:\n",
    "        scale_dist.append(alt2i[0]*factor)\n",
    "        scale_dist2.append(alt2i[1]*factor)\n",
    "        scale_dist3.append(alt2i[2])\n",
    "    if alt3[0]==0 and alt3i[0]>0:\n",
    "        scale_dist.append(alt3i[0]*factor)\n",
    "        scale_dist2.append(alt3i[1]*factor)\n",
    "        scale_dist3.append(alt3i[2])\n",
    "    ref_dist.append(ref[0])"
   ]
  },
  {
   "cell_type": "code",
   "execution_count": 145,
   "metadata": {},
   "outputs": [
    {
     "name": "stdout",
     "output_type": "stream",
     "text": [
      "182.59375 4.095338983050847 17.734095741795798 0.375\n",
      "182.83333333333331 4.021186440677966 18.639900237049673 0.0\n",
      "32 11.155367231638419 10.525977134288754 7.0\n",
      "10969.875 52.35558789488017 \n",
      " 708\n"
     ]
    }
   ],
   "source": [
    "print(max(scale_dist),st.mean(scale_dist),st.stdev(scale_dist),st.median(scale_dist))\n",
    "print(max(scale_dist2),st.mean(scale_dist2),st.stdev(scale_dist2),st.median(scale_dist2))\n",
    "print(max(scale_dist3),st.mean(scale_dist3),st.stdev(scale_dist3),st.median(scale_dist3))\n",
    "print(max(ref_dist),st.mean(ref_dist),\"\\n\",len(scale_dist))\n",
    "\n",
    "\n"
   ]
  },
  {
   "cell_type": "code",
   "execution_count": 114,
   "metadata": {},
   "outputs": [
    {
     "data": {
      "text/plain": [
       "(array([73., 12.,  6.,  7.,  9., 15.,  6.,  7.,  7.,  3.,  4.,  3.,  1.,\n",
       "         0.,  2.,  1.,  1.,  2.]),\n",
       " array([ 1,  2,  3,  4,  5,  6,  7,  8,  9, 10, 11, 12, 13, 14, 15, 16, 17,\n",
       "        18, 19]),\n",
       " <a list of 18 Patch objects>)"
      ]
     },
     "execution_count": 114,
     "metadata": {},
     "output_type": "execute_result"
    },
    {
     "data": {
      "image/png": "[encoded data removed]",
      "text/plain": [
       "<Figure size 432x288 with 1 Axes>"
      ]
     },
     "metadata": {
      "needs_background": "light"
     },
     "output_type": "display_data"
    }
   ],
   "source": [
    "#100x\n",
    "plt.hist(scale_dist,bins=range(1,20,1 ),cumulative=False ) \n"
   ]
  },
  {
   "cell_type": "code",
   "execution_count": 115,
   "metadata": {},
   "outputs": [
    {
     "data": {
      "text/plain": [
       "(array([105.,  19.,  24.,   9.,   6.,   2.,   0.,   3.,   0.]),\n",
       " array([ 1,  4,  7, 10, 13, 16, 19, 22, 25, 28]),\n",
       " <a list of 9 Patch objects>)"
      ]
     },
     "execution_count": 115,
     "metadata": {},
     "output_type": "execute_result"
    },
    {
     "data": {
      "image/png": "[encoded data removed]",
      "text/plain": [
       "<Figure size 432x288 with 1 Axes>"
      ]
     },
     "metadata": {
      "needs_background": "light"
     },
     "output_type": "display_data"
    }
   ],
   "source": [
    "plt.hist(scale_dist2,bins=range(1,30,3 ),cumulative=False ) "
   ]
  },
  {
   "cell_type": "code",
   "execution_count": null,
   "metadata": {},
   "outputs": [],
   "source": [
    "plt.hist(ref_dist,bins=range(1,70,5 ) ) "
   ]
  },
  {
   "cell_type": "code",
   "execution_count": 116,
   "metadata": {},
   "outputs": [
    {
     "data": {
      "text/plain": [
       "(array([  0., 112.,  71.,  48.,  45.,  38.,  26.,  27.,  30.,  12.,  20.,\n",
       "         19.,  19.,  11.,  17.,  13.,  11.,  13.,  10.,  11.,   7.,   7.,\n",
       "          8.,   8.,   6.,   6.,   9.,   4.,   5.,   4.,   4.,   5.,  82.]),\n",
       " array([ 0,  1,  2,  3,  4,  5,  6,  7,  8,  9, 10, 11, 12, 13, 14, 15, 16,\n",
       "        17, 18, 19, 20, 21, 22, 23, 24, 25, 26, 27, 28, 29, 30, 31, 32, 33]),\n",
       " <a list of 33 Patch objects>)"
      ]
     },
     "execution_count": 116,
     "metadata": {},
     "output_type": "execute_result"
    },
    {
     "data": {
      "image/png": "[encoded data removed]",
      "text/plain": [
       "<Figure size 432x288 with 1 Axes>"
      ]
     },
     "metadata": {
      "needs_background": "light"
     },
     "output_type": "display_data"
    }
   ],
   "source": [
    "plt.hist(scale_dist3,bins=range(0,34,1 ) ) "
   ]
  },
  {
   "cell_type": "code",
   "execution_count": 9,
   "metadata": {},
   "outputs": [],
   "source": [
    "NucList={'A':'C,G,T','C':'A,G,T','G':'A,C,T','T':'A,C,G'}\n",
    "kmerList=[]\n",
    "thr=8*Hmean\n",
    "lthr=0.25*Hmean\n",
    "dt=10 #2*stdev of mean-median\n",
    "cthr=3\n",
    "for key in ilct.keys():\n",
    "    if dup[key]>1:\n",
    "        continue\n",
    "    ref_allele=key[k-1]\n",
    "    ref,alt,alt2,alt3=hgct[key]\n",
    "    ill,alti,alt2i,alt3i=ilct[key]\n",
    "    altList=NucList[ref_allele].split(\",\")\n",
    "    if ( alt[0]==0 and alti[0]>0) and (alti[0]<thr and alti[0]>lthr) and (abs(alti[0]-alti[1]) < dt and alti[2]>cthr):\n",
    "        kmerList.append(key[:k-1] +altList[0] + key[k:])\n",
    "    if ( alt2[0]==0 and alt2i[0]>0) and (alt2i[0]<thr and alt2i[0]>lthr) and (abs(alt2i[0]-alt2i[1]) < dt and alt2i[2]>cthr):\n",
    "        kmerList.append(key[:k-1] +altList[1] + key[k:])\n",
    "    if ( alt3[0]==0 and alt3i[0]>0) and (alt3i[0]<thr and alt3i[0]>lthr) and (abs(alt3i[0]-alt3i[1]) < dt and alt3i[2]>cthr):\n",
    "        kmerList.append(key[:k-1] +altList[2] + key[k:])\n",
    "   "
   ]
  },
  {
   "cell_type": "code",
   "execution_count": 10,
   "metadata": {},
   "outputs": [
    {
     "name": "stdout",
     "output_type": "stream",
     "text": [
      "43.96875\n"
     ]
    }
   ],
   "source": [
    "print(ill[0])"
   ]
  },
  {
   "cell_type": "code",
   "execution_count": 11,
   "metadata": {},
   "outputs": [
    {
     "name": "stdout",
     "output_type": "stream",
     "text": [
      "71 71\n"
     ]
    }
   ],
   "source": [
    "print(len(kmerList),len(set(kmerList)))"
   ]
  },
  {
   "cell_type": "code",
   "execution_count": 12,
   "metadata": {},
   "outputs": [
    {
     "name": "stdout",
     "output_type": "stream",
     "text": [
      "63 63\n"
     ]
    }
   ],
   "source": [
    "print(len(kmerList[0]),len(kmerList[-1]))"
   ]
  },
  {
   "cell_type": "code",
   "execution_count": 13,
   "metadata": {},
   "outputs": [],
   "source": [
    "def storePSVfilt(PSV,PSVlist,MG,k):\n",
    "    l=0\n",
    "    for kmers in PSVlist:\n",
    "        n = kmers.split()\n",
    "        PSV[kmers] = []\n",
    "        kmer = \"\"\n",
    "        \n",
    " \n",
    "        if kmers not in node_multi.keys():\n",
    "            node_multi[kmers]=1\n",
    "        else:\n",
    "            node_multi[kmers] = node_multi[kmers] + 1\n",
    "        MG.add_node(kmers ,ref=kmers[k-1], t=2, mult = node_multi[kmers] )\n",
    "\n",
    "        for i in range(k):\n",
    "            kmer = kmers[i:i+k]\n",
    "            PSV[kmers].append(kmer)\n",
    "            l=l+1\n",
    "\n",
    "    print(\"stored filt PSV list:\",str(l))"
   ]
  },
  {
   "cell_type": "code",
   "execution_count": 45,
   "metadata": {},
   "outputs": [],
   "source": [
    "PSV = OrderedDict()\n",
    "MG = nx.MultiDiGraph()\n",
    "G = nx.DiGraph()\n",
    "#MG.add_node(\"s\")\n",
    "node_multi = {}\n",
    "\n",
    "\n"
   ]
  },
  {
   "cell_type": "code",
   "execution_count": 46,
   "metadata": {},
   "outputs": [
    {
     "name": "stdout",
     "output_type": "stream",
     "text": [
      "0 0\n",
      "stored filt PSV list: 2272\n",
      "stored filt PSV list: 2272\n",
      "71 71\n",
      "0 0\n"
     ]
    }
   ],
   "source": [
    "#print(PSVlist)\n",
    "print(MG.number_of_nodes(), G.number_of_nodes())\n",
    "storePSVfilt(PSV, kmerList, MG,k)\n",
    "storePSVfilt(PSV, kmerList, G,k)\n",
    "\n",
    "\n",
    "print(MG.number_of_nodes(), G.number_of_nodes())\n",
    "#print(PSV)\n",
    "print(MG.number_of_edges(), G.number_of_edges())\n",
    "\n",
    "\n",
    "read_name = \"\"\n",
    "offset = 0\n",
    "starter=0\n",
    "ender=0\n",
    "un_read=0\n",
    "\n",
    "read_count = 0\n",
    "for key in PSV.keys():\n",
    "    for kmer in PSV[key]:\n",
    "        node_multi[kmer]=0"
   ]
  },
  {
   "cell_type": "code",
   "execution_count": 123,
   "metadata": {},
   "outputs": [
    {
     "name": "stdout",
     "output_type": "stream",
     "text": [
      "rem:  71\n"
     ]
    }
   ],
   "source": [
    "buildGraph(MG,reads,PSV,32)"
   ]
  },
  {
   "cell_type": "code",
   "execution_count": 47,
   "metadata": {},
   "outputs": [],
   "source": [
    "read_stream = open(reads)\n",
    "read_count = 0\n",
    "prev_edge=0\n",
    "    \n",
    "\n",
    "edge_list={}\n",
    "read_list={}\n",
    "for line in read_stream:\n",
    "    if line[0] == \">\":\n",
    "        line = line.lstrip()\n",
    "        read_name = \"/\".join(line.split(\"/\")[:2])\n",
    "        continue\n",
    "    read = line.rstrip()\n",
    "    read_len = len(read)\n",
    "    read_count = read_count+1\n",
    "    prev_match = \"\"\n",
    "    \n",
    "    sentinel_ = \"_\".join([\"t\", read_name ])\n",
    "    _starter = \"_\".join([\"s\", read_name ])\n",
    "\n",
    "    edge_list[read_name]=[]\n",
    "    read_list[read_name]=read\n",
    "    for i in range((read_len - k)+ 1):\n",
    "        kmer = read[i-(k-1):i+k]\n",
    "        if kmer in PSV:\n",
    "            edge_list[read_name].append(kmer)    \n",
    "    if len(edge_list[read_name]) ==0 :\n",
    "        un_read = un_read+1\n",
    "        continue\n",
    "    MG.add_node(_starter, t=0 )\n",
    "    MG.add_edge(_starter, edge_list[read_name][0] ,weight=1)\n",
    "    MG.add_node(sentinel_,t=1 )\n",
    "    MG.add_edge( edge_list[read_name][-1], sentinel_ ,weight=1)\n",
    "    \n",
    "    for i in range(len(edge_list[read_name])-1):\n",
    "        MG.add_edge( edge_list[read_name][i],  edge_list[read_name][i+1],weight=1  )\n",
    "        G.add_edge( edge_list[read_name][i],  edge_list[read_name][i+1],weight=1  )\n",
    "              \n",
    "    x = MG.number_of_edges()\n",
    "    if int(x) - prev_edge >50 and read_count%50==0:\n",
    "        print(read_count , MG.number_of_edges())\n",
    "\n",
    "    prev_edge = x\n",
    "\n"
   ]
  },
  {
   "cell_type": "code",
   "execution_count": 48,
   "metadata": {},
   "outputs": [
    {
     "name": "stdout",
     "output_type": "stream",
     "text": [
      "747 71\n",
      "5746 129\n"
     ]
    }
   ],
   "source": [
    "print(MG.number_of_nodes(), G.number_of_nodes())\n",
    "#print(PSV)\n",
    "print(MG.number_of_edges(), G.number_of_edges())"
   ]
  },
  {
   "cell_type": "code",
   "execution_count": 49,
   "metadata": {},
   "outputs": [
    {
     "name": "stdout",
     "output_type": "stream",
     "text": [
      "32\n"
     ]
    }
   ],
   "source": [
    "un_node=0\n",
    "rem=[]\n",
    "for node in MG.nodes():\n",
    "    if MG.degree(node) == 0:\n",
    "        rem.append(node)\n",
    "        un_node = un_node+1\n",
    "MG.remove_nodes_from(rem)\n",
    "G.remove_nodes_from(rem)\n",
    "print(len(rem))"
   ]
  },
  {
   "cell_type": "code",
   "execution_count": 50,
   "metadata": {},
   "outputs": [
    {
     "name": "stdout",
     "output_type": "stream",
     "text": [
      "715 39\n",
      "5746 129\n"
     ]
    }
   ],
   "source": [
    "print(MG.number_of_nodes(), G.number_of_nodes())\n",
    "#print(PSV)\n",
    "print(MG.number_of_edges(), G.number_of_edges())"
   ]
  },
  {
   "cell_type": "code",
   "execution_count": 152,
   "metadata": {},
   "outputs": [],
   "source": [
    "feat={}\n",
    "lenkmer=len(G.nodes())\n",
    "kmerListS=set(G.nodes())\n",
    "for read in edge_list.keys():\n",
    "    vect = np.zeros(lenkmer)\n",
    "    i=0\n",
    "    for kmer in edge_list[read]:\n",
    "        if kmer in kmerListS:\n",
    "            vect[i]=1\n",
    "            i=i+1\n",
    "    \n",
    "    feat[read]=vect"
   ]
  },
  {
   "cell_type": "code",
   "execution_count": 153,
   "metadata": {
    "collapsed": true,
    "jupyter": {
     "outputs_hidden": true
    }
   },
   "outputs": [
    {
     "data": {
      "text/plain": [
       "{'>m64018_190217_061625/46074261': array([1., 0., 0., 0., 0., 0., 0., 0., 0., 0., 0., 0., 0., 0., 0., 0., 0.,\n",
       "        0., 0., 0., 0., 0., 0., 0., 0., 0., 0., 0., 0., 0., 0., 0., 0., 0.,\n",
       "        0., 0., 0., 0., 0.]),\n",
       " '>m64018_190216_000235/144836038': array([1., 0., 0., 0., 0., 0., 0., 0., 0., 0., 0., 0., 0., 0., 0., 0., 0.,\n",
       "        0., 0., 0., 0., 0., 0., 0., 0., 0., 0., 0., 0., 0., 0., 0., 0., 0.,\n",
       "        0., 0., 0., 0., 0.]),\n",
       " '>m64018_190317_023236/115213413': array([0., 0., 0., 0., 0., 0., 0., 0., 0., 0., 0., 0., 0., 0., 0., 0., 0.,\n",
       "        0., 0., 0., 0., 0., 0., 0., 0., 0., 0., 0., 0., 0., 0., 0., 0., 0.,\n",
       "        0., 0., 0., 0., 0.]),\n",
       " '>m64018_190315_202004/18678995': array([1., 0., 0., 0., 0., 0., 0., 0., 0., 0., 0., 0., 0., 0., 0., 0., 0.,\n",
       "        0., 0., 0., 0., 0., 0., 0., 0., 0., 0., 0., 0., 0., 0., 0., 0., 0.,\n",
       "        0., 0., 0., 0., 0.]),\n",
       " '>m64018_190317_023236/52102948': array([1., 1., 0., 0., 0., 0., 0., 0., 0., 0., 0., 0., 0., 0., 0., 0., 0.,\n",
       "        0., 0., 0., 0., 0., 0., 0., 0., 0., 0., 0., 0., 0., 0., 0., 0., 0.,\n",
       "        0., 0., 0., 0., 0.]),\n",
       " '>m64018_190315_202004/48038198': array([1., 0., 0., 0., 0., 0., 0., 0., 0., 0., 0., 0., 0., 0., 0., 0., 0.,\n",
       "        0., 0., 0., 0., 0., 0., 0., 0., 0., 0., 0., 0., 0., 0., 0., 0., 0.,\n",
       "        0., 0., 0., 0., 0.]),\n",
       " '>m64018_190315_202004/42076376': array([1., 0., 0., 0., 0., 0., 0., 0., 0., 0., 0., 0., 0., 0., 0., 0., 0.,\n",
       "        0., 0., 0., 0., 0., 0., 0., 0., 0., 0., 0., 0., 0., 0., 0., 0., 0.,\n",
       "        0., 0., 0., 0., 0.]),\n",
       " '>m64018_190315_202004/75564321': array([1., 1., 1., 0., 0., 0., 0., 0., 0., 0., 0., 0., 0., 0., 0., 0., 0.,\n",
       "        0., 0., 0., 0., 0., 0., 0., 0., 0., 0., 0., 0., 0., 0., 0., 0., 0.,\n",
       "        0., 0., 0., 0., 0.]),\n",
       " '>m64018_190317_023236/56101022': array([1., 0., 0., 0., 0., 0., 0., 0., 0., 0., 0., 0., 0., 0., 0., 0., 0.,\n",
       "        0., 0., 0., 0., 0., 0., 0., 0., 0., 0., 0., 0., 0., 0., 0., 0., 0.,\n",
       "        0., 0., 0., 0., 0.]),\n",
       " '>m64018_190217_061625/33032795': array([1., 1., 1., 1., 0., 0., 0., 0., 0., 0., 0., 0., 0., 0., 0., 0., 0.,\n",
       "        0., 0., 0., 0., 0., 0., 0., 0., 0., 0., 0., 0., 0., 0., 0., 0., 0.,\n",
       "        0., 0., 0., 0., 0.]),\n",
       " '>m64018_190317_023236/87820762': array([1., 1., 1., 0., 0., 0., 0., 0., 0., 0., 0., 0., 0., 0., 0., 0., 0.,\n",
       "        0., 0., 0., 0., 0., 0., 0., 0., 0., 0., 0., 0., 0., 0., 0., 0., 0.,\n",
       "        0., 0., 0., 0., 0.]),\n",
       " '>m64018_190217_061625/72942111': array([1., 1., 1., 1., 1., 1., 1., 1., 0., 0., 0., 0., 0., 0., 0., 0., 0.,\n",
       "        0., 0., 0., 0., 0., 0., 0., 0., 0., 0., 0., 0., 0., 0., 0., 0., 0.,\n",
       "        0., 0., 0., 0., 0.]),\n",
       " '>m64018_190217_061625/108071017': array([1., 1., 1., 1., 1., 1., 1., 0., 0., 0., 0., 0., 0., 0., 0., 0., 0.,\n",
       "        0., 0., 0., 0., 0., 0., 0., 0., 0., 0., 0., 0., 0., 0., 0., 0., 0.,\n",
       "        0., 0., 0., 0., 0.]),\n",
       " '>m64018_190315_202004/180289658': array([1., 1., 1., 1., 1., 1., 1., 1., 1., 0., 0., 0., 0., 0., 0., 0., 0.,\n",
       "        0., 0., 0., 0., 0., 0., 0., 0., 0., 0., 0., 0., 0., 0., 0., 0., 0.,\n",
       "        0., 0., 0., 0., 0.]),\n",
       " '>m64018_190217_061625/7406081': array([1., 1., 1., 1., 1., 1., 1., 1., 1., 1., 1., 1., 1., 0., 0., 0., 0.,\n",
       "        0., 0., 0., 0., 0., 0., 0., 0., 0., 0., 0., 0., 0., 0., 0., 0., 0.,\n",
       "        0., 0., 0., 0., 0.]),\n",
       " '>m64018_190405_235043/164430559': array([1., 1., 1., 1., 1., 0., 0., 0., 0., 0., 0., 0., 0., 0., 0., 0., 0.,\n",
       "        0., 0., 0., 0., 0., 0., 0., 0., 0., 0., 0., 0., 0., 0., 0., 0., 0.,\n",
       "        0., 0., 0., 0., 0.]),\n",
       " '>m64018_190317_023236/119604258': array([1., 1., 1., 1., 1., 1., 1., 1., 1., 1., 1., 1., 1., 1., 1., 0., 0.,\n",
       "        0., 0., 0., 0., 0., 0., 0., 0., 0., 0., 0., 0., 0., 0., 0., 0., 0.,\n",
       "        0., 0., 0., 0., 0.]),\n",
       " '>m64018_190315_202004/120260546': array([1., 1., 1., 1., 1., 1., 1., 1., 1., 1., 0., 0., 0., 0., 0., 0., 0.,\n",
       "        0., 0., 0., 0., 0., 0., 0., 0., 0., 0., 0., 0., 0., 0., 0., 0., 0.,\n",
       "        0., 0., 0., 0., 0.]),\n",
       " '>m64018_190315_202004/113378253': array([1., 1., 1., 1., 1., 1., 1., 1., 1., 1., 0., 0., 0., 0., 0., 0., 0.,\n",
       "        0., 0., 0., 0., 0., 0., 0., 0., 0., 0., 0., 0., 0., 0., 0., 0., 0.,\n",
       "        0., 0., 0., 0., 0.]),\n",
       " '>m64018_190217_061625/126486547': array([1., 1., 1., 1., 1., 1., 1., 1., 1., 1., 0., 0., 0., 0., 0., 0., 0.,\n",
       "        0., 0., 0., 0., 0., 0., 0., 0., 0., 0., 0., 0., 0., 0., 0., 0., 0.,\n",
       "        0., 0., 0., 0., 0.]),\n",
       " '>m64018_190217_061625/145359425': array([1., 1., 1., 1., 1., 1., 1., 1., 1., 1., 1., 1., 1., 1., 1., 1., 1.,\n",
       "        0., 0., 0., 0., 0., 0., 0., 0., 0., 0., 0., 0., 0., 0., 0., 0., 0.,\n",
       "        0., 0., 0., 0., 0.]),\n",
       " '>m64018_190315_202004/13240477': array([1., 1., 1., 1., 1., 1., 1., 1., 1., 1., 0., 0., 0., 0., 0., 0., 0.,\n",
       "        0., 0., 0., 0., 0., 0., 0., 0., 0., 0., 0., 0., 0., 0., 0., 0., 0.,\n",
       "        0., 0., 0., 0., 0.]),\n",
       " '>m64018_190317_023236/85591472': array([1., 1., 1., 1., 1., 1., 1., 1., 1., 1., 1., 1., 1., 1., 1., 1., 0.,\n",
       "        0., 0., 0., 0., 0., 0., 0., 0., 0., 0., 0., 0., 0., 0., 0., 0., 0.,\n",
       "        0., 0., 0., 0., 0.]),\n",
       " '>m64018_190315_202004/30212376': array([1., 1., 1., 1., 1., 1., 1., 1., 1., 1., 1., 1., 1., 0., 0., 0., 0.,\n",
       "        0., 0., 0., 0., 0., 0., 0., 0., 0., 0., 0., 0., 0., 0., 0., 0., 0.,\n",
       "        0., 0., 0., 0., 0.]),\n",
       " '>m64018_190405_235043/115212938': array([1., 1., 1., 1., 1., 1., 1., 1., 1., 1., 1., 1., 1., 1., 0., 0., 0.,\n",
       "        0., 0., 0., 0., 0., 0., 0., 0., 0., 0., 0., 0., 0., 0., 0., 0., 0.,\n",
       "        0., 0., 0., 0., 0.]),\n",
       " '>m64018_190405_235043/145426660': array([1., 1., 1., 1., 1., 1., 1., 1., 1., 1., 1., 1., 0., 0., 0., 0., 0.,\n",
       "        0., 0., 0., 0., 0., 0., 0., 0., 0., 0., 0., 0., 0., 0., 0., 0., 0.,\n",
       "        0., 0., 0., 0., 0.]),\n",
       " '>m64018_190315_202004/44632872': array([1., 1., 1., 1., 1., 1., 1., 1., 1., 1., 1., 1., 1., 1., 1., 1., 0.,\n",
       "        0., 0., 0., 0., 0., 0., 0., 0., 0., 0., 0., 0., 0., 0., 0., 0., 0.,\n",
       "        0., 0., 0., 0., 0.]),\n",
       " '>m64018_190317_023236/80218417': array([1., 1., 1., 1., 1., 1., 1., 1., 1., 1., 1., 1., 1., 1., 1., 1., 1.,\n",
       "        1., 1., 1., 0., 0., 0., 0., 0., 0., 0., 0., 0., 0., 0., 0., 0., 0.,\n",
       "        0., 0., 0., 0., 0.]),\n",
       " '>m64018_190217_061625/22938728': array([1., 1., 1., 1., 1., 1., 1., 1., 1., 1., 1., 1., 1., 0., 0., 0., 0.,\n",
       "        0., 0., 0., 0., 0., 0., 0., 0., 0., 0., 0., 0., 0., 0., 0., 0., 0.,\n",
       "        0., 0., 0., 0., 0.]),\n",
       " '>m64018_190216_000235/143262538': array([1., 1., 1., 1., 1., 1., 1., 1., 1., 1., 1., 1., 1., 1., 1., 1., 1.,\n",
       "        1., 1., 1., 1., 1., 1., 1., 1., 0., 0., 0., 0., 0., 0., 0., 0., 0.,\n",
       "        0., 0., 0., 0., 0.]),\n",
       " '>m64018_190216_000235/52824557': array([1., 1., 1., 1., 1., 1., 1., 1., 1., 1., 1., 1., 1., 1., 1., 1., 1.,\n",
       "        1., 1., 0., 0., 0., 0., 0., 0., 0., 0., 0., 0., 0., 0., 0., 0., 0.,\n",
       "        0., 0., 0., 0., 0.]),\n",
       " '>m64018_190317_023236/127337409': array([1., 1., 1., 1., 1., 1., 1., 1., 1., 1., 1., 1., 1., 1., 1., 1., 1.,\n",
       "        1., 0., 0., 0., 0., 0., 0., 0., 0., 0., 0., 0., 0., 0., 0., 0., 0.,\n",
       "        0., 0., 0., 0., 0.]),\n",
       " '>m64018_190405_235043/7407814': array([1., 1., 1., 1., 1., 1., 1., 1., 1., 1., 1., 1., 1., 1., 0., 0., 0.,\n",
       "        0., 0., 0., 0., 0., 0., 0., 0., 0., 0., 0., 0., 0., 0., 0., 0., 0.,\n",
       "        0., 0., 0., 0., 0.]),\n",
       " '>m64018_190217_061625/178192389': array([1., 1., 1., 1., 1., 1., 1., 1., 1., 1., 1., 1., 1., 1., 1., 1., 1.,\n",
       "        1., 1., 1., 1., 0., 0., 0., 0., 0., 0., 0., 0., 0., 0., 0., 0., 0.,\n",
       "        0., 0., 0., 0., 0.]),\n",
       " '>m64018_190217_061625/76218600': array([1., 1., 1., 1., 1., 1., 1., 1., 1., 1., 1., 1., 1., 1., 1., 1., 1.,\n",
       "        1., 1., 1., 1., 1., 1., 1., 1., 1., 0., 0., 0., 0., 0., 0., 0., 0.,\n",
       "        0., 0., 0., 0., 0.]),\n",
       " '>m64018_190317_023236/3867724': array([1., 1., 1., 1., 1., 1., 1., 1., 1., 1., 1., 1., 1., 1., 1., 0., 0.,\n",
       "        0., 0., 0., 0., 0., 0., 0., 0., 0., 0., 0., 0., 0., 0., 0., 0., 0.,\n",
       "        0., 0., 0., 0., 0.]),\n",
       " '>m64018_190216_000235/153878748': array([1., 1., 1., 1., 1., 1., 1., 1., 1., 1., 1., 1., 1., 1., 1., 1., 1.,\n",
       "        1., 1., 1., 1., 0., 0., 0., 0., 0., 0., 0., 0., 0., 0., 0., 0., 0.,\n",
       "        0., 0., 0., 0., 0.]),\n",
       " '>m64018_190317_023236/170787840': array([1., 1., 1., 1., 1., 1., 1., 1., 1., 1., 1., 1., 1., 1., 1., 0., 0.,\n",
       "        0., 0., 0., 0., 0., 0., 0., 0., 0., 0., 0., 0., 0., 0., 0., 0., 0.,\n",
       "        0., 0., 0., 0., 0.]),\n",
       " '>m64018_190217_061625/93653348': array([1., 1., 1., 1., 1., 1., 1., 1., 1., 1., 1., 1., 1., 1., 1., 1., 1.,\n",
       "        1., 0., 0., 0., 0., 0., 0., 0., 0., 0., 0., 0., 0., 0., 0., 0., 0.,\n",
       "        0., 0., 0., 0., 0.]),\n",
       " '>m64018_190216_000235/20711272': array([1., 1., 1., 1., 1., 1., 1., 1., 1., 1., 1., 1., 1., 1., 1., 1., 1.,\n",
       "        1., 0., 0., 0., 0., 0., 0., 0., 0., 0., 0., 0., 0., 0., 0., 0., 0.,\n",
       "        0., 0., 0., 0., 0.]),\n",
       " '>m64018_190216_000235/106300655': array([1., 1., 1., 1., 1., 1., 1., 1., 1., 1., 1., 1., 1., 1., 1., 1., 1.,\n",
       "        1., 0., 0., 0., 0., 0., 0., 0., 0., 0., 0., 0., 0., 0., 0., 0., 0.,\n",
       "        0., 0., 0., 0., 0.]),\n",
       " '>m64018_190216_000235/16581919': array([1., 1., 1., 1., 1., 1., 1., 1., 1., 1., 1., 1., 1., 1., 1., 1., 0.,\n",
       "        0., 0., 0., 0., 0., 0., 0., 0., 0., 0., 0., 0., 0., 0., 0., 0., 0.,\n",
       "        0., 0., 0., 0., 0.]),\n",
       " '>m64018_190217_061625/21760487': array([1., 1., 1., 1., 1., 1., 1., 1., 1., 1., 1., 1., 1., 1., 1., 1., 1.,\n",
       "        1., 1., 1., 1., 1., 0., 0., 0., 0., 0., 0., 0., 0., 0., 0., 0., 0.,\n",
       "        0., 0., 0., 0., 0.]),\n",
       " '>m64018_190216_000235/98962155': array([1., 1., 1., 1., 1., 1., 1., 1., 1., 1., 1., 1., 0., 0., 0., 0., 0.,\n",
       "        0., 0., 0., 0., 0., 0., 0., 0., 0., 0., 0., 0., 0., 0., 0., 0., 0.,\n",
       "        0., 0., 0., 0., 0.]),\n",
       " '>m64018_190315_202004/29558284': array([1., 1., 1., 1., 1., 1., 1., 1., 1., 1., 1., 1., 1., 1., 1., 1., 1.,\n",
       "        0., 0., 0., 0., 0., 0., 0., 0., 0., 0., 0., 0., 0., 0., 0., 0., 0.,\n",
       "        0., 0., 0., 0., 0.]),\n",
       " '>m64018_190216_000235/62914698': array([1., 1., 1., 1., 1., 1., 1., 1., 1., 1., 1., 1., 1., 1., 1., 1., 1.,\n",
       "        1., 1., 1., 1., 1., 0., 0., 0., 0., 0., 0., 0., 0., 0., 0., 0., 0.,\n",
       "        0., 0., 0., 0., 0.]),\n",
       " '>m64018_190216_000235/99025574': array([1., 1., 1., 1., 1., 1., 1., 1., 1., 1., 1., 1., 1., 1., 1., 1., 1.,\n",
       "        1., 1., 1., 1., 0., 0., 0., 0., 0., 0., 0., 0., 0., 0., 0., 0., 0.,\n",
       "        0., 0., 0., 0., 0.]),\n",
       " '>m64018_190315_202004/127207774': array([1., 1., 1., 1., 1., 1., 1., 1., 1., 1., 1., 1., 1., 1., 1., 1., 1.,\n",
       "        1., 1., 0., 0., 0., 0., 0., 0., 0., 0., 0., 0., 0., 0., 0., 0., 0.,\n",
       "        0., 0., 0., 0., 0.]),\n",
       " '>m64018_190317_023236/105841904': array([1., 1., 1., 1., 1., 1., 1., 1., 1., 1., 1., 1., 1., 1., 1., 1., 0.,\n",
       "        0., 0., 0., 0., 0., 0., 0., 0., 0., 0., 0., 0., 0., 0., 0., 0., 0.,\n",
       "        0., 0., 0., 0., 0.]),\n",
       " '>m64018_190216_000235/105645448': array([1., 1., 1., 1., 1., 1., 1., 1., 1., 1., 1., 1., 1., 1., 1., 1., 1.,\n",
       "        1., 1., 1., 1., 1., 0., 0., 0., 0., 0., 0., 0., 0., 0., 0., 0., 0.,\n",
       "        0., 0., 0., 0., 0.]),\n",
       " '>m64018_190217_061625/49545335': array([1., 1., 1., 1., 1., 1., 1., 1., 1., 1., 1., 1., 1., 1., 1., 1., 1.,\n",
       "        1., 1., 1., 0., 0., 0., 0., 0., 0., 0., 0., 0., 0., 0., 0., 0., 0.,\n",
       "        0., 0., 0., 0., 0.]),\n",
       " '>m64018_190405_235043/15272191': array([1., 1., 1., 1., 1., 1., 1., 1., 1., 1., 1., 1., 1., 1., 1., 1., 1.,\n",
       "        1., 1., 1., 0., 0., 0., 0., 0., 0., 0., 0., 0., 0., 0., 0., 0., 0.,\n",
       "        0., 0., 0., 0., 0.]),\n",
       " '>m64018_190217_061625/32375300': array([1., 1., 1., 1., 1., 1., 1., 1., 1., 1., 1., 1., 1., 1., 1., 1., 1.,\n",
       "        1., 1., 1., 1., 1., 1., 1., 1., 0., 0., 0., 0., 0., 0., 0., 0., 0.,\n",
       "        0., 0., 0., 0., 0.]),\n",
       " '>m64018_190317_023236/68815120': array([1., 1., 1., 1., 1., 1., 1., 1., 1., 1., 1., 1., 1., 1., 1., 1., 1.,\n",
       "        1., 1., 0., 0., 0., 0., 0., 0., 0., 0., 0., 0., 0., 0., 0., 0., 0.,\n",
       "        0., 0., 0., 0., 0.]),\n",
       " '>m64018_190405_235043/4195327': array([1., 1., 1., 1., 1., 1., 1., 1., 1., 1., 1., 1., 1., 1., 1., 1., 1.,\n",
       "        1., 0., 0., 0., 0., 0., 0., 0., 0., 0., 0., 0., 0., 0., 0., 0., 0.,\n",
       "        0., 0., 0., 0., 0.]),\n",
       " '>m64018_190217_061625/68486398': array([1., 1., 1., 1., 1., 1., 1., 1., 1., 1., 1., 1., 1., 1., 1., 1., 1.,\n",
       "        1., 1., 1., 1., 1., 0., 0., 0., 0., 0., 0., 0., 0., 0., 0., 0., 0.,\n",
       "        0., 0., 0., 0., 0.]),\n",
       " '>m64018_190317_023236/102041558': array([1., 1., 1., 1., 1., 1., 1., 1., 1., 1., 1., 1., 1., 1., 1., 1., 1.,\n",
       "        1., 1., 1., 1., 0., 0., 0., 0., 0., 0., 0., 0., 0., 0., 0., 0., 0.,\n",
       "        0., 0., 0., 0., 0.]),\n",
       " '>m64018_190216_000235/28312708': array([1., 1., 1., 1., 1., 1., 1., 1., 1., 1., 1., 1., 1., 1., 1., 1., 1.,\n",
       "        1., 1., 1., 1., 1., 1., 0., 0., 0., 0., 0., 0., 0., 0., 0., 0., 0.,\n",
       "        0., 0., 0., 0., 0.]),\n",
       " '>m64018_190317_023236/149488639': array([1., 1., 1., 1., 1., 1., 1., 1., 1., 1., 1., 1., 1., 1., 1., 1., 1.,\n",
       "        1., 1., 1., 1., 1., 1., 0., 0., 0., 0., 0., 0., 0., 0., 0., 0., 0.,\n",
       "        0., 0., 0., 0., 0.]),\n",
       " '>m64018_190315_202004/9897483': array([1., 1., 1., 1., 1., 1., 1., 1., 1., 1., 1., 1., 1., 1., 1., 1., 1.,\n",
       "        1., 1., 1., 0., 0., 0., 0., 0., 0., 0., 0., 0., 0., 0., 0., 0., 0.,\n",
       "        0., 0., 0., 0., 0.]),\n",
       " '>m64018_190216_000235/76808888': array([1., 1., 1., 1., 1., 1., 1., 1., 1., 1., 0., 0., 0., 0., 0., 0., 0.,\n",
       "        0., 0., 0., 0., 0., 0., 0., 0., 0., 0., 0., 0., 0., 0., 0., 0., 0.,\n",
       "        0., 0., 0., 0., 0.]),\n",
       " '>m64018_190317_023236/137169245': array([1., 1., 1., 1., 1., 1., 1., 1., 1., 1., 1., 1., 1., 1., 1., 1., 1.,\n",
       "        1., 1., 1., 0., 0., 0., 0., 0., 0., 0., 0., 0., 0., 0., 0., 0., 0.,\n",
       "        0., 0., 0., 0., 0.]),\n",
       " '>m64018_190216_000235/139198911': array([1., 1., 1., 1., 1., 1., 1., 1., 1., 1., 1., 1., 1., 1., 1., 1., 1.,\n",
       "        0., 0., 0., 0., 0., 0., 0., 0., 0., 0., 0., 0., 0., 0., 0., 0., 0.,\n",
       "        0., 0., 0., 0., 0.]),\n",
       " '>m64018_190217_061625/162073153': array([1., 1., 1., 1., 1., 1., 1., 1., 1., 1., 1., 1., 1., 1., 1., 1., 1.,\n",
       "        0., 0., 0., 0., 0., 0., 0., 0., 0., 0., 0., 0., 0., 0., 0., 0., 0.,\n",
       "        0., 0., 0., 0., 0.]),\n",
       " '>m64018_190317_023236/179899138': array([1., 1., 1., 1., 1., 1., 1., 1., 1., 1., 1., 1., 1., 1., 1., 1., 1.,\n",
       "        1., 1., 1., 1., 1., 0., 0., 0., 0., 0., 0., 0., 0., 0., 0., 0., 0.,\n",
       "        0., 0., 0., 0., 0.]),\n",
       " '>m64018_190405_235043/67241910': array([1., 1., 1., 1., 1., 1., 1., 1., 1., 1., 1., 1., 1., 0., 0., 0., 0.,\n",
       "        0., 0., 0., 0., 0., 0., 0., 0., 0., 0., 0., 0., 0., 0., 0., 0., 0.,\n",
       "        0., 0., 0., 0., 0.]),\n",
       " '>m64018_190216_000235/10355196': array([1., 1., 1., 1., 1., 1., 1., 1., 1., 1., 1., 1., 1., 1., 1., 0., 0.,\n",
       "        0., 0., 0., 0., 0., 0., 0., 0., 0., 0., 0., 0., 0., 0., 0., 0., 0.,\n",
       "        0., 0., 0., 0., 0.]),\n",
       " '>m64018_190315_202004/161284297': array([1., 1., 1., 1., 1., 1., 1., 1., 1., 1., 1., 1., 1., 1., 1., 1., 1.,\n",
       "        1., 1., 0., 0., 0., 0., 0., 0., 0., 0., 0., 0., 0., 0., 0., 0., 0.,\n",
       "        0., 0., 0., 0., 0.]),\n",
       " '>m64018_190317_023236/36112385': array([1., 1., 1., 1., 1., 1., 1., 1., 1., 1., 1., 1., 1., 1., 1., 1., 1.,\n",
       "        1., 1., 1., 1., 0., 0., 0., 0., 0., 0., 0., 0., 0., 0., 0., 0., 0.,\n",
       "        0., 0., 0., 0., 0.]),\n",
       " '>m64018_190315_202004/145032476': array([1., 1., 1., 1., 1., 1., 1., 1., 1., 1., 1., 1., 1., 1., 1., 1., 1.,\n",
       "        1., 1., 1., 1., 1., 0., 0., 0., 0., 0., 0., 0., 0., 0., 0., 0., 0.,\n",
       "        0., 0., 0., 0., 0.]),\n",
       " '>m64018_190317_023236/67240164': array([1., 1., 1., 1., 1., 1., 1., 1., 1., 1., 1., 1., 1., 1., 1., 1., 1.,\n",
       "        1., 1., 1., 1., 1., 0., 0., 0., 0., 0., 0., 0., 0., 0., 0., 0., 0.,\n",
       "        0., 0., 0., 0., 0.]),\n",
       " '>m64018_190216_000235/152635025': array([1., 1., 1., 1., 1., 1., 1., 1., 1., 1., 1., 1., 1., 1., 1., 1., 1.,\n",
       "        1., 1., 1., 1., 0., 0., 0., 0., 0., 0., 0., 0., 0., 0., 0., 0., 0.,\n",
       "        0., 0., 0., 0., 0.]),\n",
       " '>m64018_190317_023236/111346491': array([1., 1., 1., 1., 1., 1., 1., 1., 1., 1., 1., 1., 1., 1., 1., 1., 1.,\n",
       "        1., 1., 1., 0., 0., 0., 0., 0., 0., 0., 0., 0., 0., 0., 0., 0., 0.,\n",
       "        0., 0., 0., 0., 0.]),\n",
       " '>m64018_190216_000235/152437312': array([1., 1., 1., 1., 1., 1., 1., 1., 1., 1., 1., 1., 1., 1., 1., 1., 1.,\n",
       "        1., 1., 1., 1., 1., 0., 0., 0., 0., 0., 0., 0., 0., 0., 0., 0., 0.,\n",
       "        0., 0., 0., 0., 0.]),\n",
       " '>m64018_190405_235043/100861108': array([1., 1., 1., 1., 1., 1., 1., 1., 1., 1., 1., 1., 1., 1., 1., 1., 1.,\n",
       "        0., 0., 0., 0., 0., 0., 0., 0., 0., 0., 0., 0., 0., 0., 0., 0., 0.,\n",
       "        0., 0., 0., 0., 0.]),\n",
       " '>m64018_190405_235043/33948993': array([1., 1., 1., 1., 1., 1., 1., 1., 1., 1., 1., 1., 1., 1., 1., 1., 1.,\n",
       "        1., 1., 0., 0., 0., 0., 0., 0., 0., 0., 0., 0., 0., 0., 0., 0., 0.,\n",
       "        0., 0., 0., 0., 0.]),\n",
       " '>m64018_190317_023236/21826248': array([1., 1., 1., 1., 1., 1., 1., 1., 1., 1., 1., 1., 1., 0., 0., 0., 0.,\n",
       "        0., 0., 0., 0., 0., 0., 0., 0., 0., 0., 0., 0., 0., 0., 0., 0., 0.,\n",
       "        0., 0., 0., 0., 0.]),\n",
       " '>m64018_190216_000235/79103665': array([1., 1., 1., 1., 1., 1., 1., 1., 1., 1., 1., 1., 1., 1., 1., 1., 0.,\n",
       "        0., 0., 0., 0., 0., 0., 0., 0., 0., 0., 0., 0., 0., 0., 0., 0., 0.,\n",
       "        0., 0., 0., 0., 0.]),\n",
       " '>m64018_190405_235043/154272015': array([1., 1., 1., 1., 1., 1., 1., 1., 1., 1., 1., 1., 1., 1., 1., 1., 1.,\n",
       "        1., 1., 0., 0., 0., 0., 0., 0., 0., 0., 0., 0., 0., 0., 0., 0., 0.,\n",
       "        0., 0., 0., 0., 0.]),\n",
       " '>m64018_190216_000235/18221704': array([1., 1., 1., 1., 1., 1., 1., 1., 1., 1., 1., 1., 1., 1., 1., 1., 1.,\n",
       "        1., 1., 1., 1., 1., 1., 1., 1., 1., 0., 0., 0., 0., 0., 0., 0., 0.,\n",
       "        0., 0., 0., 0., 0.]),\n",
       " '>m64018_190315_202004/52692370': array([1., 1., 1., 1., 1., 1., 1., 1., 1., 1., 1., 1., 1., 1., 1., 1., 1.,\n",
       "        1., 0., 0., 0., 0., 0., 0., 0., 0., 0., 0., 0., 0., 0., 0., 0., 0.,\n",
       "        0., 0., 0., 0., 0.]),\n",
       " '>m64018_190216_000235/46598539': array([1., 1., 1., 1., 1., 1., 1., 1., 1., 1., 1., 1., 1., 1., 1., 1., 1.,\n",
       "        1., 1., 1., 1., 1., 1., 0., 0., 0., 0., 0., 0., 0., 0., 0., 0., 0.,\n",
       "        0., 0., 0., 0., 0.]),\n",
       " '>m64018_190405_235043/136186572': array([1., 1., 1., 1., 1., 1., 1., 1., 1., 1., 1., 1., 1., 1., 1., 1., 1.,\n",
       "        1., 1., 1., 0., 0., 0., 0., 0., 0., 0., 0., 0., 0., 0., 0., 0., 0.,\n",
       "        0., 0., 0., 0., 0.]),\n",
       " '>m64018_190217_061625/131336235': array([1., 1., 1., 1., 1., 1., 1., 1., 1., 1., 1., 1., 1., 1., 1., 1., 0.,\n",
       "        0., 0., 0., 0., 0., 0., 0., 0., 0., 0., 0., 0., 0., 0., 0., 0., 0.,\n",
       "        0., 0., 0., 0., 0.]),\n",
       " '>m64018_190317_023236/144640285': array([1., 1., 1., 1., 1., 1., 1., 1., 1., 1., 1., 1., 1., 1., 1., 1., 1.,\n",
       "        0., 0., 0., 0., 0., 0., 0., 0., 0., 0., 0., 0., 0., 0., 0., 0., 0.,\n",
       "        0., 0., 0., 0., 0.]),\n",
       " '>m64018_190216_000235/1966924': array([1., 1., 1., 1., 1., 1., 1., 1., 1., 1., 1., 1., 1., 1., 1., 1., 1.,\n",
       "        1., 1., 1., 1., 0., 0., 0., 0., 0., 0., 0., 0., 0., 0., 0., 0., 0.,\n",
       "        0., 0., 0., 0., 0.]),\n",
       " '>m64018_190317_023236/7930441': array([1., 1., 1., 1., 1., 1., 1., 1., 1., 1., 1., 1., 1., 1., 1., 1., 1.,\n",
       "        1., 1., 0., 0., 0., 0., 0., 0., 0., 0., 0., 0., 0., 0., 0., 0., 0.,\n",
       "        0., 0., 0., 0., 0.]),\n",
       " '>m64018_190315_202004/107348694': array([1., 1., 1., 1., 1., 1., 1., 1., 1., 1., 1., 1., 1., 1., 1., 1., 1.,\n",
       "        1., 1., 0., 0., 0., 0., 0., 0., 0., 0., 0., 0., 0., 0., 0., 0., 0.,\n",
       "        0., 0., 0., 0., 0.]),\n",
       " '>m64018_190217_061625/108856074': array([1., 1., 1., 1., 1., 1., 1., 1., 1., 1., 1., 1., 1., 1., 1., 1., 1.,\n",
       "        1., 1., 1., 1., 1., 1., 0., 0., 0., 0., 0., 0., 0., 0., 0., 0., 0.,\n",
       "        0., 0., 0., 0., 0.]),\n",
       " '>m64018_190317_023236/94176332': array([1., 1., 1., 1., 1., 1., 1., 1., 1., 1., 1., 1., 1., 1., 1., 1., 0.,\n",
       "        0., 0., 0., 0., 0., 0., 0., 0., 0., 0., 0., 0., 0., 0., 0., 0., 0.,\n",
       "        0., 0., 0., 0., 0.]),\n",
       " '>m64018_190217_061625/54658407': array([1., 1., 1., 1., 1., 1., 1., 1., 1., 1., 1., 1., 1., 1., 1., 1., 1.,\n",
       "        1., 1., 1., 1., 1., 1., 1., 1., 1., 1., 1., 1., 0., 0., 0., 0., 0.,\n",
       "        0., 0., 0., 0., 0.]),\n",
       " '>m64018_190405_235043/50923315': array([1., 1., 1., 1., 1., 1., 1., 1., 1., 1., 1., 1., 1., 1., 1., 1., 1.,\n",
       "        0., 0., 0., 0., 0., 0., 0., 0., 0., 0., 0., 0., 0., 0., 0., 0., 0.,\n",
       "        0., 0., 0., 0., 0.]),\n",
       " '>m64018_190217_061625/129566767': array([1., 1., 1., 1., 1., 1., 1., 1., 1., 1., 1., 1., 1., 1., 1., 1., 1.,\n",
       "        1., 1., 1., 1., 1., 1., 1., 1., 1., 0., 0., 0., 0., 0., 0., 0., 0.,\n",
       "        0., 0., 0., 0., 0.]),\n",
       " '>m64018_190315_202004/76022669': array([1., 1., 1., 1., 1., 1., 1., 1., 1., 1., 1., 1., 1., 1., 1., 1., 0.,\n",
       "        0., 0., 0., 0., 0., 0., 0., 0., 0., 0., 0., 0., 0., 0., 0., 0., 0.,\n",
       "        0., 0., 0., 0., 0.]),\n",
       " '>m64018_190216_000235/77988793': array([1., 1., 1., 1., 1., 1., 1., 1., 1., 1., 1., 1., 1., 1., 1., 1., 1.,\n",
       "        1., 1., 1., 1., 1., 1., 1., 0., 0., 0., 0., 0., 0., 0., 0., 0., 0.,\n",
       "        0., 0., 0., 0., 0.]),\n",
       " '>m64018_190405_235043/167118098': array([1., 1., 1., 1., 1., 1., 1., 1., 1., 1., 1., 1., 1., 1., 1., 1., 0.,\n",
       "        0., 0., 0., 0., 0., 0., 0., 0., 0., 0., 0., 0., 0., 0., 0., 0., 0.,\n",
       "        0., 0., 0., 0., 0.]),\n",
       " '>m64018_190216_000235/174130817': array([1., 1., 1., 1., 1., 1., 1., 1., 1., 0., 0., 0., 0., 0., 0., 0., 0.,\n",
       "        0., 0., 0., 0., 0., 0., 0., 0., 0., 0., 0., 0., 0., 0., 0., 0., 0.,\n",
       "        0., 0., 0., 0., 0.]),\n",
       " '>m64018_190217_061625/70975954': array([1., 1., 1., 1., 1., 1., 1., 1., 1., 1., 1., 1., 1., 1., 1., 1., 1.,\n",
       "        1., 1., 1., 1., 1., 1., 1., 0., 0., 0., 0., 0., 0., 0., 0., 0., 0.,\n",
       "        0., 0., 0., 0., 0.]),\n",
       " '>m64018_190217_061625/15074145': array([1., 1., 1., 1., 1., 1., 1., 1., 1., 1., 1., 1., 1., 1., 1., 1., 1.,\n",
       "        1., 0., 0., 0., 0., 0., 0., 0., 0., 0., 0., 0., 0., 0., 0., 0., 0.,\n",
       "        0., 0., 0., 0., 0.]),\n",
       " '>m64018_190217_061625/2624114': array([1., 1., 1., 1., 1., 1., 1., 1., 1., 1., 1., 1., 1., 1., 1., 1., 1.,\n",
       "        1., 1., 1., 1., 1., 1., 1., 1., 1., 0., 0., 0., 0., 0., 0., 0., 0.,\n",
       "        0., 0., 0., 0., 0.]),\n",
       " '>m64018_190317_023236/83362924': array([1., 1., 1., 1., 1., 1., 1., 1., 1., 1., 1., 1., 1., 1., 1., 1., 1.,\n",
       "        1., 0., 0., 0., 0., 0., 0., 0., 0., 0., 0., 0., 0., 0., 0., 0., 0.,\n",
       "        0., 0., 0., 0., 0.]),\n",
       " '>m64018_190217_061625/113771579': array([1., 1., 1., 1., 1., 1., 1., 1., 1., 1., 1., 1., 1., 1., 1., 1., 1.,\n",
       "        1., 1., 1., 1., 1., 0., 0., 0., 0., 0., 0., 0., 0., 0., 0., 0., 0.,\n",
       "        0., 0., 0., 0., 0.]),\n",
       " '>m64018_190216_000235/15991965': array([1., 1., 1., 1., 1., 1., 1., 1., 1., 1., 1., 1., 1., 1., 1., 1., 1.,\n",
       "        1., 1., 1., 1., 1., 1., 1., 1., 1., 1., 0., 0., 0., 0., 0., 0., 0.,\n",
       "        0., 0., 0., 0., 0.]),\n",
       " '>m64018_190217_061625/132251800': array([1., 1., 1., 1., 1., 1., 1., 1., 1., 1., 1., 1., 1., 1., 1., 1., 1.,\n",
       "        1., 1., 1., 0., 0., 0., 0., 0., 0., 0., 0., 0., 0., 0., 0., 0., 0.,\n",
       "        0., 0., 0., 0., 0.]),\n",
       " '>m64018_190217_061625/51840138': array([1., 1., 1., 1., 1., 1., 1., 1., 1., 1., 1., 1., 0., 0., 0., 0., 0.,\n",
       "        0., 0., 0., 0., 0., 0., 0., 0., 0., 0., 0., 0., 0., 0., 0., 0., 0.,\n",
       "        0., 0., 0., 0., 0.]),\n",
       " '>m64018_190216_000235/123013047': array([1., 1., 1., 1., 1., 1., 1., 1., 1., 1., 1., 1., 1., 1., 1., 1., 1.,\n",
       "        1., 1., 1., 1., 1., 1., 1., 0., 0., 0., 0., 0., 0., 0., 0., 0., 0.,\n",
       "        0., 0., 0., 0., 0.]),\n",
       " '>m64018_190217_061625/54329736': array([1., 1., 1., 1., 1., 1., 1., 1., 1., 1., 1., 1., 1., 1., 1., 1., 1.,\n",
       "        1., 1., 1., 0., 0., 0., 0., 0., 0., 0., 0., 0., 0., 0., 0., 0., 0.,\n",
       "        0., 0., 0., 0., 0.]),\n",
       " '>m64018_190216_000235/71631826': array([1., 1., 1., 1., 1., 1., 1., 1., 1., 1., 1., 1., 1., 1., 1., 1., 1.,\n",
       "        1., 1., 1., 1., 1., 0., 0., 0., 0., 0., 0., 0., 0., 0., 0., 0., 0.,\n",
       "        0., 0., 0., 0., 0.]),\n",
       " '>m64018_190317_023236/64553768': array([1., 1., 1., 1., 1., 1., 1., 1., 1., 1., 1., 1., 1., 1., 1., 1., 0.,\n",
       "        0., 0., 0., 0., 0., 0., 0., 0., 0., 0., 0., 0., 0., 0., 0., 0., 0.,\n",
       "        0., 0., 0., 0., 0.]),\n",
       " '>m64018_190315_202004/96731606': array([1., 1., 1., 1., 1., 1., 1., 1., 1., 1., 1., 1., 1., 1., 1., 1., 1.,\n",
       "        1., 0., 0., 0., 0., 0., 0., 0., 0., 0., 0., 0., 0., 0., 0., 0., 0.,\n",
       "        0., 0., 0., 0., 0.]),\n",
       " '>m64018_190216_000235/91818468': array([1., 1., 1., 1., 1., 1., 1., 1., 1., 1., 1., 1., 1., 1., 1., 1., 1.,\n",
       "        1., 1., 1., 1., 1., 1., 1., 0., 0., 0., 0., 0., 0., 0., 0., 0., 0.,\n",
       "        0., 0., 0., 0., 0.]),\n",
       " '>m64018_190317_023236/150144061': array([1., 1., 1., 1., 1., 1., 1., 1., 1., 1., 1., 1., 1., 1., 0., 0., 0.,\n",
       "        0., 0., 0., 0., 0., 0., 0., 0., 0., 0., 0., 0., 0., 0., 0., 0., 0.,\n",
       "        0., 0., 0., 0., 0.]),\n",
       " '>m64018_190217_061625/33882169': array([1., 1., 1., 1., 1., 1., 1., 1., 1., 1., 1., 1., 1., 1., 1., 1., 1.,\n",
       "        1., 1., 1., 1., 1., 0., 0., 0., 0., 0., 0., 0., 0., 0., 0., 0., 0.,\n",
       "        0., 0., 0., 0., 0.]),\n",
       " '>m64018_190315_202004/124848033': array([1., 1., 1., 1., 1., 1., 1., 1., 1., 1., 1., 1., 1., 1., 0., 0., 0.,\n",
       "        0., 0., 0., 0., 0., 0., 0., 0., 0., 0., 0., 0., 0., 0., 0., 0., 0.,\n",
       "        0., 0., 0., 0., 0.]),\n",
       " '>m64018_190217_061625/71436679': array([1., 1., 1., 1., 1., 1., 1., 1., 1., 1., 1., 1., 1., 1., 1., 1., 1.,\n",
       "        1., 1., 1., 0., 0., 0., 0., 0., 0., 0., 0., 0., 0., 0., 0., 0., 0.,\n",
       "        0., 0., 0., 0., 0.]),\n",
       " '>m64018_190317_023236/69993402': array([1., 1., 1., 1., 1., 1., 1., 1., 1., 1., 1., 1., 1., 1., 0., 0., 0.,\n",
       "        0., 0., 0., 0., 0., 0., 0., 0., 0., 0., 0., 0., 0., 0., 0., 0., 0.,\n",
       "        0., 0., 0., 0., 0.]),\n",
       " '>m64018_190315_202004/83822560': array([1., 1., 1., 1., 1., 1., 1., 1., 1., 1., 1., 1., 1., 1., 1., 1., 1.,\n",
       "        0., 0., 0., 0., 0., 0., 0., 0., 0., 0., 0., 0., 0., 0., 0., 0., 0.,\n",
       "        0., 0., 0., 0., 0.]),\n",
       " '>m64018_190405_235043/114165553': array([1., 1., 1., 1., 1., 1., 1., 1., 1., 1., 1., 1., 1., 1., 1., 1., 1.,\n",
       "        1., 1., 1., 0., 0., 0., 0., 0., 0., 0., 0., 0., 0., 0., 0., 0., 0.,\n",
       "        0., 0., 0., 0., 0.]),\n",
       " '>m64018_190216_000235/113837828': array([1., 1., 1., 1., 1., 1., 1., 1., 1., 1., 1., 1., 1., 1., 1., 1., 1.,\n",
       "        1., 1., 1., 1., 1., 1., 0., 0., 0., 0., 0., 0., 0., 0., 0., 0., 0.,\n",
       "        0., 0., 0., 0., 0.]),\n",
       " '>m64018_190216_000235/9766682': array([1., 1., 1., 1., 1., 1., 1., 1., 0., 0., 0., 0., 0., 0., 0., 0., 0.,\n",
       "        0., 0., 0., 0., 0., 0., 0., 0., 0., 0., 0., 0., 0., 0., 0., 0., 0.,\n",
       "        0., 0., 0., 0., 0.]),\n",
       " '>m64018_190405_235043/131991163': array([1., 1., 1., 1., 1., 1., 1., 1., 1., 1., 0., 0., 0., 0., 0., 0., 0.,\n",
       "        0., 0., 0., 0., 0., 0., 0., 0., 0., 0., 0., 0., 0., 0., 0., 0., 0.,\n",
       "        0., 0., 0., 0., 0.]),\n",
       " '>m64018_190216_000235/51710735': array([1., 1., 1., 1., 1., 1., 1., 1., 1., 1., 1., 1., 1., 1., 1., 1., 1.,\n",
       "        1., 1., 1., 1., 0., 0., 0., 0., 0., 0., 0., 0., 0., 0., 0., 0., 0.,\n",
       "        0., 0., 0., 0., 0.]),\n",
       " '>m64018_190216_000235/165741189': array([1., 1., 1., 1., 1., 1., 1., 1., 1., 1., 1., 1., 1., 1., 1., 1., 1.,\n",
       "        1., 1., 1., 1., 1., 1., 1., 0., 0., 0., 0., 0., 0., 0., 0., 0., 0.,\n",
       "        0., 0., 0., 0., 0.]),\n",
       " '>m64018_190216_000235/112527010': array([1., 1., 1., 1., 1., 1., 1., 1., 1., 1., 1., 1., 1., 1., 1., 1., 1.,\n",
       "        1., 1., 1., 1., 1., 1., 0., 0., 0., 0., 0., 0., 0., 0., 0., 0., 0.,\n",
       "        0., 0., 0., 0., 0.]),\n",
       " '>m64018_190216_000235/166135486': array([1., 1., 1., 1., 1., 1., 1., 1., 1., 1., 1., 1., 1., 1., 1., 1., 1.,\n",
       "        1., 1., 1., 0., 0., 0., 0., 0., 0., 0., 0., 0., 0., 0., 0., 0., 0.,\n",
       "        0., 0., 0., 0., 0.]),\n",
       " '>m64018_190217_061625/151848729': array([1., 1., 1., 1., 1., 1., 1., 1., 1., 1., 1., 1., 1., 1., 1., 1., 0.,\n",
       "        0., 0., 0., 0., 0., 0., 0., 0., 0., 0., 0., 0., 0., 0., 0., 0., 0.,\n",
       "        0., 0., 0., 0., 0.]),\n",
       " '>m64018_190315_202004/34145411': array([1., 1., 1., 1., 1., 1., 1., 1., 1., 1., 1., 1., 0., 0., 0., 0., 0.,\n",
       "        0., 0., 0., 0., 0., 0., 0., 0., 0., 0., 0., 0., 0., 0., 0., 0., 0.,\n",
       "        0., 0., 0., 0., 0.]),\n",
       " '>m64018_190405_235043/45550191': array([1., 1., 1., 1., 1., 1., 1., 1., 1., 1., 1., 1., 1., 1., 1., 1., 1.,\n",
       "        1., 1., 1., 1., 0., 0., 0., 0., 0., 0., 0., 0., 0., 0., 0., 0., 0.,\n",
       "        0., 0., 0., 0., 0.]),\n",
       " '>m64018_190317_023236/144703634': array([1., 1., 1., 1., 1., 1., 1., 1., 1., 1., 1., 0., 0., 0., 0., 0., 0.,\n",
       "        0., 0., 0., 0., 0., 0., 0., 0., 0., 0., 0., 0., 0., 0., 0., 0., 0.,\n",
       "        0., 0., 0., 0., 0.]),\n",
       " '>m64018_190217_061625/49546168': array([1., 1., 1., 1., 1., 1., 1., 1., 1., 1., 1., 1., 1., 1., 1., 1., 1.,\n",
       "        1., 1., 1., 1., 1., 1., 0., 0., 0., 0., 0., 0., 0., 0., 0., 0., 0.,\n",
       "        0., 0., 0., 0., 0.]),\n",
       " '>m64018_190315_202004/5046379': array([1., 1., 1., 1., 1., 1., 1., 1., 1., 1., 1., 1., 0., 0., 0., 0., 0.,\n",
       "        0., 0., 0., 0., 0., 0., 0., 0., 0., 0., 0., 0., 0., 0., 0., 0., 0.,\n",
       "        0., 0., 0., 0., 0.]),\n",
       " '>m64018_190315_202004/97912119': array([1., 1., 1., 1., 1., 1., 1., 1., 1., 1., 1., 1., 1., 1., 1., 1., 1.,\n",
       "        1., 1., 1., 0., 0., 0., 0., 0., 0., 0., 0., 0., 0., 0., 0., 0., 0.,\n",
       "        0., 0., 0., 0., 0.]),\n",
       " '>m64018_190317_023236/157223394': array([1., 1., 1., 1., 1., 1., 1., 1., 1., 1., 1., 1., 1., 1., 1., 0., 0.,\n",
       "        0., 0., 0., 0., 0., 0., 0., 0., 0., 0., 0., 0., 0., 0., 0., 0., 0.,\n",
       "        0., 0., 0., 0., 0.]),\n",
       " '>m64018_190315_202004/95553170': array([1., 1., 1., 1., 1., 1., 1., 1., 1., 1., 1., 1., 1., 1., 1., 1., 1.,\n",
       "        1., 1., 1., 1., 0., 0., 0., 0., 0., 0., 0., 0., 0., 0., 0., 0., 0.,\n",
       "        0., 0., 0., 0., 0.]),\n",
       " '>m64018_190217_061625/155585112': array([1., 1., 1., 1., 1., 1., 1., 1., 0., 0., 0., 0., 0., 0., 0., 0., 0.,\n",
       "        0., 0., 0., 0., 0., 0., 0., 0., 0., 0., 0., 0., 0., 0., 0., 0., 0.,\n",
       "        0., 0., 0., 0., 0.]),\n",
       " '>m64018_190315_202004/64815944': array([1., 1., 1., 1., 1., 1., 1., 1., 1., 1., 1., 1., 1., 1., 1., 1., 1.,\n",
       "        1., 1., 1., 1., 0., 0., 0., 0., 0., 0., 0., 0., 0., 0., 0., 0., 0.,\n",
       "        0., 0., 0., 0., 0.]),\n",
       " '>m64018_190217_061625/13567963': array([1., 1., 1., 1., 1., 1., 1., 1., 1., 1., 1., 1., 1., 1., 1., 1., 1.,\n",
       "        0., 0., 0., 0., 0., 0., 0., 0., 0., 0., 0., 0., 0., 0., 0., 0., 0.,\n",
       "        0., 0., 0., 0., 0.]),\n",
       " '>m64018_190317_023236/169610041': array([1., 1., 1., 1., 1., 1., 1., 1., 1., 1., 1., 1., 1., 1., 1., 1., 1.,\n",
       "        1., 0., 0., 0., 0., 0., 0., 0., 0., 0., 0., 0., 0., 0., 0., 0., 0.,\n",
       "        0., 0., 0., 0., 0.]),\n",
       " '>m64018_190315_202004/3605007': array([1., 1., 1., 1., 1., 1., 1., 1., 1., 1., 1., 1., 1., 1., 1., 1., 1.,\n",
       "        1., 1., 1., 0., 0., 0., 0., 0., 0., 0., 0., 0., 0., 0., 0., 0., 0.,\n",
       "        0., 0., 0., 0., 0.]),\n",
       " '>m64018_190315_202004/32899318': array([1., 1., 1., 1., 1., 1., 1., 1., 1., 1., 1., 1., 1., 1., 1., 1., 1.,\n",
       "        1., 1., 1., 0., 0., 0., 0., 0., 0., 0., 0., 0., 0., 0., 0., 0., 0.,\n",
       "        0., 0., 0., 0., 0.]),\n",
       " '>m64018_190217_061625/77399371': array([1., 1., 1., 1., 1., 1., 1., 1., 1., 1., 1., 1., 1., 1., 1., 1., 1.,\n",
       "        1., 1., 1., 1., 0., 0., 0., 0., 0., 0., 0., 0., 0., 0., 0., 0., 0.,\n",
       "        0., 0., 0., 0., 0.]),\n",
       " '>m64018_190216_000235/40633075': array([1., 1., 1., 1., 1., 1., 1., 1., 1., 1., 1., 1., 1., 1., 1., 1., 1.,\n",
       "        1., 1., 1., 1., 1., 1., 0., 0., 0., 0., 0., 0., 0., 0., 0., 0., 0.,\n",
       "        0., 0., 0., 0., 0.]),\n",
       " '>m64018_190315_202004/156960083': array([1., 1., 1., 1., 1., 1., 1., 1., 1., 1., 1., 1., 1., 1., 1., 1., 1.,\n",
       "        0., 0., 0., 0., 0., 0., 0., 0., 0., 0., 0., 0., 0., 0., 0., 0., 0.,\n",
       "        0., 0., 0., 0., 0.]),\n",
       " '>m64018_190317_023236/153289771': array([1., 1., 1., 1., 1., 1., 1., 1., 1., 1., 1., 1., 1., 1., 1., 1., 1.,\n",
       "        1., 0., 0., 0., 0., 0., 0., 0., 0., 0., 0., 0., 0., 0., 0., 0., 0.,\n",
       "        0., 0., 0., 0., 0.]),\n",
       " '>m64018_190216_000235/32507340': array([1., 1., 1., 1., 1., 1., 1., 1., 1., 1., 1., 1., 1., 1., 1., 1., 1.,\n",
       "        1., 1., 0., 0., 0., 0., 0., 0., 0., 0., 0., 0., 0., 0., 0., 0., 0.,\n",
       "        0., 0., 0., 0., 0.]),\n",
       " '>m64018_190217_061625/178455052': array([1., 1., 1., 1., 1., 1., 1., 1., 1., 1., 1., 1., 1., 1., 1., 1., 1.,\n",
       "        1., 1., 1., 1., 1., 0., 0., 0., 0., 0., 0., 0., 0., 0., 0., 0., 0.,\n",
       "        0., 0., 0., 0., 0.]),\n",
       " '>m64018_190216_000235/158728493': array([1., 1., 1., 1., 1., 1., 1., 1., 1., 1., 1., 1., 1., 1., 1., 1., 1.,\n",
       "        1., 1., 1., 1., 1., 0., 0., 0., 0., 0., 0., 0., 0., 0., 0., 0., 0.,\n",
       "        0., 0., 0., 0., 0.]),\n",
       " '>m64018_190317_023236/11732703': array([1., 1., 1., 1., 1., 1., 1., 1., 1., 1., 1., 1., 1., 1., 1., 0., 0.,\n",
       "        0., 0., 0., 0., 0., 0., 0., 0., 0., 0., 0., 0., 0., 0., 0., 0., 0.,\n",
       "        0., 0., 0., 0., 0.]),\n",
       " '>m64018_190317_023236/148439893': array([1., 1., 1., 1., 1., 1., 1., 1., 1., 1., 1., 0., 0., 0., 0., 0., 0.,\n",
       "        0., 0., 0., 0., 0., 0., 0., 0., 0., 0., 0., 0., 0., 0., 0., 0., 0.,\n",
       "        0., 0., 0., 0., 0.]),\n",
       " '>m64018_190315_202004/159582270': array([1., 1., 1., 1., 1., 1., 1., 1., 1., 1., 1., 1., 1., 1., 1., 1., 1.,\n",
       "        1., 1., 1., 1., 0., 0., 0., 0., 0., 0., 0., 0., 0., 0., 0., 0., 0.,\n",
       "        0., 0., 0., 0., 0.]),\n",
       " '>m64018_190315_202004/100403810': array([1., 1., 1., 1., 1., 1., 1., 1., 1., 1., 1., 1., 1., 1., 1., 1., 1.,\n",
       "        0., 0., 0., 0., 0., 0., 0., 0., 0., 0., 0., 0., 0., 0., 0., 0., 0.,\n",
       "        0., 0., 0., 0., 0.]),\n",
       " '>m64018_190217_061625/92539032': array([1., 1., 1., 1., 1., 1., 1., 1., 1., 1., 1., 1., 1., 1., 1., 1., 0.,\n",
       "        0., 0., 0., 0., 0., 0., 0., 0., 0., 0., 0., 0., 0., 0., 0., 0., 0.,\n",
       "        0., 0., 0., 0., 0.]),\n",
       " '>m64018_190216_000235/153487981': array([1., 1., 1., 1., 1., 1., 1., 1., 1., 1., 1., 1., 1., 1., 1., 1., 1.,\n",
       "        1., 1., 1., 0., 0., 0., 0., 0., 0., 0., 0., 0., 0., 0., 0., 0., 0.,\n",
       "        0., 0., 0., 0., 0.]),\n",
       " '>m64018_190216_000235/30279567': array([1., 1., 1., 1., 1., 1., 1., 1., 1., 1., 1., 1., 1., 1., 1., 1., 1.,\n",
       "        1., 1., 1., 1., 0., 0., 0., 0., 0., 0., 0., 0., 0., 0., 0., 0., 0.,\n",
       "        0., 0., 0., 0., 0.]),\n",
       " '>m64018_190217_061625/34406718': array([1., 1., 1., 1., 1., 1., 1., 1., 1., 1., 1., 1., 1., 1., 1., 1., 1.,\n",
       "        1., 0., 0., 0., 0., 0., 0., 0., 0., 0., 0., 0., 0., 0., 0., 0., 0.,\n",
       "        0., 0., 0., 0., 0.]),\n",
       " '>m64018_190405_235043/105384513': array([1., 1., 1., 1., 1., 1., 1., 1., 1., 1., 1., 1., 1., 1., 1., 1., 1.,\n",
       "        1., 1., 1., 1., 0., 0., 0., 0., 0., 0., 0., 0., 0., 0., 0., 0., 0.,\n",
       "        0., 0., 0., 0., 0.]),\n",
       " '>m64018_190315_202004/143459671': array([1., 1., 1., 1., 1., 1., 1., 1., 1., 1., 1., 1., 1., 1., 1., 1., 1.,\n",
       "        1., 1., 1., 0., 0., 0., 0., 0., 0., 0., 0., 0., 0., 0., 0., 0., 0.,\n",
       "        0., 0., 0., 0., 0.]),\n",
       " '>m64018_190315_202004/84935573': array([1., 1., 1., 1., 1., 1., 1., 1., 1., 1., 1., 1., 1., 1., 1., 1., 1.,\n",
       "        1., 1., 0., 0., 0., 0., 0., 0., 0., 0., 0., 0., 0., 0., 0., 0., 0.,\n",
       "        0., 0., 0., 0., 0.]),\n",
       " '>m64018_190317_023236/133039379': array([1., 1., 1., 1., 1., 1., 1., 1., 1., 1., 1., 1., 0., 0., 0., 0., 0.,\n",
       "        0., 0., 0., 0., 0., 0., 0., 0., 0., 0., 0., 0., 0., 0., 0., 0., 0.,\n",
       "        0., 0., 0., 0., 0.]),\n",
       " '>m64018_190405_235043/177079685': array([1., 1., 1., 1., 1., 1., 1., 1., 1., 1., 1., 1., 1., 1., 1., 1., 1.,\n",
       "        1., 1., 1., 1., 0., 0., 0., 0., 0., 0., 0., 0., 0., 0., 0., 0., 0.,\n",
       "        0., 0., 0., 0., 0.]),\n",
       " '>m64018_190317_023236/89655975': array([1., 1., 1., 1., 1., 1., 1., 1., 1., 1., 1., 1., 1., 1., 1., 1., 1.,\n",
       "        1., 0., 0., 0., 0., 0., 0., 0., 0., 0., 0., 0., 0., 0., 0., 0., 0.,\n",
       "        0., 0., 0., 0., 0.]),\n",
       " '>m64018_190216_000235/56363480': array([1., 1., 1., 1., 1., 1., 1., 1., 1., 1., 1., 1., 1., 1., 1., 1., 1.,\n",
       "        1., 1., 1., 1., 1., 0., 0., 0., 0., 0., 0., 0., 0., 0., 0., 0., 0.,\n",
       "        0., 0., 0., 0., 0.]),\n",
       " '>m64018_190315_202004/166201951': array([1., 1., 1., 1., 1., 1., 1., 1., 1., 1., 1., 1., 1., 1., 1., 1., 1.,\n",
       "        1., 0., 0., 0., 0., 0., 0., 0., 0., 0., 0., 0., 0., 0., 0., 0., 0.,\n",
       "        0., 0., 0., 0., 0.]),\n",
       " '>m64018_190315_202004/148440589': array([1., 1., 1., 1., 1., 1., 1., 1., 1., 0., 0., 0., 0., 0., 0., 0., 0.,\n",
       "        0., 0., 0., 0., 0., 0., 0., 0., 0., 0., 0., 0., 0., 0., 0., 0., 0.,\n",
       "        0., 0., 0., 0., 0.]),\n",
       " '>m64018_190315_202004/172163495': array([1., 1., 1., 1., 1., 1., 1., 1., 1., 1., 1., 1., 1., 1., 1., 1., 1.,\n",
       "        1., 1., 1., 0., 0., 0., 0., 0., 0., 0., 0., 0., 0., 0., 0., 0., 0.,\n",
       "        0., 0., 0., 0., 0.]),\n",
       " '>m64018_190317_023236/159973510': array([1., 1., 1., 1., 1., 1., 1., 1., 1., 1., 1., 1., 1., 1., 1., 1., 1.,\n",
       "        1., 1., 1., 1., 1., 0., 0., 0., 0., 0., 0., 0., 0., 0., 0., 0., 0.,\n",
       "        0., 0., 0., 0., 0.]),\n",
       " '>m64018_190405_235043/125699311': array([1., 1., 1., 1., 1., 1., 1., 1., 1., 1., 1., 1., 1., 1., 1., 1., 1.,\n",
       "        1., 1., 1., 1., 1., 0., 0., 0., 0., 0., 0., 0., 0., 0., 0., 0., 0.,\n",
       "        0., 0., 0., 0., 0.]),\n",
       " '>m64018_190315_202004/175573426': array([1., 1., 1., 1., 1., 1., 1., 1., 1., 1., 1., 1., 1., 1., 1., 1., 1.,\n",
       "        1., 1., 1., 0., 0., 0., 0., 0., 0., 0., 0., 0., 0., 0., 0., 0., 0.,\n",
       "        0., 0., 0., 0., 0.]),\n",
       " '>m64018_190315_202004/122816849': array([1., 1., 1., 1., 1., 1., 1., 1., 1., 1., 1., 1., 1., 1., 1., 1., 1.,\n",
       "        1., 1., 1., 1., 0., 0., 0., 0., 0., 0., 0., 0., 0., 0., 0., 0., 0.,\n",
       "        0., 0., 0., 0., 0.]),\n",
       " '>m64018_190216_000235/96929352': array([1., 1., 1., 1., 1., 1., 1., 1., 1., 1., 1., 1., 1., 1., 1., 1., 1.,\n",
       "        1., 1., 1., 0., 0., 0., 0., 0., 0., 0., 0., 0., 0., 0., 0., 0., 0.,\n",
       "        0., 0., 0., 0., 0.]),\n",
       " '>m64018_190317_023236/133497593': array([1., 1., 1., 1., 1., 1., 1., 1., 1., 1., 1., 1., 1., 1., 1., 1., 1.,\n",
       "        1., 0., 0., 0., 0., 0., 0., 0., 0., 0., 0., 0., 0., 0., 0., 0., 0.,\n",
       "        0., 0., 0., 0., 0.]),\n",
       " '>m64018_190217_061625/75563174': array([1., 1., 1., 1., 1., 1., 1., 1., 1., 1., 1., 1., 1., 1., 1., 1., 1.,\n",
       "        1., 1., 1., 1., 1., 1., 1., 1., 0., 0., 0., 0., 0., 0., 0., 0., 0.,\n",
       "        0., 0., 0., 0., 0.]),\n",
       " '>m64018_190315_202004/98764336': array([1., 1., 1., 1., 1., 1., 1., 1., 1., 1., 1., 1., 1., 1., 1., 1., 1.,\n",
       "        0., 0., 0., 0., 0., 0., 0., 0., 0., 0., 0., 0., 0., 0., 0., 0., 0.,\n",
       "        0., 0., 0., 0., 0.]),\n",
       " '>m64018_190217_061625/154666240': array([1., 1., 1., 1., 1., 1., 1., 1., 1., 1., 1., 1., 1., 1., 1., 1., 1.,\n",
       "        1., 1., 1., 1., 1., 0., 0., 0., 0., 0., 0., 0., 0., 0., 0., 0., 0.,\n",
       "        0., 0., 0., 0., 0.]),\n",
       " '>m64018_190317_023236/64815932': array([1., 1., 1., 1., 1., 1., 1., 1., 1., 1., 1., 1., 1., 1., 1., 1., 1.,\n",
       "        1., 0., 0., 0., 0., 0., 0., 0., 0., 0., 0., 0., 0., 0., 0., 0., 0.,\n",
       "        0., 0., 0., 0., 0.]),\n",
       " '>m64018_190405_235043/15795718': array([1., 1., 1., 1., 1., 1., 1., 1., 1., 1., 1., 1., 1., 1., 1., 1., 0.,\n",
       "        0., 0., 0., 0., 0., 0., 0., 0., 0., 0., 0., 0., 0., 0., 0., 0., 0.,\n",
       "        0., 0., 0., 0., 0.]),\n",
       " '>m64018_190216_000235/87099898': array([1., 1., 1., 1., 1., 1., 1., 1., 1., 1., 1., 1., 1., 1., 1., 1., 1.,\n",
       "        1., 1., 1., 1., 1., 1., 1., 0., 0., 0., 0., 0., 0., 0., 0., 0., 0.,\n",
       "        0., 0., 0., 0., 0.]),\n",
       " '>m64018_190315_202004/5505980': array([1., 1., 1., 1., 1., 1., 1., 1., 1., 1., 1., 1., 1., 1., 1., 1., 1.,\n",
       "        1., 1., 0., 0., 0., 0., 0., 0., 0., 0., 0., 0., 0., 0., 0., 0., 0.,\n",
       "        0., 0., 0., 0., 0.]),\n",
       " '>m64018_190405_235043/111150461': array([1., 1., 1., 1., 1., 1., 1., 1., 1., 1., 1., 1., 1., 1., 1., 1., 1.,\n",
       "        0., 0., 0., 0., 0., 0., 0., 0., 0., 0., 0., 0., 0., 0., 0., 0., 0.,\n",
       "        0., 0., 0., 0., 0.]),\n",
       " '>m64018_190315_202004/154207370': array([1., 1., 1., 1., 1., 1., 1., 1., 1., 1., 1., 1., 1., 1., 0., 0., 0.,\n",
       "        0., 0., 0., 0., 0., 0., 0., 0., 0., 0., 0., 0., 0., 0., 0., 0., 0.,\n",
       "        0., 0., 0., 0., 0.]),\n",
       " '>m64018_190317_023236/171902074': array([1., 1., 1., 1., 1., 1., 1., 1., 1., 1., 1., 1., 1., 1., 1., 1., 1.,\n",
       "        1., 1., 1., 1., 0., 0., 0., 0., 0., 0., 0., 0., 0., 0., 0., 0., 0.,\n",
       "        0., 0., 0., 0., 0.]),\n",
       " '>m64018_190315_202004/20251107': array([1., 1., 1., 1., 1., 1., 1., 1., 1., 1., 1., 1., 1., 1., 1., 1., 1.,\n",
       "        1., 1., 1., 1., 0., 0., 0., 0., 0., 0., 0., 0., 0., 0., 0., 0., 0.,\n",
       "        0., 0., 0., 0., 0.]),\n",
       " '>m64018_190315_202004/99879313': array([1., 1., 1., 1., 1., 1., 1., 1., 1., 1., 1., 1., 1., 1., 1., 1., 1.,\n",
       "        1., 1., 1., 0., 0., 0., 0., 0., 0., 0., 0., 0., 0., 0., 0., 0., 0.,\n",
       "        0., 0., 0., 0., 0.]),\n",
       " '>m64018_190315_202004/161482382': array([1., 1., 1., 1., 1., 1., 1., 1., 1., 1., 1., 1., 1., 1., 1., 1., 0.,\n",
       "        0., 0., 0., 0., 0., 0., 0., 0., 0., 0., 0., 0., 0., 0., 0., 0., 0.,\n",
       "        0., 0., 0., 0., 0.]),\n",
       " '>m64018_190216_000235/39914065': array([1., 1., 1., 1., 1., 1., 1., 1., 1., 1., 1., 0., 0., 0., 0., 0., 0.,\n",
       "        0., 0., 0., 0., 0., 0., 0., 0., 0., 0., 0., 0., 0., 0., 0., 0., 0.,\n",
       "        0., 0., 0., 0., 0.]),\n",
       " '>m64018_190217_061625/101057114': array([1., 1., 1., 1., 1., 1., 1., 1., 1., 1., 1., 1., 1., 0., 0., 0., 0.,\n",
       "        0., 0., 0., 0., 0., 0., 0., 0., 0., 0., 0., 0., 0., 0., 0., 0., 0.,\n",
       "        0., 0., 0., 0., 0.]),\n",
       " '>m64018_190317_023236/52101149': array([1., 1., 1., 1., 1., 1., 1., 1., 1., 1., 1., 1., 1., 1., 1., 1., 1.,\n",
       "        1., 0., 0., 0., 0., 0., 0., 0., 0., 0., 0., 0., 0., 0., 0., 0., 0.,\n",
       "        0., 0., 0., 0., 0.]),\n",
       " '>m64018_190217_061625/170199636': array([1., 1., 1., 1., 1., 1., 1., 1., 1., 1., 1., 1., 1., 1., 1., 1., 1.,\n",
       "        1., 0., 0., 0., 0., 0., 0., 0., 0., 0., 0., 0., 0., 0., 0., 0., 0.,\n",
       "        0., 0., 0., 0., 0.]),\n",
       " '>m64018_190405_235043/7932361': array([1., 1., 1., 1., 1., 1., 1., 1., 1., 1., 1., 0., 0., 0., 0., 0., 0.,\n",
       "        0., 0., 0., 0., 0., 0., 0., 0., 0., 0., 0., 0., 0., 0., 0., 0., 0.,\n",
       "        0., 0., 0., 0., 0.]),\n",
       " '>m64018_190315_202004/103875730': array([1., 1., 1., 1., 1., 1., 1., 1., 1., 1., 1., 1., 1., 1., 1., 1., 1.,\n",
       "        1., 1., 1., 0., 0., 0., 0., 0., 0., 0., 0., 0., 0., 0., 0., 0., 0.,\n",
       "        0., 0., 0., 0., 0.]),\n",
       " '>m64018_190315_202004/157680162': array([1., 1., 1., 1., 1., 1., 1., 1., 1., 1., 1., 1., 1., 1., 1., 1., 1.,\n",
       "        1., 1., 1., 0., 0., 0., 0., 0., 0., 0., 0., 0., 0., 0., 0., 0., 0.,\n",
       "        0., 0., 0., 0., 0.]),\n",
       " '>m64018_190315_202004/80282398': array([1., 1., 1., 1., 1., 1., 1., 1., 1., 1., 1., 1., 1., 1., 1., 1., 1.,\n",
       "        1., 1., 1., 0., 0., 0., 0., 0., 0., 0., 0., 0., 0., 0., 0., 0., 0.,\n",
       "        0., 0., 0., 0., 0.]),\n",
       " '>m64018_190317_023236/116001466': array([1., 1., 1., 1., 1., 1., 1., 1., 1., 1., 1., 1., 1., 1., 1., 1., 1.,\n",
       "        0., 0., 0., 0., 0., 0., 0., 0., 0., 0., 0., 0., 0., 0., 0., 0., 0.,\n",
       "        0., 0., 0., 0., 0.]),\n",
       " '>m64018_190405_235043/86967305': array([1., 1., 1., 1., 1., 1., 1., 1., 1., 1., 1., 1., 1., 1., 1., 1., 1.,\n",
       "        1., 1., 1., 0., 0., 0., 0., 0., 0., 0., 0., 0., 0., 0., 0., 0., 0.,\n",
       "        0., 0., 0., 0., 0.]),\n",
       " '>m64018_190405_235043/90243771': array([1., 1., 1., 1., 1., 1., 1., 1., 1., 1., 1., 1., 1., 1., 1., 1., 0.,\n",
       "        0., 0., 0., 0., 0., 0., 0., 0., 0., 0., 0., 0., 0., 0., 0., 0., 0.,\n",
       "        0., 0., 0., 0., 0.]),\n",
       " '>m64018_190315_202004/166201739': array([1., 1., 1., 1., 1., 1., 1., 1., 1., 1., 1., 1., 1., 1., 1., 1., 1.,\n",
       "        1., 0., 0., 0., 0., 0., 0., 0., 0., 0., 0., 0., 0., 0., 0., 0., 0.,\n",
       "        0., 0., 0., 0., 0.]),\n",
       " '>m64018_190317_023236/115542141': array([1., 1., 1., 1., 1., 1., 1., 1., 1., 1., 1., 1., 1., 1., 1., 1., 1.,\n",
       "        1., 0., 0., 0., 0., 0., 0., 0., 0., 0., 0., 0., 0., 0., 0., 0., 0.,\n",
       "        0., 0., 0., 0., 0.]),\n",
       " '>m64018_190315_202004/36898177': array([1., 1., 1., 1., 1., 1., 1., 1., 1., 1., 1., 1., 1., 1., 1., 1., 1.,\n",
       "        1., 0., 0., 0., 0., 0., 0., 0., 0., 0., 0., 0., 0., 0., 0., 0., 0.,\n",
       "        0., 0., 0., 0., 0.]),\n",
       " '>m64018_190317_023236/32309822': array([1., 1., 1., 1., 1., 1., 1., 1., 1., 1., 1., 1., 1., 1., 1., 1., 0.,\n",
       "        0., 0., 0., 0., 0., 0., 0., 0., 0., 0., 0., 0., 0., 0., 0., 0., 0.,\n",
       "        0., 0., 0., 0., 0.]),\n",
       " '>m64018_190317_023236/177604219': array([1., 1., 1., 1., 1., 1., 1., 1., 1., 1., 1., 1., 1., 1., 1., 0., 0.,\n",
       "        0., 0., 0., 0., 0., 0., 0., 0., 0., 0., 0., 0., 0., 0., 0., 0., 0.,\n",
       "        0., 0., 0., 0., 0.]),\n",
       " '>m64018_190216_000235/32967222': array([1., 1., 1., 1., 1., 1., 1., 1., 1., 1., 1., 0., 0., 0., 0., 0., 0.,\n",
       "        0., 0., 0., 0., 0., 0., 0., 0., 0., 0., 0., 0., 0., 0., 0., 0., 0.,\n",
       "        0., 0., 0., 0., 0.]),\n",
       " '>m64018_190317_023236/27198744': array([1., 1., 1., 1., 1., 1., 1., 1., 1., 1., 1., 1., 1., 1., 0., 0., 0.,\n",
       "        0., 0., 0., 0., 0., 0., 0., 0., 0., 0., 0., 0., 0., 0., 0., 0., 0.,\n",
       "        0., 0., 0., 0., 0.]),\n",
       " '>m64018_190216_000235/39192594': array([1., 1., 1., 1., 1., 1., 1., 1., 1., 1., 1., 1., 1., 1., 1., 1., 1.,\n",
       "        1., 1., 1., 0., 0., 0., 0., 0., 0., 0., 0., 0., 0., 0., 0., 0., 0.,\n",
       "        0., 0., 0., 0., 0.]),\n",
       " '>m64018_190217_061625/5310098': array([1., 1., 1., 1., 1., 1., 1., 1., 1., 1., 1., 1., 1., 1., 1., 0., 0.,\n",
       "        0., 0., 0., 0., 0., 0., 0., 0., 0., 0., 0., 0., 0., 0., 0., 0., 0.,\n",
       "        0., 0., 0., 0., 0.]),\n",
       " '>m64018_190315_202004/24380980': array([1., 1., 1., 1., 1., 1., 1., 1., 1., 1., 1., 1., 1., 1., 1., 1., 1.,\n",
       "        1., 1., 1., 0., 0., 0., 0., 0., 0., 0., 0., 0., 0., 0., 0., 0., 0.,\n",
       "        0., 0., 0., 0., 0.]),\n",
       " '>m64018_190405_235043/168757760': array([1., 1., 1., 1., 1., 1., 1., 1., 1., 1., 1., 0., 0., 0., 0., 0., 0.,\n",
       "        0., 0., 0., 0., 0., 0., 0., 0., 0., 0., 0., 0., 0., 0., 0., 0., 0.,\n",
       "        0., 0., 0., 0., 0.]),\n",
       " '>m64018_190317_023236/154927286': array([1., 1., 1., 1., 1., 1., 1., 1., 1., 1., 1., 1., 1., 0., 0., 0., 0.,\n",
       "        0., 0., 0., 0., 0., 0., 0., 0., 0., 0., 0., 0., 0., 0., 0., 0., 0.,\n",
       "        0., 0., 0., 0., 0.]),\n",
       " '>m64018_190217_061625/115212942': array([1., 1., 1., 1., 1., 1., 1., 1., 1., 1., 1., 0., 0., 0., 0., 0., 0.,\n",
       "        0., 0., 0., 0., 0., 0., 0., 0., 0., 0., 0., 0., 0., 0., 0., 0., 0.,\n",
       "        0., 0., 0., 0., 0.]),\n",
       " '>m64018_190315_202004/8062489': array([1., 1., 1., 1., 1., 1., 1., 1., 1., 1., 1., 1., 1., 1., 1., 1., 1.,\n",
       "        0., 0., 0., 0., 0., 0., 0., 0., 0., 0., 0., 0., 0., 0., 0., 0., 0.,\n",
       "        0., 0., 0., 0., 0.]),\n",
       " '>m64018_190405_235043/139265153': array([1., 1., 1., 1., 1., 1., 1., 1., 1., 1., 1., 1., 1., 1., 1., 1., 1.,\n",
       "        0., 0., 0., 0., 0., 0., 0., 0., 0., 0., 0., 0., 0., 0., 0., 0., 0.,\n",
       "        0., 0., 0., 0., 0.]),\n",
       " '>m64018_190315_202004/50528425': array([1., 1., 1., 1., 1., 1., 1., 1., 1., 1., 1., 1., 1., 1., 1., 1., 1.,\n",
       "        1., 0., 0., 0., 0., 0., 0., 0., 0., 0., 0., 0., 0., 0., 0., 0., 0.,\n",
       "        0., 0., 0., 0., 0.]),\n",
       " '>m64018_190317_023236/133170118': array([1., 1., 1., 1., 1., 1., 1., 1., 1., 1., 1., 1., 1., 1., 1., 1., 0.,\n",
       "        0., 0., 0., 0., 0., 0., 0., 0., 0., 0., 0., 0., 0., 0., 0., 0., 0.,\n",
       "        0., 0., 0., 0., 0.]),\n",
       " '>m64018_190216_000235/153094646': array([1., 1., 1., 1., 1., 1., 1., 1., 1., 1., 1., 1., 1., 1., 1., 0., 0.,\n",
       "        0., 0., 0., 0., 0., 0., 0., 0., 0., 0., 0., 0., 0., 0., 0., 0., 0.,\n",
       "        0., 0., 0., 0., 0.]),\n",
       " '>m64018_190405_235043/132776414': array([1., 1., 1., 1., 1., 1., 1., 1., 1., 1., 1., 0., 0., 0., 0., 0., 0.,\n",
       "        0., 0., 0., 0., 0., 0., 0., 0., 0., 0., 0., 0., 0., 0., 0., 0., 0.,\n",
       "        0., 0., 0., 0., 0.]),\n",
       " '>m64018_190217_061625/89261632': array([1., 1., 1., 1., 1., 1., 1., 1., 1., 1., 1., 1., 1., 1., 1., 1., 1.,\n",
       "        1., 0., 0., 0., 0., 0., 0., 0., 0., 0., 0., 0., 0., 0., 0., 0., 0.,\n",
       "        0., 0., 0., 0., 0.]),\n",
       " '>m64018_190315_202004/116064394': array([1., 1., 1., 1., 1., 1., 1., 1., 1., 1., 0., 0., 0., 0., 0., 0., 0.,\n",
       "        0., 0., 0., 0., 0., 0., 0., 0., 0., 0., 0., 0., 0., 0., 0., 0., 0.,\n",
       "        0., 0., 0., 0., 0.]),\n",
       " '>m64018_190317_023236/20187204': array([1., 1., 1., 1., 1., 1., 1., 1., 1., 1., 1., 1., 1., 1., 1., 1., 1.,\n",
       "        0., 0., 0., 0., 0., 0., 0., 0., 0., 0., 0., 0., 0., 0., 0., 0., 0.,\n",
       "        0., 0., 0., 0., 0.]),\n",
       " '>m64018_190217_061625/18285274': array([1., 1., 1., 1., 1., 1., 1., 1., 1., 1., 1., 1., 1., 1., 1., 1., 0.,\n",
       "        0., 0., 0., 0., 0., 0., 0., 0., 0., 0., 0., 0., 0., 0., 0., 0., 0.,\n",
       "        0., 0., 0., 0., 0.]),\n",
       " '>m64018_190317_023236/43582845': array([1., 1., 1., 1., 1., 1., 1., 1., 1., 1., 1., 1., 1., 1., 1., 1., 1.,\n",
       "        1., 0., 0., 0., 0., 0., 0., 0., 0., 0., 0., 0., 0., 0., 0., 0., 0.,\n",
       "        0., 0., 0., 0., 0.]),\n",
       " '>m64018_190216_000235/18809536': array([1., 1., 1., 1., 1., 1., 1., 1., 1., 1., 1., 1., 1., 1., 1., 1., 1.,\n",
       "        1., 1., 1., 1., 0., 0., 0., 0., 0., 0., 0., 0., 0., 0., 0., 0., 0.,\n",
       "        0., 0., 0., 0., 0.]),\n",
       " '>m64018_190216_000235/152633789': array([1., 1., 1., 1., 1., 1., 1., 1., 1., 1., 1., 1., 1., 0., 0., 0., 0.,\n",
       "        0., 0., 0., 0., 0., 0., 0., 0., 0., 0., 0., 0., 0., 0., 0., 0., 0.,\n",
       "        0., 0., 0., 0., 0.]),\n",
       " '>m64018_190405_235043/26476964': array([1., 1., 1., 1., 1., 1., 1., 1., 1., 1., 1., 0., 0., 0., 0., 0., 0.,\n",
       "        0., 0., 0., 0., 0., 0., 0., 0., 0., 0., 0., 0., 0., 0., 0., 0., 0.,\n",
       "        0., 0., 0., 0., 0.]),\n",
       " '>m64018_190317_023236/70058959': array([1., 1., 1., 1., 1., 1., 1., 1., 1., 1., 1., 1., 1., 1., 1., 1., 1.,\n",
       "        0., 0., 0., 0., 0., 0., 0., 0., 0., 0., 0., 0., 0., 0., 0., 0., 0.,\n",
       "        0., 0., 0., 0., 0.]),\n",
       " '>m64018_190216_000235/114229400': array([1., 1., 1., 1., 1., 1., 1., 1., 1., 1., 1., 1., 1., 1., 1., 1., 1.,\n",
       "        1., 1., 0., 0., 0., 0., 0., 0., 0., 0., 0., 0., 0., 0., 0., 0., 0.,\n",
       "        0., 0., 0., 0., 0.]),\n",
       " '>m64018_190217_061625/160434018': array([1., 1., 1., 1., 1., 1., 1., 1., 1., 1., 1., 1., 1., 1., 1., 1., 1.,\n",
       "        1., 0., 0., 0., 0., 0., 0., 0., 0., 0., 0., 0., 0., 0., 0., 0., 0.,\n",
       "        0., 0., 0., 0., 0.]),\n",
       " '>m64018_190216_000235/59965868': array([1., 1., 1., 1., 1., 1., 1., 1., 1., 1., 1., 1., 1., 1., 1., 1., 1.,\n",
       "        1., 1., 0., 0., 0., 0., 0., 0., 0., 0., 0., 0., 0., 0., 0., 0., 0.,\n",
       "        0., 0., 0., 0., 0.]),\n",
       " '>m64018_190405_235043/157223751': array([1., 1., 1., 1., 1., 1., 1., 1., 1., 1., 1., 1., 1., 1., 1., 1., 1.,\n",
       "        0., 0., 0., 0., 0., 0., 0., 0., 0., 0., 0., 0., 0., 0., 0., 0., 0.,\n",
       "        0., 0., 0., 0., 0.]),\n",
       " '>m64018_190217_061625/129892870': array([1., 1., 1., 1., 1., 1., 1., 1., 1., 1., 1., 1., 1., 0., 0., 0., 0.,\n",
       "        0., 0., 0., 0., 0., 0., 0., 0., 0., 0., 0., 0., 0., 0., 0., 0., 0.,\n",
       "        0., 0., 0., 0., 0.]),\n",
       " '>m64018_190216_000235/120128834': array([1., 1., 1., 1., 1., 1., 1., 1., 1., 1., 1., 1., 1., 1., 1., 1., 0.,\n",
       "        0., 0., 0., 0., 0., 0., 0., 0., 0., 0., 0., 0., 0., 0., 0., 0., 0.,\n",
       "        0., 0., 0., 0., 0.]),\n",
       " '>m64018_190216_000235/75366946': array([1., 1., 1., 1., 1., 1., 1., 1., 1., 1., 1., 1., 0., 0., 0., 0., 0.,\n",
       "        0., 0., 0., 0., 0., 0., 0., 0., 0., 0., 0., 0., 0., 0., 0., 0., 0.,\n",
       "        0., 0., 0., 0., 0.]),\n",
       " '>m64018_190216_000235/51118483': array([1., 1., 1., 1., 1., 1., 1., 1., 1., 1., 1., 1., 1., 1., 1., 1., 1.,\n",
       "        1., 1., 1., 0., 0., 0., 0., 0., 0., 0., 0., 0., 0., 0., 0., 0., 0.,\n",
       "        0., 0., 0., 0., 0.]),\n",
       " '>m64018_190216_000235/69863150': array([1., 1., 1., 1., 1., 1., 1., 1., 1., 1., 1., 1., 1., 1., 1., 1., 1.,\n",
       "        0., 0., 0., 0., 0., 0., 0., 0., 0., 0., 0., 0., 0., 0., 0., 0., 0.,\n",
       "        0., 0., 0., 0., 0.]),\n",
       " '>m64018_190317_023236/82315854': array([1., 1., 1., 1., 1., 1., 1., 1., 1., 1., 1., 0., 0., 0., 0., 0., 0.,\n",
       "        0., 0., 0., 0., 0., 0., 0., 0., 0., 0., 0., 0., 0., 0., 0., 0., 0.,\n",
       "        0., 0., 0., 0., 0.]),\n",
       " '>m64018_190217_061625/38929991': array([1., 1., 1., 1., 1., 1., 1., 1., 1., 1., 1., 1., 0., 0., 0., 0., 0.,\n",
       "        0., 0., 0., 0., 0., 0., 0., 0., 0., 0., 0., 0., 0., 0., 0., 0., 0.,\n",
       "        0., 0., 0., 0., 0.]),\n",
       " '>m64018_190217_061625/173015149': array([1., 1., 1., 1., 1., 1., 1., 1., 1., 1., 1., 1., 1., 1., 1., 1., 0.,\n",
       "        0., 0., 0., 0., 0., 0., 0., 0., 0., 0., 0., 0., 0., 0., 0., 0., 0.,\n",
       "        0., 0., 0., 0., 0.]),\n",
       " '>m64018_190317_023236/57280002': array([1., 1., 1., 1., 1., 1., 1., 1., 1., 1., 1., 1., 1., 1., 1., 1., 0.,\n",
       "        0., 0., 0., 0., 0., 0., 0., 0., 0., 0., 0., 0., 0., 0., 0., 0., 0.,\n",
       "        0., 0., 0., 0., 0.]),\n",
       " '>m64018_190317_023236/83493212': array([1., 1., 1., 1., 1., 1., 1., 1., 1., 1., 1., 1., 1., 1., 1., 1., 0.,\n",
       "        0., 0., 0., 0., 0., 0., 0., 0., 0., 0., 0., 0., 0., 0., 0., 0., 0.,\n",
       "        0., 0., 0., 0., 0.]),\n",
       " '>m64018_190405_235043/129565062': array([1., 1., 1., 1., 1., 1., 1., 0., 0., 0., 0., 0., 0., 0., 0., 0., 0.,\n",
       "        0., 0., 0., 0., 0., 0., 0., 0., 0., 0., 0., 0., 0., 0., 0., 0., 0.,\n",
       "        0., 0., 0., 0., 0.]),\n",
       " '>m64018_190315_202004/134283771': array([1., 1., 1., 1., 1., 1., 1., 1., 1., 1., 1., 1., 1., 1., 1., 0., 0.,\n",
       "        0., 0., 0., 0., 0., 0., 0., 0., 0., 0., 0., 0., 0., 0., 0., 0., 0.,\n",
       "        0., 0., 0., 0., 0.]),\n",
       " '>m64018_190217_061625/117507185': array([1., 1., 1., 1., 1., 1., 1., 1., 1., 1., 1., 1., 1., 0., 0., 0., 0.,\n",
       "        0., 0., 0., 0., 0., 0., 0., 0., 0., 0., 0., 0., 0., 0., 0., 0., 0.,\n",
       "        0., 0., 0., 0., 0.]),\n",
       " '>m64018_190315_202004/29297294': array([1., 1., 1., 1., 1., 1., 1., 1., 1., 1., 1., 1., 1., 1., 1., 0., 0.,\n",
       "        0., 0., 0., 0., 0., 0., 0., 0., 0., 0., 0., 0., 0., 0., 0., 0., 0.,\n",
       "        0., 0., 0., 0., 0.]),\n",
       " '>m64018_190317_023236/66324599': array([1., 1., 1., 1., 1., 1., 1., 1., 1., 1., 1., 1., 1., 1., 1., 0., 0.,\n",
       "        0., 0., 0., 0., 0., 0., 0., 0., 0., 0., 0., 0., 0., 0., 0., 0., 0.,\n",
       "        0., 0., 0., 0., 0.]),\n",
       " '>m64018_190405_235043/168167845': array([1., 1., 1., 1., 1., 1., 1., 1., 1., 1., 1., 0., 0., 0., 0., 0., 0.,\n",
       "        0., 0., 0., 0., 0., 0., 0., 0., 0., 0., 0., 0., 0., 0., 0., 0., 0.,\n",
       "        0., 0., 0., 0., 0.]),\n",
       " '>m64018_190317_023236/179438192': array([1., 1., 1., 1., 1., 1., 1., 1., 1., 1., 1., 1., 1., 1., 0., 0., 0.,\n",
       "        0., 0., 0., 0., 0., 0., 0., 0., 0., 0., 0., 0., 0., 0., 0., 0., 0.,\n",
       "        0., 0., 0., 0., 0.]),\n",
       " '>m64018_190405_235043/155451999': array([1., 1., 1., 1., 1., 1., 1., 1., 1., 1., 1., 1., 1., 0., 0., 0., 0.,\n",
       "        0., 0., 0., 0., 0., 0., 0., 0., 0., 0., 0., 0., 0., 0., 0., 0., 0.,\n",
       "        0., 0., 0., 0., 0.]),\n",
       " '>m64018_190315_202004/107479531': array([1., 1., 1., 1., 1., 1., 1., 1., 1., 1., 1., 1., 1., 1., 0., 0., 0.,\n",
       "        0., 0., 0., 0., 0., 0., 0., 0., 0., 0., 0., 0., 0., 0., 0., 0., 0.,\n",
       "        0., 0., 0., 0., 0.]),\n",
       " '>m64018_190317_023236/74713201': array([1., 1., 1., 1., 1., 1., 1., 1., 1., 1., 0., 0., 0., 0., 0., 0., 0.,\n",
       "        0., 0., 0., 0., 0., 0., 0., 0., 0., 0., 0., 0., 0., 0., 0., 0., 0.,\n",
       "        0., 0., 0., 0., 0.]),\n",
       " '>m64018_190217_061625/123864882': array([1., 1., 1., 1., 1., 1., 1., 1., 1., 1., 1., 1., 1., 1., 1., 0., 0.,\n",
       "        0., 0., 0., 0., 0., 0., 0., 0., 0., 0., 0., 0., 0., 0., 0., 0., 0.,\n",
       "        0., 0., 0., 0., 0.]),\n",
       " '>m64018_190217_061625/88146307': array([1., 1., 1., 1., 1., 1., 1., 1., 1., 1., 1., 1., 1., 1., 1., 1., 1.,\n",
       "        1., 1., 1., 0., 0., 0., 0., 0., 0., 0., 0., 0., 0., 0., 0., 0., 0.,\n",
       "        0., 0., 0., 0., 0.]),\n",
       " '>m64018_190217_061625/98370438': array([1., 1., 1., 1., 1., 1., 1., 1., 1., 1., 1., 1., 1., 1., 1., 1., 0.,\n",
       "        0., 0., 0., 0., 0., 0., 0., 0., 0., 0., 0., 0., 0., 0., 0., 0., 0.,\n",
       "        0., 0., 0., 0., 0.]),\n",
       " '>m64018_190216_000235/149750380': array([1., 1., 1., 1., 1., 1., 1., 1., 1., 1., 1., 1., 1., 1., 1., 1., 1.,\n",
       "        0., 0., 0., 0., 0., 0., 0., 0., 0., 0., 0., 0., 0., 0., 0., 0., 0.,\n",
       "        0., 0., 0., 0., 0.]),\n",
       " '>m64018_190317_023236/169477638': array([1., 1., 1., 1., 1., 1., 1., 1., 1., 1., 1., 0., 0., 0., 0., 0., 0.,\n",
       "        0., 0., 0., 0., 0., 0., 0., 0., 0., 0., 0., 0., 0., 0., 0., 0., 0.,\n",
       "        0., 0., 0., 0., 0.]),\n",
       " '>m64018_190317_023236/35128400': array([1., 1., 1., 1., 1., 1., 1., 1., 1., 1., 1., 0., 0., 0., 0., 0., 0.,\n",
       "        0., 0., 0., 0., 0., 0., 0., 0., 0., 0., 0., 0., 0., 0., 0., 0., 0.,\n",
       "        0., 0., 0., 0., 0.]),\n",
       " '>m64018_190317_023236/86769755': array([1., 1., 1., 1., 1., 1., 1., 1., 1., 1., 1., 1., 1., 1., 1., 0., 0.,\n",
       "        0., 0., 0., 0., 0., 0., 0., 0., 0., 0., 0., 0., 0., 0., 0., 0., 0.,\n",
       "        0., 0., 0., 0., 0.]),\n",
       " '>m64018_190315_202004/169346092': array([1., 1., 1., 1., 1., 1., 1., 1., 1., 0., 0., 0., 0., 0., 0., 0., 0.,\n",
       "        0., 0., 0., 0., 0., 0., 0., 0., 0., 0., 0., 0., 0., 0., 0., 0., 0.,\n",
       "        0., 0., 0., 0., 0.]),\n",
       " '>m64018_190405_235043/11994483': array([1., 1., 1., 1., 1., 1., 1., 1., 1., 0., 0., 0., 0., 0., 0., 0., 0.,\n",
       "        0., 0., 0., 0., 0., 0., 0., 0., 0., 0., 0., 0., 0., 0., 0., 0., 0.,\n",
       "        0., 0., 0., 0., 0.]),\n",
       " '>m64018_190216_000235/131795475': array([1., 1., 1., 1., 1., 1., 1., 1., 1., 1., 1., 1., 1., 1., 1., 1., 1.,\n",
       "        1., 1., 0., 0., 0., 0., 0., 0., 0., 0., 0., 0., 0., 0., 0., 0., 0.,\n",
       "        0., 0., 0., 0., 0.]),\n",
       " '>m64018_190315_202004/73204351': array([1., 1., 1., 1., 1., 1., 1., 1., 1., 1., 1., 1., 1., 1., 0., 0., 0.,\n",
       "        0., 0., 0., 0., 0., 0., 0., 0., 0., 0., 0., 0., 0., 0., 0., 0., 0.,\n",
       "        0., 0., 0., 0., 0.]),\n",
       " '>m64018_190317_023236/19792683': array([1., 1., 1., 1., 1., 1., 1., 1., 1., 1., 1., 1., 0., 0., 0., 0., 0.,\n",
       "        0., 0., 0., 0., 0., 0., 0., 0., 0., 0., 0., 0., 0., 0., 0., 0., 0.,\n",
       "        0., 0., 0., 0., 0.]),\n",
       " '>m64018_190317_023236/54397096': array([1., 1., 1., 1., 1., 1., 1., 1., 1., 1., 1., 1., 0., 0., 0., 0., 0.,\n",
       "        0., 0., 0., 0., 0., 0., 0., 0., 0., 0., 0., 0., 0., 0., 0., 0., 0.,\n",
       "        0., 0., 0., 0., 0.]),\n",
       " '>m64018_190216_000235/55511164': array([1., 1., 1., 1., 1., 1., 1., 1., 1., 1., 1., 1., 1., 1., 1., 1., 1.,\n",
       "        1., 0., 0., 0., 0., 0., 0., 0., 0., 0., 0., 0., 0., 0., 0., 0., 0.,\n",
       "        0., 0., 0., 0., 0.]),\n",
       " '>m64018_190405_235043/122814848': array([1., 1., 1., 1., 1., 1., 1., 1., 1., 1., 1., 1., 0., 0., 0., 0., 0.,\n",
       "        0., 0., 0., 0., 0., 0., 0., 0., 0., 0., 0., 0., 0., 0., 0., 0., 0.,\n",
       "        0., 0., 0., 0., 0.]),\n",
       " '>m64018_190217_061625/6489946': array([1., 1., 1., 1., 1., 1., 1., 1., 1., 1., 1., 1., 1., 0., 0., 0., 0.,\n",
       "        0., 0., 0., 0., 0., 0., 0., 0., 0., 0., 0., 0., 0., 0., 0., 0., 0.,\n",
       "        0., 0., 0., 0., 0.]),\n",
       " '>m64018_190217_061625/70386498': array([1., 1., 1., 1., 1., 1., 1., 1., 1., 1., 1., 1., 1., 1., 1., 1., 1.,\n",
       "        1., 1., 0., 0., 0., 0., 0., 0., 0., 0., 0., 0., 0., 0., 0., 0., 0.,\n",
       "        0., 0., 0., 0., 0.]),\n",
       " '>m64018_190216_000235/10618588': array([1., 1., 1., 1., 1., 1., 1., 1., 1., 1., 1., 1., 1., 1., 1., 1., 1.,\n",
       "        1., 1., 1., 1., 1., 1., 0., 0., 0., 0., 0., 0., 0., 0., 0., 0., 0.,\n",
       "        0., 0., 0., 0., 0.]),\n",
       " '>m64018_190317_023236/87885121': array([1., 1., 1., 1., 1., 1., 1., 1., 1., 1., 1., 1., 1., 1., 1., 1., 1.,\n",
       "        1., 1., 1., 1., 1., 0., 0., 0., 0., 0., 0., 0., 0., 0., 0., 0., 0.,\n",
       "        0., 0., 0., 0., 0.]),\n",
       " '>m64018_190315_202004/21431190': array([1., 1., 1., 1., 1., 1., 1., 1., 1., 1., 1., 1., 1., 0., 0., 0., 0.,\n",
       "        0., 0., 0., 0., 0., 0., 0., 0., 0., 0., 0., 0., 0., 0., 0., 0., 0.,\n",
       "        0., 0., 0., 0., 0.]),\n",
       " '>m64018_190405_235043/136183868': array([1., 1., 1., 1., 1., 1., 1., 1., 1., 1., 1., 1., 1., 1., 1., 1., 0.,\n",
       "        0., 0., 0., 0., 0., 0., 0., 0., 0., 0., 0., 0., 0., 0., 0., 0., 0.,\n",
       "        0., 0., 0., 0., 0.]),\n",
       " '>m64018_190216_000235/33163001': array([1., 1., 1., 1., 1., 1., 1., 1., 1., 1., 1., 1., 1., 1., 1., 1., 1.,\n",
       "        1., 0., 0., 0., 0., 0., 0., 0., 0., 0., 0., 0., 0., 0., 0., 0., 0.,\n",
       "        0., 0., 0., 0., 0.]),\n",
       " '>m64018_190315_202004/47449037': array([1., 1., 1., 1., 1., 1., 1., 1., 1., 1., 1., 1., 1., 1., 1., 1., 0.,\n",
       "        0., 0., 0., 0., 0., 0., 0., 0., 0., 0., 0., 0., 0., 0., 0., 0., 0.,\n",
       "        0., 0., 0., 0., 0.]),\n",
       " '>m64018_190315_202004/9570028': array([1., 1., 1., 1., 1., 1., 1., 1., 1., 1., 1., 1., 1., 1., 1., 1., 0.,\n",
       "        0., 0., 0., 0., 0., 0., 0., 0., 0., 0., 0., 0., 0., 0., 0., 0., 0.,\n",
       "        0., 0., 0., 0., 0.]),\n",
       " '>m64018_190317_023236/159515478': array([1., 1., 1., 1., 1., 1., 1., 1., 1., 1., 1., 1., 1., 1., 1., 1., 1.,\n",
       "        0., 0., 0., 0., 0., 0., 0., 0., 0., 0., 0., 0., 0., 0., 0., 0., 0.,\n",
       "        0., 0., 0., 0., 0.]),\n",
       " '>m64018_190315_202004/118819191': array([1., 1., 1., 1., 1., 1., 1., 1., 1., 1., 1., 1., 1., 1., 1., 0., 0.,\n",
       "        0., 0., 0., 0., 0., 0., 0., 0., 0., 0., 0., 0., 0., 0., 0., 0., 0.,\n",
       "        0., 0., 0., 0., 0.]),\n",
       " '>m64018_190405_235043/51710557': array([1., 1., 1., 1., 1., 1., 1., 1., 0., 0., 0., 0., 0., 0., 0., 0., 0.,\n",
       "        0., 0., 0., 0., 0., 0., 0., 0., 0., 0., 0., 0., 0., 0., 0., 0., 0.,\n",
       "        0., 0., 0., 0., 0.]),\n",
       " '>m64018_190317_023236/132711366': array([1., 1., 1., 1., 1., 1., 1., 1., 1., 1., 1., 1., 1., 1., 1., 1., 1.,\n",
       "        1., 1., 1., 1., 0., 0., 0., 0., 0., 0., 0., 0., 0., 0., 0., 0., 0.,\n",
       "        0., 0., 0., 0., 0.]),\n",
       " '>m64018_190405_235043/23920713': array([1., 1., 1., 1., 1., 1., 1., 0., 0., 0., 0., 0., 0., 0., 0., 0., 0.,\n",
       "        0., 0., 0., 0., 0., 0., 0., 0., 0., 0., 0., 0., 0., 0., 0., 0., 0.,\n",
       "        0., 0., 0., 0., 0.]),\n",
       " '>m64018_190315_202004/141624878': array([1., 1., 1., 1., 1., 1., 1., 1., 1., 1., 1., 1., 1., 1., 1., 1., 1.,\n",
       "        1., 1., 1., 0., 0., 0., 0., 0., 0., 0., 0., 0., 0., 0., 0., 0., 0.,\n",
       "        0., 0., 0., 0., 0.]),\n",
       " '>m64018_190217_061625/92735570': array([1., 1., 1., 1., 1., 1., 1., 1., 1., 1., 1., 1., 1., 1., 1., 1., 0.,\n",
       "        0., 0., 0., 0., 0., 0., 0., 0., 0., 0., 0., 0., 0., 0., 0., 0., 0.,\n",
       "        0., 0., 0., 0., 0.]),\n",
       " '>m64018_190315_202004/77203692': array([1., 1., 1., 1., 1., 1., 1., 1., 1., 1., 1., 1., 1., 1., 1., 1., 0.,\n",
       "        0., 0., 0., 0., 0., 0., 0., 0., 0., 0., 0., 0., 0., 0., 0., 0., 0.,\n",
       "        0., 0., 0., 0., 0.]),\n",
       " '>m64018_190315_202004/71041285': array([1., 1., 1., 1., 1., 1., 1., 1., 1., 1., 1., 1., 1., 1., 1., 1., 1.,\n",
       "        1., 1., 1., 1., 1., 0., 0., 0., 0., 0., 0., 0., 0., 0., 0., 0., 0.,\n",
       "        0., 0., 0., 0., 0.]),\n",
       " '>m64018_190315_202004/65536374': array([1., 1., 1., 1., 1., 1., 1., 1., 1., 1., 1., 1., 1., 1., 1., 1., 1.,\n",
       "        1., 1., 0., 0., 0., 0., 0., 0., 0., 0., 0., 0., 0., 0., 0., 0., 0.,\n",
       "        0., 0., 0., 0., 0.]),\n",
       " '>m64018_190216_000235/162006835': array([1., 1., 1., 1., 1., 1., 1., 1., 1., 1., 1., 1., 1., 1., 1., 1., 1.,\n",
       "        1., 1., 1., 1., 0., 0., 0., 0., 0., 0., 0., 0., 0., 0., 0., 0., 0.,\n",
       "        0., 0., 0., 0., 0.]),\n",
       " '>m64018_190405_235043/47318779': array([1., 1., 1., 1., 1., 1., 1., 1., 1., 1., 1., 0., 0., 0., 0., 0., 0.,\n",
       "        0., 0., 0., 0., 0., 0., 0., 0., 0., 0., 0., 0., 0., 0., 0., 0., 0.,\n",
       "        0., 0., 0., 0., 0.]),\n",
       " '>m64018_190317_023236/153355599': array([1., 1., 1., 1., 1., 1., 1., 1., 1., 1., 1., 1., 1., 1., 1., 1., 1.,\n",
       "        1., 1., 0., 0., 0., 0., 0., 0., 0., 0., 0., 0., 0., 0., 0., 0., 0.,\n",
       "        0., 0., 0., 0., 0.]),\n",
       " '>m64018_190216_000235/133760410': array([1., 1., 1., 1., 1., 1., 1., 1., 1., 1., 0., 0., 0., 0., 0., 0., 0.,\n",
       "        0., 0., 0., 0., 0., 0., 0., 0., 0., 0., 0., 0., 0., 0., 0., 0., 0.,\n",
       "        0., 0., 0., 0., 0.]),\n",
       " '>m64018_190317_023236/148573003': array([1., 1., 1., 1., 1., 1., 1., 1., 1., 1., 1., 1., 1., 0., 0., 0., 0.,\n",
       "        0., 0., 0., 0., 0., 0., 0., 0., 0., 0., 0., 0., 0., 0., 0., 0., 0.,\n",
       "        0., 0., 0., 0., 0.]),\n",
       " '>m64018_190317_023236/83099814': array([1., 1., 1., 1., 1., 1., 1., 1., 1., 1., 0., 0., 0., 0., 0., 0., 0.,\n",
       "        0., 0., 0., 0., 0., 0., 0., 0., 0., 0., 0., 0., 0., 0., 0., 0., 0.,\n",
       "        0., 0., 0., 0., 0.]),\n",
       " '>m64018_190405_235043/79758131': array([1., 1., 1., 1., 1., 1., 1., 1., 1., 0., 0., 0., 0., 0., 0., 0., 0.,\n",
       "        0., 0., 0., 0., 0., 0., 0., 0., 0., 0., 0., 0., 0., 0., 0., 0., 0.,\n",
       "        0., 0., 0., 0., 0.]),\n",
       " '>m64018_190216_000235/177015391': array([1., 1., 1., 1., 1., 1., 1., 1., 1., 1., 1., 1., 0., 0., 0., 0., 0.,\n",
       "        0., 0., 0., 0., 0., 0., 0., 0., 0., 0., 0., 0., 0., 0., 0., 0., 0.,\n",
       "        0., 0., 0., 0., 0.]),\n",
       " '>m64018_190315_202004/52103216': array([1., 1., 1., 1., 1., 1., 1., 1., 1., 1., 1., 1., 1., 1., 1., 1., 0.,\n",
       "        0., 0., 0., 0., 0., 0., 0., 0., 0., 0., 0., 0., 0., 0., 0., 0., 0.,\n",
       "        0., 0., 0., 0., 0.]),\n",
       " '>m64018_190315_202004/165611144': array([1., 1., 1., 1., 1., 1., 1., 1., 1., 0., 0., 0., 0., 0., 0., 0., 0.,\n",
       "        0., 0., 0., 0., 0., 0., 0., 0., 0., 0., 0., 0., 0., 0., 0., 0., 0.,\n",
       "        0., 0., 0., 0., 0.]),\n",
       " '>m64018_190315_202004/120455743': array([1., 1., 1., 1., 1., 1., 1., 1., 1., 1., 1., 1., 1., 1., 0., 0., 0.,\n",
       "        0., 0., 0., 0., 0., 0., 0., 0., 0., 0., 0., 0., 0., 0., 0., 0., 0.,\n",
       "        0., 0., 0., 0., 0.]),\n",
       " '>m64018_190317_023236/165349273': array([1., 1., 1., 1., 1., 1., 1., 1., 1., 1., 1., 0., 0., 0., 0., 0., 0.,\n",
       "        0., 0., 0., 0., 0., 0., 0., 0., 0., 0., 0., 0., 0., 0., 0., 0., 0.,\n",
       "        0., 0., 0., 0., 0.]),\n",
       " '>m64018_190315_202004/69468669': array([1., 1., 1., 1., 1., 1., 1., 1., 1., 1., 1., 1., 1., 1., 1., 1., 1.,\n",
       "        1., 0., 0., 0., 0., 0., 0., 0., 0., 0., 0., 0., 0., 0., 0., 0., 0.,\n",
       "        0., 0., 0., 0., 0.]),\n",
       " '>m64018_190317_023236/131399974': array([1., 1., 1., 1., 1., 1., 1., 1., 1., 1., 1., 1., 0., 0., 0., 0., 0.,\n",
       "        0., 0., 0., 0., 0., 0., 0., 0., 0., 0., 0., 0., 0., 0., 0., 0., 0.,\n",
       "        0., 0., 0., 0., 0.]),\n",
       " '>m64018_190405_235043/118031982': array([1., 1., 1., 1., 1., 1., 1., 1., 1., 1., 1., 1., 1., 1., 1., 1., 1.,\n",
       "        0., 0., 0., 0., 0., 0., 0., 0., 0., 0., 0., 0., 0., 0., 0., 0., 0.,\n",
       "        0., 0., 0., 0., 0.]),\n",
       " '>m64018_190317_023236/20447877': array([1., 1., 1., 1., 1., 1., 1., 1., 1., 1., 1., 1., 0., 0., 0., 0., 0.,\n",
       "        0., 0., 0., 0., 0., 0., 0., 0., 0., 0., 0., 0., 0., 0., 0., 0., 0.,\n",
       "        0., 0., 0., 0., 0.]),\n",
       " '>m64018_190317_023236/111805035': array([1., 1., 1., 1., 1., 1., 1., 1., 1., 1., 1., 1., 1., 1., 1., 1., 1.,\n",
       "        1., 0., 0., 0., 0., 0., 0., 0., 0., 0., 0., 0., 0., 0., 0., 0., 0.,\n",
       "        0., 0., 0., 0., 0.]),\n",
       " '>m64018_190405_235043/25035651': array([1., 1., 1., 1., 1., 1., 1., 1., 1., 1., 1., 1., 0., 0., 0., 0., 0.,\n",
       "        0., 0., 0., 0., 0., 0., 0., 0., 0., 0., 0., 0., 0., 0., 0., 0., 0.,\n",
       "        0., 0., 0., 0., 0.]),\n",
       " '>m64018_190217_061625/23856077': array([1., 1., 1., 1., 1., 1., 1., 1., 1., 1., 1., 1., 0., 0., 0., 0., 0.,\n",
       "        0., 0., 0., 0., 0., 0., 0., 0., 0., 0., 0., 0., 0., 0., 0., 0., 0.,\n",
       "        0., 0., 0., 0., 0.]),\n",
       " '>m64018_190317_023236/14222994': array([1., 1., 1., 1., 1., 1., 1., 1., 1., 1., 1., 1., 1., 1., 1., 1., 1.,\n",
       "        1., 1., 1., 1., 1., 1., 0., 0., 0., 0., 0., 0., 0., 0., 0., 0., 0.,\n",
       "        0., 0., 0., 0., 0.]),\n",
       " '>m64018_190317_023236/32899175': array([1., 1., 1., 1., 1., 1., 1., 1., 1., 1., 1., 1., 1., 1., 1., 1., 1.,\n",
       "        1., 1., 0., 0., 0., 0., 0., 0., 0., 0., 0., 0., 0., 0., 0., 0., 0.,\n",
       "        0., 0., 0., 0., 0.]),\n",
       " '>m64018_190315_202004/128976909': array([1., 1., 1., 1., 1., 1., 1., 1., 1., 1., 0., 0., 0., 0., 0., 0., 0.,\n",
       "        0., 0., 0., 0., 0., 0., 0., 0., 0., 0., 0., 0., 0., 0., 0., 0., 0.,\n",
       "        0., 0., 0., 0., 0.]),\n",
       " '>m64018_190315_202004/103482520': array([1., 1., 1., 1., 1., 1., 1., 1., 1., 1., 1., 1., 1., 1., 1., 1., 1.,\n",
       "        1., 0., 0., 0., 0., 0., 0., 0., 0., 0., 0., 0., 0., 0., 0., 0., 0.,\n",
       "        0., 0., 0., 0., 0.]),\n",
       " '>m64018_190405_235043/71565989': array([1., 1., 1., 1., 1., 1., 1., 1., 1., 1., 1., 1., 1., 1., 0., 0., 0.,\n",
       "        0., 0., 0., 0., 0., 0., 0., 0., 0., 0., 0., 0., 0., 0., 0., 0., 0.,\n",
       "        0., 0., 0., 0., 0.]),\n",
       " '>m64018_190317_023236/24707083': array([1., 1., 1., 1., 1., 1., 1., 1., 1., 1., 1., 1., 1., 1., 1., 0., 0.,\n",
       "        0., 0., 0., 0., 0., 0., 0., 0., 0., 0., 0., 0., 0., 0., 0., 0., 0.,\n",
       "        0., 0., 0., 0., 0.]),\n",
       " '>m64018_190216_000235/84609598': array([1., 1., 1., 1., 1., 1., 1., 1., 1., 1., 1., 1., 1., 1., 1., 1., 1.,\n",
       "        1., 1., 1., 0., 0., 0., 0., 0., 0., 0., 0., 0., 0., 0., 0., 0., 0.,\n",
       "        0., 0., 0., 0., 0.]),\n",
       " '>m64018_190217_061625/78514000': array([1., 1., 1., 1., 1., 1., 1., 1., 1., 1., 1., 1., 1., 1., 1., 1., 1.,\n",
       "        1., 0., 0., 0., 0., 0., 0., 0., 0., 0., 0., 0., 0., 0., 0., 0., 0.,\n",
       "        0., 0., 0., 0., 0.]),\n",
       " '>m64018_190317_023236/162791761': array([1., 1., 1., 1., 1., 1., 1., 1., 1., 1., 1., 1., 1., 1., 0., 0., 0.,\n",
       "        0., 0., 0., 0., 0., 0., 0., 0., 0., 0., 0., 0., 0., 0., 0., 0., 0.,\n",
       "        0., 0., 0., 0., 0.]),\n",
       " '>m64018_190216_000235/91096371': array([1., 1., 1., 1., 1., 1., 1., 1., 1., 1., 1., 1., 1., 1., 0., 0., 0.,\n",
       "        0., 0., 0., 0., 0., 0., 0., 0., 0., 0., 0., 0., 0., 0., 0., 0., 0.,\n",
       "        0., 0., 0., 0., 0.]),\n",
       " '>m64018_190216_000235/155453119': array([1., 1., 1., 1., 1., 1., 1., 1., 1., 1., 1., 1., 1., 1., 1., 1., 1.,\n",
       "        1., 1., 0., 0., 0., 0., 0., 0., 0., 0., 0., 0., 0., 0., 0., 0., 0.,\n",
       "        0., 0., 0., 0., 0.]),\n",
       " '>m64018_190217_061625/103875364': array([1., 1., 1., 1., 1., 1., 1., 1., 1., 1., 1., 1., 1., 1., 1., 1., 1.,\n",
       "        1., 1., 1., 1., 0., 0., 0., 0., 0., 0., 0., 0., 0., 0., 0., 0., 0.,\n",
       "        0., 0., 0., 0., 0.]),\n",
       " '>m64018_190317_023236/31261149': array([1., 1., 1., 1., 1., 1., 1., 1., 1., 1., 1., 1., 1., 1., 1., 1., 1.,\n",
       "        1., 1., 0., 0., 0., 0., 0., 0., 0., 0., 0., 0., 0., 0., 0., 0., 0.,\n",
       "        0., 0., 0., 0., 0.]),\n",
       " '>m64018_190217_061625/24707513': array([1., 1., 1., 1., 1., 1., 1., 1., 1., 1., 1., 1., 0., 0., 0., 0., 0.,\n",
       "        0., 0., 0., 0., 0., 0., 0., 0., 0., 0., 0., 0., 0., 0., 0., 0., 0.,\n",
       "        0., 0., 0., 0., 0.]),\n",
       " '>m64018_190317_023236/128649726': array([1., 1., 1., 1., 1., 1., 1., 1., 1., 1., 1., 1., 1., 1., 1., 1., 0.,\n",
       "        0., 0., 0., 0., 0., 0., 0., 0., 0., 0., 0., 0., 0., 0., 0., 0., 0.,\n",
       "        0., 0., 0., 0., 0.]),\n",
       " '>m64018_190317_023236/46205388': array([1., 1., 1., 1., 1., 1., 1., 1., 1., 0., 0., 0., 0., 0., 0., 0., 0.,\n",
       "        0., 0., 0., 0., 0., 0., 0., 0., 0., 0., 0., 0., 0., 0., 0., 0., 0.,\n",
       "        0., 0., 0., 0., 0.]),\n",
       " '>m64018_190405_235043/122882504': array([1., 1., 1., 1., 1., 1., 1., 1., 1., 1., 1., 1., 1., 1., 1., 1., 0.,\n",
       "        0., 0., 0., 0., 0., 0., 0., 0., 0., 0., 0., 0., 0., 0., 0., 0., 0.,\n",
       "        0., 0., 0., 0., 0.]),\n",
       " '>m64018_190317_023236/143329049': array([1., 1., 1., 1., 1., 1., 1., 1., 1., 1., 1., 1., 1., 1., 1., 1., 1.,\n",
       "        0., 0., 0., 0., 0., 0., 0., 0., 0., 0., 0., 0., 0., 0., 0., 0., 0.,\n",
       "        0., 0., 0., 0., 0.]),\n",
       " '>m64018_190217_061625/173736597': array([1., 1., 1., 1., 1., 1., 1., 1., 1., 1., 1., 1., 0., 0., 0., 0., 0.,\n",
       "        0., 0., 0., 0., 0., 0., 0., 0., 0., 0., 0., 0., 0., 0., 0., 0., 0.,\n",
       "        0., 0., 0., 0., 0.]),\n",
       " '>m64018_190216_000235/20448530': array([1., 1., 1., 1., 1., 1., 1., 1., 1., 0., 0., 0., 0., 0., 0., 0., 0.,\n",
       "        0., 0., 0., 0., 0., 0., 0., 0., 0., 0., 0., 0., 0., 0., 0., 0., 0.,\n",
       "        0., 0., 0., 0., 0.]),\n",
       " '>m64018_190317_023236/168231181': array([1., 1., 1., 1., 1., 1., 1., 1., 1., 1., 1., 1., 1., 1., 1., 0., 0.,\n",
       "        0., 0., 0., 0., 0., 0., 0., 0., 0., 0., 0., 0., 0., 0., 0., 0., 0.,\n",
       "        0., 0., 0., 0., 0.]),\n",
       " '>m64018_190317_023236/46203944': array([1., 1., 1., 1., 1., 1., 1., 1., 1., 1., 1., 0., 0., 0., 0., 0., 0.,\n",
       "        0., 0., 0., 0., 0., 0., 0., 0., 0., 0., 0., 0., 0., 0., 0., 0., 0.,\n",
       "        0., 0., 0., 0., 0.]),\n",
       " '>m64018_190216_000235/59245765': array([1., 1., 1., 1., 1., 1., 1., 1., 1., 1., 1., 1., 1., 1., 0., 0., 0.,\n",
       "        0., 0., 0., 0., 0., 0., 0., 0., 0., 0., 0., 0., 0., 0., 0., 0., 0.,\n",
       "        0., 0., 0., 0., 0.]),\n",
       " '>m64018_190315_202004/143460696': array([1., 1., 1., 1., 1., 1., 1., 1., 1., 1., 1., 0., 0., 0., 0., 0., 0.,\n",
       "        0., 0., 0., 0., 0., 0., 0., 0., 0., 0., 0., 0., 0., 0., 0., 0., 0.,\n",
       "        0., 0., 0., 0., 0.]),\n",
       " '>m64018_190217_061625/87687564': array([1., 1., 1., 1., 1., 1., 1., 1., 1., 1., 1., 1., 0., 0., 0., 0., 0.,\n",
       "        0., 0., 0., 0., 0., 0., 0., 0., 0., 0., 0., 0., 0., 0., 0., 0., 0.,\n",
       "        0., 0., 0., 0., 0.]),\n",
       " '>m64018_190315_202004/96993717': array([1., 1., 1., 1., 1., 1., 1., 1., 1., 0., 0., 0., 0., 0., 0., 0., 0.,\n",
       "        0., 0., 0., 0., 0., 0., 0., 0., 0., 0., 0., 0., 0., 0., 0., 0., 0.,\n",
       "        0., 0., 0., 0., 0.]),\n",
       " '>m64018_190317_023236/112986510': array([1., 1., 1., 1., 1., 1., 1., 1., 1., 0., 0., 0., 0., 0., 0., 0., 0.,\n",
       "        0., 0., 0., 0., 0., 0., 0., 0., 0., 0., 0., 0., 0., 0., 0., 0., 0.,\n",
       "        0., 0., 0., 0., 0.]),\n",
       " '>m64018_190317_023236/82118237': array([1., 1., 1., 1., 1., 1., 1., 1., 1., 0., 0., 0., 0., 0., 0., 0., 0.,\n",
       "        0., 0., 0., 0., 0., 0., 0., 0., 0., 0., 0., 0., 0., 0., 0., 0., 0.,\n",
       "        0., 0., 0., 0., 0.]),\n",
       " '>m64018_190315_202004/123077241': array([1., 1., 1., 1., 1., 1., 1., 1., 1., 1., 1., 0., 0., 0., 0., 0., 0.,\n",
       "        0., 0., 0., 0., 0., 0., 0., 0., 0., 0., 0., 0., 0., 0., 0., 0., 0.,\n",
       "        0., 0., 0., 0., 0.]),\n",
       " '>m64018_190315_202004/55575312': array([1., 1., 1., 1., 1., 1., 1., 1., 1., 1., 1., 0., 0., 0., 0., 0., 0.,\n",
       "        0., 0., 0., 0., 0., 0., 0., 0., 0., 0., 0., 0., 0., 0., 0., 0., 0.,\n",
       "        0., 0., 0., 0., 0.]),\n",
       " '>m64018_190216_000235/142606909': array([1., 1., 1., 1., 1., 1., 1., 0., 0., 0., 0., 0., 0., 0., 0., 0., 0.,\n",
       "        0., 0., 0., 0., 0., 0., 0., 0., 0., 0., 0., 0., 0., 0., 0., 0., 0.,\n",
       "        0., 0., 0., 0., 0.]),\n",
       " '>m64018_190317_023236/97913184': array([1., 1., 1., 1., 1., 1., 1., 0., 0., 0., 0., 0., 0., 0., 0., 0., 0.,\n",
       "        0., 0., 0., 0., 0., 0., 0., 0., 0., 0., 0., 0., 0., 0., 0., 0., 0.,\n",
       "        0., 0., 0., 0., 0.]),\n",
       " '>m64018_190217_061625/86182260': array([1., 1., 1., 1., 1., 1., 1., 1., 0., 0., 0., 0., 0., 0., 0., 0., 0.,\n",
       "        0., 0., 0., 0., 0., 0., 0., 0., 0., 0., 0., 0., 0., 0., 0., 0., 0.,\n",
       "        0., 0., 0., 0., 0.]),\n",
       " '>m64018_190216_000235/116982883': array([1., 1., 1., 1., 1., 1., 1., 1., 1., 1., 0., 0., 0., 0., 0., 0., 0.,\n",
       "        0., 0., 0., 0., 0., 0., 0., 0., 0., 0., 0., 0., 0., 0., 0., 0., 0.,\n",
       "        0., 0., 0., 0., 0.]),\n",
       " '>m64018_190216_000235/61931790': array([1., 1., 1., 1., 1., 1., 0., 0., 0., 0., 0., 0., 0., 0., 0., 0., 0.,\n",
       "        0., 0., 0., 0., 0., 0., 0., 0., 0., 0., 0., 0., 0., 0., 0., 0., 0.,\n",
       "        0., 0., 0., 0., 0.]),\n",
       " '>m64018_190315_202004/131072504': array([1., 1., 1., 1., 1., 1., 1., 1., 0., 0., 0., 0., 0., 0., 0., 0., 0.,\n",
       "        0., 0., 0., 0., 0., 0., 0., 0., 0., 0., 0., 0., 0., 0., 0., 0., 0.,\n",
       "        0., 0., 0., 0., 0.]),\n",
       " '>m64018_190405_235043/86770714': array([1., 1., 1., 1., 1., 0., 0., 0., 0., 0., 0., 0., 0., 0., 0., 0., 0.,\n",
       "        0., 0., 0., 0., 0., 0., 0., 0., 0., 0., 0., 0., 0., 0., 0., 0., 0.,\n",
       "        0., 0., 0., 0., 0.]),\n",
       " '>m64018_190405_235043/63569928': array([1., 1., 1., 1., 1., 0., 0., 0., 0., 0., 0., 0., 0., 0., 0., 0., 0.,\n",
       "        0., 0., 0., 0., 0., 0., 0., 0., 0., 0., 0., 0., 0., 0., 0., 0., 0.,\n",
       "        0., 0., 0., 0., 0.]),\n",
       " '>m64018_190216_000235/55248908': array([1., 1., 0., 0., 0., 0., 0., 0., 0., 0., 0., 0., 0., 0., 0., 0., 0.,\n",
       "        0., 0., 0., 0., 0., 0., 0., 0., 0., 0., 0., 0., 0., 0., 0., 0., 0.,\n",
       "        0., 0., 0., 0., 0.]),\n",
       " '>m64018_190405_235043/156041235': array([0., 0., 0., 0., 0., 0., 0., 0., 0., 0., 0., 0., 0., 0., 0., 0., 0.,\n",
       "        0., 0., 0., 0., 0., 0., 0., 0., 0., 0., 0., 0., 0., 0., 0., 0., 0.,\n",
       "        0., 0., 0., 0., 0.]),\n",
       " '>m64018_190315_202004/73270030': array([0., 0., 0., 0., 0., 0., 0., 0., 0., 0., 0., 0., 0., 0., 0., 0., 0.,\n",
       "        0., 0., 0., 0., 0., 0., 0., 0., 0., 0., 0., 0., 0., 0., 0., 0., 0.,\n",
       "        0., 0., 0., 0., 0.]),\n",
       " '>m64018_190217_061625/41617017': array([0., 0., 0., 0., 0., 0., 0., 0., 0., 0., 0., 0., 0., 0., 0., 0., 0.,\n",
       "        0., 0., 0., 0., 0., 0., 0., 0., 0., 0., 0., 0., 0., 0., 0., 0., 0.,\n",
       "        0., 0., 0., 0., 0.]),\n",
       " '>m64018_190405_235043/91949608': array([0., 0., 0., 0., 0., 0., 0., 0., 0., 0., 0., 0., 0., 0., 0., 0., 0.,\n",
       "        0., 0., 0., 0., 0., 0., 0., 0., 0., 0., 0., 0., 0., 0., 0., 0., 0.,\n",
       "        0., 0., 0., 0., 0.]),\n",
       " '>m64018_190317_023236/75039265': array([0., 0., 0., 0., 0., 0., 0., 0., 0., 0., 0., 0., 0., 0., 0., 0., 0.,\n",
       "        0., 0., 0., 0., 0., 0., 0., 0., 0., 0., 0., 0., 0., 0., 0., 0., 0.,\n",
       "        0., 0., 0., 0., 0.]),\n",
       " '>m64018_190315_202004/70975736': array([0., 0., 0., 0., 0., 0., 0., 0., 0., 0., 0., 0., 0., 0., 0., 0., 0.,\n",
       "        0., 0., 0., 0., 0., 0., 0., 0., 0., 0., 0., 0., 0., 0., 0., 0., 0.,\n",
       "        0., 0., 0., 0., 0.])}"
      ]
     },
     "execution_count": 153,
     "metadata": {},
     "output_type": "execute_result"
    }
   ],
   "source": [
    "feat"
   ]
  },
  {
   "cell_type": "code",
   "execution_count": 99,
   "metadata": {},
   "outputs": [],
   "source": [
    "flen=len(feat)"
   ]
  },
  {
   "cell_type": "code",
   "execution_count": 100,
   "metadata": {},
   "outputs": [
    {
     "data": {
      "text/plain": [
       "26"
      ]
     },
     "execution_count": 100,
     "metadata": {},
     "output_type": "execute_result"
    }
   ],
   "source": [
    "MG.degree(kmerList[0])"
   ]
  },
  {
   "cell_type": "code",
   "execution_count": 132,
   "metadata": {},
   "outputs": [],
   "source": [
    "degKmer = {}\n",
    "degMKmer = {}\n",
    "\n",
    "degK=np.zeros(G.number_of_nodes())\n",
    "\n",
    "\n",
    "i=0\n",
    "for kmer in G.nodes():\n",
    "    dk=G.degree(kmer)\n",
    "    degKmer[kmer]=1/int(dk)\n",
    "    degK[i]=float(1/float(dk))\n",
    "    \n",
    "   # degMKmer[kmer]=1/(MG.degree(kmer))\n",
    "   # degMK[i]= degMKmer[kmer]\n",
    "    i=i+1"
   ]
  },
  {
   "cell_type": "code",
   "execution_count": 133,
   "metadata": {
    "collapsed": true,
    "jupyter": {
     "outputs_hidden": true
    }
   },
   "outputs": [
    {
     "data": {
      "text/plain": [
       "array([1.        , 1.        , 0.5       , 0.25      , 0.33333333,\n",
       "       0.5       , 0.33333333, 0.1       , 0.07142857, 0.33333333,\n",
       "       0.25      , 0.05555556, 0.33333333, 0.0625    , 0.07142857,\n",
       "       0.5       , 0.2       , 0.07692308, 0.33333333, 0.33333333,\n",
       "       0.06666667, 0.25      , 0.25      , 0.06666667, 0.33333333,\n",
       "       0.05882353, 0.07692308, 0.11111111, 0.16666667, 0.25      ,\n",
       "       0.33333333, 0.11111111, 0.125     , 0.25      , 0.25      ,\n",
       "       0.2       , 0.33333333, 0.2       , 0.33333333])"
      ]
     },
     "execution_count": 133,
     "metadata": {},
     "output_type": "execute_result"
    }
   ],
   "source": [
    "degK\n"
   ]
  },
  {
   "cell_type": "code",
   "execution_count": 134,
   "metadata": {
    "collapsed": true,
    "jupyter": {
     "outputs_hidden": true
    }
   },
   "outputs": [
    {
     "data": {
      "text/plain": [
       "{'ATTCTTCTATTCTTCTTATACCTAATTCTTTTGGGTCACCTCTGTTGCTACATAAGCCTGCTG': 1.0,\n",
       " 'ATTTAGGACTCACTCTGGGGATACCGCATAGTTGAGGCAATTGACTTTGTTGTTTACTTCTGA': 1.0,\n",
       " 'TTCTGTGCACATGCAGTGTCATGTGAGGCCAGCTACTGGAGGAGACTTCTATGCGTATTTGTA': 0.5,\n",
       " 'TGGCCCTCTCTCAATTCTCTAGGTCCTCTACGATCTGTTGTCCCACATGTAGAAACCATTTTT': 0.25,\n",
       " 'GTGTTGGGCAAGGGTAATCTAAGTGTTTGGTGGTTCGTCATTCTGACTTTCTTCATAAGGTGA': 0.3333333333333333,\n",
       " 'TCATAGATGACCAAGCTTGGCAGGTTCTTCCGGTGACAGTGGTGGAGTATGTGCCTCGATAAC': 0.5,\n",
       " 'AATGCAGGATGCAGGTGGTAATTGGCTGTCGGGGGCAGAGGAGGGGAAAGACATGGAAATTTT': 0.3333333333333333,\n",
       " 'ATGCTGGCTACTTGAAGAAATCCCCGGAAAAGCTTACTGGCTTGGAAAGAGTGACACACCTGA': 0.1,\n",
       " 'AGAACTCAGGCAACACTCGAGCATCCGTTTACCATTGAAGGCGGCTGCATCAGTGGGAATTTC': 0.07142857142857142,\n",
       " 'TGCATCAGTGGGAATTTCCATGGCTTTTCATTCCAGCATCGAAGCGTGTAGATGTCTGGCCAC': 0.3333333333333333,\n",
       " 'CCCCACACTCTCTCCTTTGTGCTGCAACAAGTTCATTACCGGTGCCTTTCTAATATTCCCATT': 0.25,\n",
       " 'CTATTTTTTTTAAATAAAAAATCTAAAGTAGCAAACGCTTCTTAGAAACACTGAGATAACACA': 0.05555555555555555,\n",
       " 'AAACGCTTCTTAGAAACACTGAGATAACACATACACGTGGCCGAAAAACGATCAGAGTATTCT': 0.3333333333333333,\n",
       " 'ACACTCTATGTACTCAATACGTAGTGAAAAGGCTCTACCTTTCCCACAGAAAAGCATTGTGCA': 0.0625,\n",
       " 'AGTATTACTGTCTGTCAGGTTTAGTAGGTTTGTTTCTCCAAGACTTCTCAAAGCTGCCCTGGA': 0.07142857142857142,\n",
       " 'CTCTCCTGCTCTCAGTCTACCCTCTGCTGGCTGCAGCTACTCCGGGACTGAGGGAAAGGGGGA': 0.5,\n",
       " 'CTGCTGGCCGCAGCTACTCCGGGACTGAGGGTAAGGGGGATGAGTTGAAAGAACAGTGGGACC': 0.2,\n",
       " 'AGCTACTCCGGGACTGAGGGAAAGGGGGATGAGTTGAAAGAACAGTGGGACCCATGGCATAAA': 0.07692307692307693,\n",
       " 'AAGAGCCTGAGCTCTTGAAAGACTTCTAGTTTTTCCTTGGCTTCCCTCTTTTGAATGCATGGA': 0.3333333333333333,\n",
       " 'CTAGTTCTTCCTTGGCTTCCCTCTTTTGAATTCATGGACTATTCTTATTATACCAAAAACCTC': 0.3333333333333333,\n",
       " 'CGTGCATGAGGTAAAGAAACTTACAACGGTACACTTCGAATTAATCCCTTCGTGATTTATGCT': 0.06666666666666667,\n",
       " 'CCGAAATTCCCTATATGATCCCTTGAGTTTCGCGATTCTGTGATTTTTTTTAATGTTCTTCGT': 0.25,\n",
       " 'AGGGTATCCAGGAAGAAAGCCAAGGCATCTGTGGAGTGGAGCCCATCATTGCCCCTCTCTCAA': 0.25,\n",
       " 'CGGAGTGGAGCCCATCATTGCCCCTCTCTCAATTCTCTAGGTCCTCTACCATCTGTTGTCCCA': 0.06666666666666667,\n",
       " 'TTTCTTCATAATGTGATCTCCTCACCTCCAGGTTTCCCTTCTGCTCAATAGAACTAGGAGGAA': 0.3333333333333333,\n",
       " 'TAACAGAAACTTCACTTGGCCCTTTCTTCTCTTATGGTAAAGAACAAAGACATACGCATTTGG': 0.058823529411764705,\n",
       " 'TCATAGATGACCAAGCTTGGCAGGTTCTTCCTGTGACAGTGGTGGAGTATGTGCCTCGATAAC': 0.07692307692307693,\n",
       " 'AAGTGTCATCAGAAAGAGGTTTAAGAATACTGAGAAATCACTCCCTTCAAAGCCTAGGGCTGA': 0.1111111111111111,\n",
       " 'TGTTCTTCGTAATTGAAAAGTTATCAGCCATGCTTGATTCCGGTATTTGTTTCTATTCCAAAC': 0.16666666666666666,\n",
       " 'GCTTTCTTGCATGTTGTTTTTTTAAATATTTGAAATCAGTTATCATACTGATATTTCAAATTT': 0.25,\n",
       " 'TACTTGAAGAAATCCCCAGAAAAGCTTACTGGGACAGAAAGAATCACACACCTGACAGCACGT': 0.3333333333333333,\n",
       " 'GTGAAGCCCATCACCCTGGAAGGTTTGTGCCCATTCTAAAGACAAAGCCCACCCAAGTTGCAC': 0.1111111111111111,\n",
       " 'AGAACTCCGGCAACACTCGAGCATCCGTTTACCATTGAAGGCGGCTGCATCAGTGGGAATTTC': 0.125,\n",
       " 'ACTATTTTTTTAAATAAAAAATCTAAAGTAGCAAACGCTTCTTAGAAACACTGAGATAACACA': 0.25,\n",
       " 'ATTCTAATGTGGGAGTTGCAACGAACATGTATTTCTTCAGAGAAAACATGGCATCAAGGAGGA': 0.25,\n",
       " 'GGAGGATAACCTTTCCAGGTCAACTCTCACACTCCATGTACTCAAAACCTAGTGAAAAGGCTC': 0.2,\n",
       " 'TTCTCTCCTGCTCTCAGTCTATCCTCTGCTGTCCACAGCCACTCCAGAACTGGGGGATGAGTT': 0.3333333333333333,\n",
       " 'GCAAAAAACAATGAATTAGGAGGCAAAGCAGGTGAGGAGTTTGGGCTGCGGGGATCTTGAAGC': 0.2,\n",
       " 'CTCTTCCTTATGCCTCCCAAGAACGTTGCTCTAACCTCTCAGTATCCTCACATTCATGACCTG': 0.3333333333333333}"
      ]
     },
     "execution_count": 134,
     "metadata": {},
     "output_type": "execute_result"
    }
   ],
   "source": [
    "degKmer"
   ]
  },
  {
   "cell_type": "code",
   "execution_count": 135,
   "metadata": {},
   "outputs": [],
   "source": [
    "sim={}#np.zeros((flen,flen))"
   ]
  },
  {
   "cell_type": "code",
   "execution_count": 146,
   "metadata": {},
   "outputs": [
    {
     "data": {
      "text/plain": [
       "array([1., 0., 0., 0., 0., 0., 0., 0., 0., 0., 0., 0., 0., 0., 0., 0., 0.,\n",
       "       0., 0., 0., 0., 0., 0., 0., 0., 0., 0., 0., 0., 0., 0., 0., 0., 0.,\n",
       "       0., 0., 0., 0., 0.])"
      ]
     },
     "execution_count": 146,
     "metadata": {},
     "output_type": "execute_result"
    }
   ],
   "source": [
    "feat['>m64018_190217_061625/46074261']"
   ]
  },
  {
   "cell_type": "code",
   "execution_count": 149,
   "metadata": {},
   "outputs": [],
   "source": [
    "def bitAnd(a,b):\n",
    "    c=[]\n",
    "    for i in range(len(a)):\n",
    "        if a[i]+b[i]==2:\n",
    "                c.append(1)\n",
    "        else:\n",
    "            c.append(0)\n",
    "    return np.array(c)\n",
    "\n",
    "for idx in feat:\n",
    "    sim[idx]={}\n",
    "    for jdx in feat:\n",
    "        if idx==jdx: \n",
    "            sim[idx][jdx]=0\n",
    "            continue\n",
    "        \n",
    "        sim[idx][jdx] = np.dot(bitAnd(feat[idx],feat[jdx]),degK)"
   ]
  },
  {
   "cell_type": "code",
   "execution_count": 150,
   "metadata": {},
   "outputs": [
    {
     "data": {
      "text/plain": [
       "1.0"
      ]
     },
     "execution_count": 150,
     "metadata": {},
     "output_type": "execute_result"
    }
   ],
   "source": [
    "1 * degK[0]"
   ]
  },
  {
   "cell_type": "code",
   "execution_count": 151,
   "metadata": {},
   "outputs": [
    {
     "data": {
      "text/plain": [
       "1.0"
      ]
     },
     "execution_count": 151,
     "metadata": {},
     "output_type": "execute_result"
    }
   ],
   "source": [
    "np.dot(bitAnd(feat['>m64018_190217_061625/46074261'],feat['>m64018_190315_202004/18678995']),degK)"
   ]
  },
  {
   "cell_type": "code",
   "execution_count": 127,
   "metadata": {},
   "outputs": [
    {
     "name": "stdout",
     "output_type": "stream",
     "text": [
      "63\n"
     ]
    }
   ],
   "source": [
    "print(len('TTTATTACATATTCATCTTTTTTTAAATATTTGAAATAGTTATCTTAGTCATATGTCAAATTT'))"
   ]
  },
  {
   "cell_type": "code",
   "execution_count": 128,
   "metadata": {},
   "outputs": [
    {
     "name": "stdout",
     "output_type": "stream",
     "text": [
      "reads:  345 discard reads:  7 \n",
      "retain nodes:  747\n"
     ]
    }
   ],
   "source": [
    "print(\"reads: \",str(read_count),\"discard reads: \",str(un_read),\"\\nretain nodes: \",str(MG.number_of_nodes()))#,\"discard nodes: \",str(un_node))\n",
    "#print(\"source: \",str(starter),\"\\nsink: \",str(ender))"
   ]
  },
  {
   "cell_type": "code",
   "execution_count": 130,
   "metadata": {},
   "outputs": [
    {
     "name": "stdout",
     "output_type": "stream",
     "text": [
      "reads:  345 discard reads:  7 \n",
      "retain nodes:  715\n"
     ]
    }
   ],
   "source": [
    "print(\"reads: \",str(read_count),\"discard reads: \",str(un_read),\"\\nretain nodes: \",str(MG.number_of_nodes()))#,\"discard nodes: \",str(un_node))\n",
    "#print(\"source: \",str(starter),\"\\nsink: \",str(ender))"
   ]
  },
  {
   "cell_type": "code",
   "execution_count": 131,
   "metadata": {},
   "outputs": [],
   "source": [
    "nx.write_gml(MG, 'psv_graph/lpa_full.gml')"
   ]
  },
  {
   "cell_type": "code",
   "execution_count": 271,
   "metadata": {},
   "outputs": [],
   "source": [
    "with open('psv_graph/lpa2.edgelist','w') as e:\n",
    "    e.write(str(edge_list))"
   ]
  },
  {
   "cell_type": "code",
   "execution_count": 147,
   "metadata": {},
   "outputs": [],
   "source": [
    "asps=nx.johnson(MG)"
   ]
  },
  {
   "cell_type": "code",
   "execution_count": 150,
   "metadata": {},
   "outputs": [
    {
     "ename": "KeyError",
     "evalue": "'ATTCTTCTATTCTTCTTATACCTAATTCTTTCGGGTCACCTCTGTTGCTACATAAGCCTGCTG'",
     "output_type": "error",
     "traceback": [
      "\u001b[0;31m---------------------------------------------------------------------------\u001b[0m",
      "\u001b[0;31mKeyError\u001b[0m                                  Traceback (most recent call last)",
      "\u001b[0;32m<ipython-input-150-f39812b25c49>\u001b[0m in \u001b[0;36m<module>\u001b[0;34m\u001b[0m\n\u001b[0;32m----> 1\u001b[0;31m \u001b[0masps\u001b[0m\u001b[0;34m[\u001b[0m\u001b[0;34m'ATTCTTCTATTCTTCTTATACCTAATTCTTTCGGGTCACCTCTGTTGCTACATAAGCCTGCTG'\u001b[0m\u001b[0;34m]\u001b[0m\u001b[0;34m[\u001b[0m\u001b[0;34m't_>m64018_190317_023236/115213413'\u001b[0m\u001b[0;34m]\u001b[0m\u001b[0;34m\u001b[0m\u001b[0;34m\u001b[0m\u001b[0m\n\u001b[0m",
      "\u001b[0;31mKeyError\u001b[0m: 'ATTCTTCTATTCTTCTTATACCTAATTCTTTCGGGTCACCTCTGTTGCTACATAAGCCTGCTG'"
     ]
    }
   ],
   "source": [
    "asps['ATTCTTCTATTCTTCTTATACCTAATTCTTTCGGGTCACCTCTGTTGCTACATAAGCCTGCTG']['t_>m64018_190317_023236/115213413']"
   ]
  },
  {
   "cell_type": "code",
   "execution_count": 132,
   "metadata": {},
   "outputs": [],
   "source": [
    "refined_reads=[]\n",
    "for key in edge_list.keys():\n",
    "    if len(edge_list[key]) == len(set(edge_list[key])) and len(edge_list[key])>0:\n",
    "        #refined_reads.append(\"\\n\".join([key, read_list[key]]  ))\n",
    "        refined_reads.append(key)\n",
    "        refined_reads.append(read_list[key])"
   ]
  },
  {
   "cell_type": "code",
   "execution_count": 133,
   "metadata": {
    "collapsed": true,
    "jupyter": {
     "outputs_hidden": true
    }
   },
   "outputs": [
    {
     "data": {
      "text/plain": [
       "['>m64018_190217_061625/46074261',\n",
       " 'TCTGAAGGTACTCAAAGGTCCTCAGGTTTCTCTAGACTACACTTTGAGAATTGCAGTTTGAAATCTTGATTATTACATGCTTCTGTTTTTCCCTAAGAGCATCTAAAATTATGTAAAAGCCTAAAGACATTCACTGCATCTCCTAAGTTTGGATAAATTGTGTTATATTCTTACTCAGTTCAAAACTTTTCTAAATTCCTTAGTGATGTTTTCTTTGTCCCAAAGAGTATTTTGAAATGCACCATATGACTCCCAAATATTTGAGAAGCTGGCAAACTTCTCATTATTCATATCTCACTTTATTCTGGGAGAATAAAGTGACACACTCTGTATGACTTTAATTCTTTTAAATCTATGGAGACTTGCTGGAAGGTCATGTGTAGAGTACACCTCAGTGAATGCTCCATGCACACTTTAATGTGTATTCGGTAGTTCGGTATAATGTTAAATAGGTCGACGTTTTTATTGAGAACAAAGATACTATGTCTAATTTTCTGCATATTTGTTCTAGCCTGTTGTGTTTGGGAAAGATTTATAACCATAGTGAGAGAATCAAGGAAATCTCTAACTCAGAGTGTGGGCTTATCTATTTCTCTCTTCAGTTGTGTCAGTTTTTCAATCATACATCACAAAAGCTCTTATTAGGGTAAAACACATTGAGCATTGCTACATATTCCTCAATGAACAATTTTTACTTCTCTATGTTTCAATGCTCGTGTGGCTCTAGGATTCACACCTGTGTGGGTGTGGGGTGTGTGCACGTGTGCCATTGTGTGTATATATGTGCAGCTATTTCTGTAGATTCTATTGAATTATTTTTCAGTTAATTTTTTCCCTGGAAACAACTAACCTGATTGGGAGACCATCCAGTGAATTTTTCATTTAAGATATACCTTTTAATAGTCCTTTAATTTGATTTGACTCTTTTATCCTTTTACTTTCCCTTGATATGATATCTGTTACGTTCCATGTTTATGTTTTCTTAAATCCAGCAATGCAGTTATGATACTAATATGTCAAATTCTCATGCCATTTAAATCATTTCTATCATTCCTGGTTCTATTTTTATTGACTGATTATTTTCCTGGTTATGGTTCACACTAAATGCTTTTTTATGTGTAGTAAAGTTATAAATTTAGGACTCACACTGTGGATATTGCATAGCTCAGCAACTTAACTTTGTTGTTCACCTGTAAAGAGTGTTGAGTTTTCTTCTAGAAGGCAGTTAATTGACTAGGACACCATTTTAATGCTTGGAGATTTGCTTTTCAGCTTTGCTAGGTTTTTTCTGGAGCTGCCTTTATTCTAGGAATATACAAAGTCTACTCATAAAGTCTGACTTTTCTGAGGTCTCTACTGAATGCCCAAGATTTTCAATGAGGTCTCTTCTCTCTAGCTGGTCAAAACTCCAATATTCCAGAGCACTATGTGAGCTCTGTCACCTTTATTAAGCTCACTGTTCCCTTGTAGTTGTTGTTCCTCAATATATGGTGTTTTTTTGCCATATTTTCTTGTGGAAAATCTTCTATGCAAGTGCTGCTTTATGTTTAGACTAACACTTGAGGAGACTTCTATGCCTGGAGCTCCTATCCTCCACAAGTCCATTCTTACTCTTAGCATGGCTAGAAAATCCTAACTACCTGAGTAATCCCAAAGTCCAATCACTCTCCTCTGTTCAGCAACATGGCTACAGTCAGCTTGGGCTCCATCTCCTTGCTCTTCAGTGCAGGAAGGGTCTCCTTGAAGAAAGCCAAGGCATTGATGGGTTGATCTCATTTTCTCCCTCTTGCAATACTCTTGGTCCTCTAGCATCTGTTGTTCAACATGTGGAAACCGTTTTGCCGTGTCTTTGGTAGTCACTTATGGCCGAAAGACTGGCCATAGAATGGCCAGATCATGGCTTCTGTCCATCTACCCGCCCCTTTTACTTTTCAGCATCGCCCCTTTGCTGACTCTCATCTGCTTTCCTGCCTTTGTTCTTCTCCTCTGGGCAGACCGTATCTCTTCAGACCACTGGTGCTCAGGACCAAGTGTGTTTGTACCCATTGAAAAAGAAGTAGATAGAAAAAGATTTGCCTCTCCATAGATGTGCAAGTATCAATTCCCTGTGACCCAAGATGCAAAAGGCCAACACAACATTCACTTCAGGGACTAGAGCTTAGAATGATAGAATTCCAAGGTGAAAAGGTTGTATTAACCCTCAGCCGATGTTGTAGAAGGATACTCTAACTCTTTGGTCATTTGTCATCCCGGCTGTTTTATTAATAAGATCTTCTCAACTCCATATATCCTTCTGCTTCCATAAAACTAGGAGGAAGGAGAGCCAGCTTAAAAAATGTCTTCTCAGCCAGGCACGGTGGCTCACGCCTGTAATCCCAGCACTTTGGGAGGCTGAGGCAGGCGGATCACGAGGTCAGGAGACCAAGACCATCCTGGCTAGAACAGTGAAACCCTGTCTCTACTAAAAATACAAAAAATTAGCCGGGTGTGGTGGTGGGTGCCTGTAGTCCCAGCTGCTAGAGAGGCTGAAGCAGGAGAATGGTGTGAACCCGGGAGGCGGAGCTTGCAGTGAGCCGAGATCATGCCACTGCACTCCAGCCTGGGCAACAAAGCAAGACTCTGTCTCAAAAAAACAAAGTCTTCTCTAAGAACTTTTGCTCACAGGAAATGTTCCTCTGCATCTGAGCCAAGTTGAGTCCTGAGCAGTCACCTTGAAGCATGACTCTTCTAACAGAAACTTCCATTGGCCCTTCCTTCGCTTATGGTAAAGAACAAAGACGTACGCATTTGGGTAGTTTTCTGGGGTCCGACTATGCTGGTGTGGTGTCATAGATGACCAAGCTTGGCAAGTTCTTCCTGTGACAGTGGTGGAGTATGTGCCTCGGTAACTCTGTCCATAATGGTAGTAGCAGTCCTGTACCCCGGGGGTTTCCTCAGTCAGTGCTGAAATTAAAACAGAAGACATCAAGCTTATTATTTCCTAGAACAGAAAAATACAGGAAGCCATTTATGACATAAACCAAAAAAGAGTCACTGAGATTTACAACCATTCTCTATTCTTTATTAATAGGCAAATGGACATGAGAAAACACACAAACAAACACGAAAGTAAGAGATGCCTACCATTCTAGAACTGTAGTAAGTTCTTAGAAATATTTCATGTAAAACTTAGTGGAAAAGAAATATCAGATTGCTTCTCATCGGAAACTCCACTAACATGGAAGCTCATTTCTAGGAATCTCTACAGAGTGTTCATGACGACATGGAACAGCATAGAAGAAAGGGTGATGCATTTGGCAAAGCTGAAAAGCAAGTCTCCAAGCATTAAAATGGTTTTTTGGGGAGGAGGCAAGGACATATAAAAACCTTGCATGTGTCCCTAGATGATTGCTCAAAAAAGAAAGCATTAAACTCCTGGTGATGGGGCAGACAACAGTCCTGCAGCTAAAACTGTAGGCAACAACACTTCACTTCTCAGGGATGAGTGGAGGCCAAAAGCTTATCACCTACAATAAGATAGGGAATCCTCTCGTGCCCAGCATAATGCATTGCAATAAAGCAAAAGTCTACTACTCTTTTTCTCCAGACCCCCCGCAGGTACAAGTTCCATCAGAAAGAGGCAAAAGCACACGAAAAAATCACTCCCTTCAAAGCTAAGAACTGCACAACCTGCCTCGGACTGAAAAAGACCTGAGAGATAGAGCTTCGGGAGCTCATGTACTACTCCACAGACCCAGGGAGATATGGAATTAATGCAACCCAGTTAGGTTTCTCAAGGATAACAGGATCTAGAGCCACATTTCTCGGAATCTGCAATGCTGAAGATTGCACTGAATGCTGTCTACTTGAAGAAATCCCTGGAAAAGTTTACTGGCTTGGAAAGACACACACATCTGACAGCATATTACAATAAGAATTTTGTCTAGGACAATGAGATAGCCCCTTTTACAATGAGGGGAGTGGTGAAGTCGAGCACCCAGAATGGTTTCCGCCCATCCTAAAGACACAGCTCGCACAGGTTGCACCAAAAATCACACCTCTGGCTCCCCCAGAGAGTGCGCTAAGGCTTCCTCCCACATGGCAGACCCAGAACCAACACACGAGAACCAGTGTAGCACTGAAGGGTTGTGCGTCAGTGGGGGTATCCATGGCTTTTCATCCCAGCATCCAAGCAGGTAAATGTCTGGCACAACTTCTTACCTTGTTCAAAAAAAGCCTCTAGGCTTGGAGCCAGAATAACATTCGGAGGGACGAAGGCAGTCCATTCTGCATCTGAGCATCGTGTCAGGTTGCAGTACTCCCACCTGACACTGGGATCTGTTGTATAACACCAAGGGGCTGCCACAGGATCTGGATTTCGGCAGTAGTTCTTGATCAAGCCACTGGAAATTCCAAAAGAATACACATCACAAAAAATGGGTACATATGCAGGAACACTGTATATTTTGCTACAACAAGGTCATTACTGGTGCCTTTGAAATATTCCCAAAAGAGATACCATACAATTGCCACAATGACAAATGGCTCTCAATCTCTAATCCTCTCTGCACATTTCTCATACTTAATATATTATCACTTTTTTTAAAGAAAAAAAATCTAATGCAGCACACACTTCCTAGAAACACTGAGATTATACATACATGTGGCCAAAAAGGGATCAGAATATCCTCCTTCTGCCTTCTGCCCAATCCATCTCTCTGGAATAACTGGTATGGATTTTGACGTGTGTATTGTGGAATTGGTTATGCACATACAAAAGTATCTCTATCTGTCTAGCTCTCCGTATCTCTCTGTGTAGGACTTCATATAGTAATGTGCGAGTTGGAACTAACACATAGTTCTCCAGAGAAAAAAATGGCATCCAGCATGATATCCTTCCCAGGCCAGCAGTCTCATTCAATGTACTCAAAATGTAGCCAAAAGGCTCTATGTTCAGCATGTAAAACCATTGCACAAAAAGTATTCCTGTCTGTCGATACCGTATCAGGTGGGTCAAGTGGGTTTCTTTCTGCAAGACTTCTCAAAGCTGCCCTGGAAACCTAGCTTTCAGGCAGGATGCAGTATCTCTAGGATGGGTTCCTGGTCAGGACTTCCTCTCCTGCTCTCAGTCCATCCTCTGCTGGCCACAGCAATTCCGGGACTGAGGGAATGGGGGATGAGTTGAAAGAACAGTGGCACTCATGGCATAAAGGGAGACAGCTGGGCAGACTATGAGGTCTGAAGAGGTCGGGCAGCTATGGAGGACCTCAGGCTGGGGAAATCTCAGAGCATTCACTCCTCCTTATGCCTCCTAAGAACATTGCTCCAACCTCTCAGAATCCTCCCATTCGTGACCTGTGGCTGCCTGGGAAAACGGGGAAATGTATTATGGGCCATGGGGATCCAACACTGTCTCTCTAGAGACTCTACACATGTGACCTAGTCTCAAGCCCAGGACCCTCCATTCCAGGAAGCTGGTTCAATGAGCAACTGGATGTGCTCAGAGCTTGAGTACTTGAAAGACTTCTTTTTCTTCCTTGGCTTCCCTCTTTTGGATACATGGAAAATTCTTATTATATAATATCCCTCAGAATTCAAAATTTTATGATTGCTTTAGGATTTACAATATCCCTTTGGACCCACAAATTCAACCTTTCATTAATATTACATACCATCGTGGATAAGGTAAGAAACTTACAATGGTACACTTCCAATTATTCCCCACATGATTTAGTCTATATGTTCAAATTTTTACCTCTACATATTCTAAAGTTAAATATATTGCTATCATTTTGCTTCAAGTAGTCAACTCTCATTTAAAAAGATATAGAAATTTGATCAAGAAAATATTTTGCATTTACATCTACATTTGCCATTTGCTGGGTTCTTCATTACGTGGGCTGCAGAAAGTTCTCCTCTTGAACTATTCTTCTTCTAGCTAATTTTCTTTGGGCAACATCTCTTGTTACACAAGCCTGCTGATTCCAAATTATTAGTTTTTGGTTTATTTATTTGGGGCAGTGCACAATATGCATTTATCCAACATGGATGATCTTCAAGGCATTTTATTGCTGGATGTAGCATTCTCATTTGATCTCTTTTTTTTCTAGTTTATCATTTTAATGATATCCCCTGTTAACTGGGTTCCAGTGTTTCTGATGAGAATGCATTAGCAATTTGTATCACTGTTCTTCTAGCAAGACACAGCTCTTTTTCCTCCAGTTTCTCATGAGATGTTTCTTGTTATTATATCTTTGCCTTCTGACTGTTGAACGGTGATGTACAAAAGTGAATCATACAGTTTTTTTTTTTTTTTTTTGGAAATTCCCTGTCTGATTCATTCAGCTTCTTGAATCTGTGGTTTTTAATATTCTTCTTATTTGAAAAGTTTTTAGCTATCCTTGCTTCCAGTATTTGTTCCTGTAGCAATCTCTCCTTCCTCTCCTTCTGTGACTTCCTACCCACATGCAGGAAATCTTTTTATATTTTCCCGCCTGTCTGTGAGGATCAGTGGATTTCATTTTTTAGTATTTGTGGAGGTGTGTGTGTGTGTGTGTGTGTGTGTGCGTGCATGTTTCTAAGCCTGTGCATGTGTGAGTATGTGTGTATATGTGTGTGTCATTTGTGTATGTGTAGCTGGTTCTGTAGGTGGTATAAAATTGTTTTTCAGTTAGTTTTTACTTCTGAAACATCTCACTCCATTGGGAATACATCCAGTAATTTTTTCATTTAAGACATACCTTCTTATACTAGTTCTTTAATTTAATTTGGCTCTTCTATACTGTTACTGTCTCTTGATATGGTATCTGCTTCATTCCGTATTCATGTTTTCTTAAAACCTAAAACTCAGTTGACATATTGATATGTCAAATTTTTTGCCATTCTAATCATTTCTGTCATTTCTAGGTCTATTTGTATTGACTGATTTTTCACCTGGTCATGGTTCATACTAAAAGCTTCTCTATGTGTAGTCAAGTTTTAAATTTAGAACTCACACTGTGAACACCACATAGCTGAGCCACTTGACTTTGTTGTTTACCTCTAAAGAGGGTTTTCCTCTCCCAGGCAGTTAATTGACTTGGAAATGATTTTAATGCTTGGAGACTTGCTTTTCAGTTTTGCCAGGGTTTGTCTAGAGCTGCCTTTTTTTCTAGAAATTTACTAATTCTACTCCTAAAGTATGACTTTTCTGGAGTCTCTACTGTATTCCCAAGAGGTTCAGTGAGGTCTCTCCTCCAGCTGGTCAGAACTCCAGTATCCCAGAATGCTATGAGGGCTCTGTCCTCTTTATTGAGCTCACTGTTCAATCGCAGTTGCTATTCCTCAGGATATATTCTTTTCTCTACTTTCTTGTGGAACCTTTTTCTGGGCACATGCAACGTCATGTTTAGCCAAAGATTCGAGGAGACTACTATGCGTGCCCCTGGAGCTCCTTTCATCCACAAATCCATTCTCATTCTCAGCAGGCCTATAAAATCCTAGCTACCACAGTAGTCCCAAATTCCAATCTCTCTCCTGCATTCAGGAAGATGGCTACAGTCCATCTGGGCTCCATCACCTTGCTCTTCAGTGCAAGAAGGGCCTCCAGGAAGAAAGCCAAGGTATCTATGGAGTTGATCTCATTGTTCCCCCTGTCACTATTCTTTTGGTCCACTACTGTCTGTTGTCCAACATGTAGAAACCATTTTTCCATGTCTTTGGTGTCACTTATGGCCTAAAGCCTGGCCATGGGCTGGTCAGACCTGGGCTTCTGTCCATCTATCCACCCTTTTACTTTACAGGATCTCTCTCTTTGCTGACTCTCATCTGCCTTCCTGCCATTTTTATTCTCTAACAACCAGTATCCCTTCAGACCACTGGTGGTCAGAACCGACTGTGTTTCTACATATTGGAATAGACGTAGATATAGAAAGAGATAGATTTGCCTCTCCATAGATATACATATATACTTTCCTTGTAAGCCAAAACAGAAAACCCCAACAGAACCTTCACTTCAGGAATTGGAGTTTAGTTTAATAGAATTCCAAGGAGAAAAGGCTGCATTGAACCTTAGTGGGTGTTGTGGAAGGGTACTCTAAGAGTTTCATCATTTGTCATCTTGACTTGTTTCTTAATGTGATATCCTTGCCTCCAGATACCTTTCTGCTCCATTAAACTAGGAGGAAGGAGAGCCAGATTAACATTTGTCTTCTCTTAGACTCTTTGCTCAAAGACAATGTTCCTGAGACATTTTGCTATGCACTGTTCATCTGAGACAACTTGAGTCCTGAACACTCAGCTTGAAGCATGACTCTACTAACAGAAATTTCCACTGACCCTTCCTTCACTTATGGTAAAGAAAATAGACATACGCATTTGGGTAGTATGCTGGGGTCCGACTATGCGAGTGTGGTGTCATAGATGACCAAGCTTGGCAGGTTCTTCCTGTGACAGTAATGAAGTATGTGCCTTGATAACTCTGTCCATTTCCGTGGTAGCACTCCTGCACCCCAGGCCTTTGCTCAGTTGGTGCTGAAATGAAAAGAAAAGAAATCAAACTGAGTGTTTCCAAGAAGAGACAAACATGTGAAGCCACTTATGGCACAAACCAGAAAAAAGTCTCTGAGAATTATGACCTCAGGAGAATATGACAAGTAACATTCTTGTTTCTTTATTTGTAGGCAGATGGACTTGAGAAAAGCAACAACCAACCAACAAACAAAAACACCAAAGAAACAAATTCCTAACACTTTAGAACTGTAGTAAGTTCTTAGAAATATTTCACATAAAAGCTTAGAAAAAAAGGACAAATGAGAGGGCTTCTCAATGGAAACTGTGCTCACGTGCAAGCACATTTATGGGAATTTCTACTGAATGTTCATGAGGACTATGGGGCAGCAAACAGCAAAGCACGATGCATTTGGGGGTACAGGCCATACATGGTGATTGGGTGTTAGGGGCAGAGAAACGGACAGACATGAAAACAATGAACGTTTCATAACAAAAGGCAAGGTCTTCAGCTTCTGGGCCATGGGAGAGACAACAGTCCTTCGTCTAGGACTGCAGACAAAGACACTTCAGTTATCAGGGATGGGTGGAGGCGAACAGCTTACTCCCCTGCAGGAGAGATGAAATCCTCTCATGACCCACATCCTGAGTTGCAATAATACAGAAGTCTCCGACTCTTTCTATCCAGACCGCTCACAGGTACAACTGCCACCAGAACACGGGGCAGTCACTCACTTAAAAACCTAGGGCTGCAGAGCCCCACCTATGACTGAGGAAGTCCTGAAACATAGATCATTGGGAGTTCATGTACTGCTCCATAGAACCAGGGTGATTTGGAATTAATGCAACCCTGTTAGCCCTGTTTCTCAAGGGTGACAGGCTCCAGAGCCACATTTCTCTGAATCTGCAATGCTGAAGATTGCACTGAATGCTGGCTAATTGAAGAAGTCCCAGGAAAAGCTTACTGGCTTGGAAAGAGTCACACATCTGACAGCATGTTACAATAAAAATTTTGGCTAAGACACTGAGATAGCCCATTTTTCAACGAGGTGAGTTGTGAAGTCGATCACCCTGGAGGGTTTGTGCCAATTCTAAAGACACAGCCCACCCAACGTTGCACCAGAAATCAATCCGCTGGCTCCCCCAGAGAGTGCACGGAGGCTTCCTCCTACATGACAGAACTCAGTCAACACTCGAGCATCCGTTTACCATTGGAGGCTGCTGCATCAGTGGGAATTTCCATGGCTTTTCATCCCAGCATCGAAACGTGTAGGTTTCTGGCCACAGGCTCCTTACCTTGTTCAGAAGGAGCCTCTAGGCTTGGAATCGGGGGTAATAGTTGGAGGCGCGACGGCAGTCCCTTCTGCGTCTGAGCATTGTGTCAGGTTGCAGTACTCCCACCTGACACTGGGATCCCTCGTATAACAATAAGGGGCTGCCACAGGATCTGGATTCCTGCAGTAGTTCATGATCAAGCCACTGGAAATTCCAAAACGATACACGTCACAAGAGGTGGGACAATATGCAGGGGCACCCCACACCCTCTCCTTTGTGCTGCAACAAGGTCATTACCAGTGCCTTTCTAATATTCCCATAAAAGTACCATATGATTGCCACAAGCACAAATGGCTCTCAATCACTAATCCTGTCTGCACATTTCTCATACTTAAAAGATTATTATTATAAAAAAAAATCTAAAGTAGCAAACGCTTCTTAGAAACACTGAGATAATACATACACGTGGGCAAAAAACGATCAGAGTATTCTCCTTCTGCCTTCTGCCCAATCCATCTCTCTGGAATAACTGGTATGGATTTTGATGTGTGTATTGTGGAATCGTTTATTCACATACAAAAGTATCTGTATTTATCTAGTTCTCCGTATCTCTCTCGGTAGGACTTCATATTCTAATGTGCAAGTTGCAACTAACAGGTAGTTCTTCAGAAAAAACATGGGATCCAGGAGGATAACCTTTCCAGGTCAACCTTCACTCTCTATGTACTCAAAACCTCGCGAAAAGGCTCTACTTTTCCCATGGAAAAGCACTGTGCAAATTGTATTACTTTCTGTCATTCCCATATCATGTGGGTCAAATAGGTTTGTTTCTGCAAGACTTCTCAAAGCTGCCCTGGAAAACTTGCTCCCAGGCAGAATGCAGCATCTCTAGAATGGGTTCCTGGGCAGGACCTTCTCTCCTGCTCTCAGTCTACCCTCTGCTGGCCGCAGCTACTCTGCACTGAGGGAAAGGGGGATGAGTTGAAAGAACAGTGGGACCCATGGCATAAAGGAAGATGGCAGGGTAGACTAAGAGATCTGAAGAGGTCGGACAGCTACGGAGGAACACTGCATTAGGGGGCAAAGCAGGTAGGAGTTTGGGCTGCGGGGATCTTGAAGCATTTGCTCTTCCTTATGCCTCCCAAGAACGTTGCTCCAACCTCTCTCTATCCTCACATTCATGACCTGTGGCTGCCTGAGAAAATGGGAAATGTATTACGGGCCATGGGGATGAAACACTGTCTCTCTAGAGACTCTATACATGTGGCCTAGTGTCAATCCCAGACCCTCCATTCCAGGAAGCTGGTTCAATGAGCTACAGGATGTACTAAGAGCCCAAACTCGTGACAAATTTCTTTCTTCCTTGGCTTCTCTCTTTTGAATACATGGAATATTCTTATTATACAATATACCTCAGAGTTCAAAACTTTGTGATTGCTCTAGGATTTGCAATATCTCCTTGAACCCACACAGTAACATTTTATTAATATTACATACCATTGTGCATGAGGTAAGAAACTTACAATGGTACACTTCTAATTATTCCCTACATGATTTACGCTACTTGTTCAAATTCTTACCTCTACATATGCTAAAATTAAATATATTGCTATCATTTTGTTTCCAGTAGTCAACGCTCATTTAAAAATATATAGAAATTTGGTCAAGAAAATATTTTGCATTTACATCTACATTTGCCAATTGCTGGGTTCTTCATTACATGGGCTGCAGAAAGTTCCCTTCTTGTACTATTCTTCTTCTACCTAATTCCTTTGGGTCACCTCTCTTGTTACATCAGCCTGCTGATTCCAAATTCTTACAGTTTCCGGTTTCTTTGTTTGGGGCAGTGCACAACATACATTTATGCAGCATGGATGATCTTCAAGGCATTTTATTGCTGGATTTAGCATTCTTGGTTGATCTCTTCTTGTTCCTGTTTACCACATTAATAACATTCCCGGTATCTGGCTTCCAGTGTTTTTGACGAGAATGCATTAGCAATTTGTATCACTGTTCTTCTAGCAAGAAACAGCTTGTTTTTCCCCAGTTTCTCATAAGAAGTTTCTTGTTATTATATCTTTGTCTTCTTACCGTGAAAATGTGAAGTACAAAAGTGCATCATACCAGATTTTTTCTTTTTTTCGAAACGCCTATTTGATGCATTGAATTTCGTGTTTTTGCGATTTTGTTAATATTCTTGATCAATGAAAAGTTTTCGGCCATCCTTGATTCCGGTATTTGTTTCTGTTTCCAATCTCCCGTTCTCTTTTCTGTGACTTGCTTCCCATATGCAGGAAATCTTTTCCTATTTTGCAACATGTCTGTGAGGTTCGGTTGGTTTTCTATTTCACTATTTCTTGAGGGTTGTGTGTGTGTGTGTGTGTGTGTGAACTTGTGAGTTTTTGCGTGGGTGTGTATGGGTGTGTTGTATGTGTATATATGTGTGTAGTTGGTTCTGTAGAATTGATTTTTGGTTAGTTTCCTATTCAGAAATGTCTAAATTGATCAGGCAGCCATCCAGTAATTTTTTCTTTTAAGACATAGCTTTTTACACTAAGTCTTTAATTTGATTTGGCTAGTCAATACTGTTACTTTCTTTTGATATTTTATCTGTTTTATTACATATTCATCTTTTTTTAAATATTTGAAATAGTTATCTTAGTCATATGTCAAATTTTCATGCAATTCTTCTATTCTTCTTATACCTAATTCTTTTGGGTCACCTCTGTTGCTACATAAGCCTGCTGATTCCAAAGTCTTACACTTTCCAGTTTCTTTGTTTTGGGCAGTGCACAATATGCATTTATCCAACATGGATGATCTTCAAGGCATTTTATTGCTGGATTCAGCATTCTCGGTTGATCTCTTCTTGTTCCTCATTATCATTTTAATAATATTCCCTGGTATCTGGCTTCCAGTGTTTCTGAGGTGAACGCATTAGCAATTTGTATCACTGTACTCTAGGAAGACACAGCTCTTTTTTCTCCAGTTTCTCGTGAGATGTTTCTTCTTCTTATATCCTTGCCTTGTTACCTTTGAACTGTGATGTAGAGAAGTGCATCATGTAGTTTTTTTTCTC']"
      ]
     },
     "execution_count": 133,
     "metadata": {},
     "output_type": "execute_result"
    }
   ],
   "source": [
    "refined_reads[:2]"
   ]
  },
  {
   "cell_type": "code",
   "execution_count": 134,
   "metadata": {},
   "outputs": [
    {
     "name": "stdout",
     "output_type": "stream",
     "text": [
      "88\n"
     ]
    }
   ],
   "source": [
    "print(len(refined_reads))"
   ]
  },
  {
   "cell_type": "code",
   "execution_count": 135,
   "metadata": {},
   "outputs": [
    {
     "name": "stdout",
     "output_type": "stream",
     "text": [
      "0\n",
      "stored filt PSV list: 2272\n",
      "71\n"
     ]
    }
   ],
   "source": [
    "rMG = nx.MultiDiGraph()\n",
    "print(rMG.number_of_nodes())\n",
    "storePSVfilt(PSV, kmerList, rMG,k)\n",
    "print(rMG.number_of_nodes())"
   ]
  },
  {
   "cell_type": "code",
   "execution_count": 136,
   "metadata": {},
   "outputs": [],
   "source": [
    "#initialize graph first, stroe PSV and node\n",
    "def buildGraph(rMG, refined_reads,PSV,k):\n",
    "\n",
    "    read_count = 0\n",
    "    prev_edge=0\n",
    "    un_read=0\n",
    "    read_name=\"\"\n",
    "\n",
    "    redge_list={}\n",
    "    for line in refined_reads:\n",
    "        if line[0] == \">\":\n",
    "            line = line.lstrip()\n",
    "            read_name = \"/\".join(line.split(\"/\")[:2])\n",
    "            continue\n",
    "        read = line.rstrip()\n",
    "        read_len = len(read)\n",
    "        read_count = read_count+1\n",
    "        prev_match = \"\"\n",
    "\n",
    "        sentinel_ = \"_\".join([\"t\", read_name ])\n",
    "        _starter = \"_\".join([\"s\", read_name ])\n",
    "        redge_list[read_name]=[]\n",
    "\n",
    "\n",
    "        for i in range((read_len - k)+ 1):\n",
    "            kmer = read[i-(k-1):i+k]\n",
    "            if kmer in PSV:\n",
    "                redge_list[read_name].append(kmer)    \n",
    "        if len(redge_list[read_name]) ==0 :\n",
    "            un_read = un_read+1\n",
    "            continue\n",
    "        rMG.add_node(_starter, t=0 )\n",
    "        rMG.add_edge(_starter, redge_list[read_name][0] ,weight=1 , t=0)\n",
    "        rMG.add_node(sentinel_,t=1 )\n",
    "        rMG.add_edge( redge_list[read_name][-1], sentinel_ ,weight=1,t=1)\n",
    "\n",
    "        for i in range(len(redge_list[read_name])-1):\n",
    "            rMG.add_edge( redge_list[read_name][i],  redge_list[read_name][i+1],weight=1,t=2  )\n",
    "\n",
    "\n",
    "        x = rMG.number_of_edges()\n",
    "        if int(x) - prev_edge >50 or read_count%50==0:\n",
    "            print(read_count , rMG.number_of_edges())\n",
    "\n",
    "        prev_edge = x\n",
    "    rem=[]\n",
    "    for node in rMG.nodes():\n",
    "        if rMG.degree(node) == 0:\n",
    "            rem.append(node)\n",
    "    rMG.remove_nodes_from(rem)\n",
    "    print(\"rem: \",len(rem))\n",
    "    #return redge_list\n"
   ]
  },
  {
   "cell_type": "code",
   "execution_count": 137,
   "metadata": {},
   "outputs": [
    {
     "name": "stdout",
     "output_type": "stream",
     "text": [
      "reads:  345 discard reads:  7 \n",
      "retain nodes:  71\n"
     ]
    }
   ],
   "source": [
    "print(\"reads: \",str(read_count),\"discard reads: \",str(un_read),\"\\nretain nodes: \",str(rMG.number_of_nodes()))#,\"discard nodes: \",str(un_node))\n",
    "#print(\"source: \",str(starter),\"\\nsink: \",str(ender))"
   ]
  },
  {
   "cell_type": "code",
   "execution_count": 138,
   "metadata": {},
   "outputs": [
    {
     "name": "stdout",
     "output_type": "stream",
     "text": [
      "rem:  42\n"
     ]
    }
   ],
   "source": [
    "buildGraph(rMG,refined_reads,PSV,32)"
   ]
  },
  {
   "cell_type": "code",
   "execution_count": 139,
   "metadata": {},
   "outputs": [
    {
     "name": "stdout",
     "output_type": "stream",
     "text": [
      "117\n"
     ]
    }
   ],
   "source": [
    "print(rMG.number_of_nodes())"
   ]
  },
  {
   "cell_type": "code",
   "execution_count": 140,
   "metadata": {},
   "outputs": [],
   "source": [
    "nx.write_gml(rMG, 'psv_graph/lpa_nocycle.gml')"
   ]
  },
  {
   "cell_type": "code",
   "execution_count": 95,
   "metadata": {},
   "outputs": [
    {
     "name": "stdout",
     "output_type": "stream",
     "text": [
      "0\n",
      "stored filt PSV list: 928\n",
      "29\n"
     ]
    }
   ],
   "source": [
    "cMG = nx.MultiDiGraph()\n",
    "print(cMG.number_of_nodes())\n",
    "storePSVfilt(PSV, kmerList, cMG,k)\n",
    "print(cMG.number_of_nodes())"
   ]
  },
  {
   "cell_type": "code",
   "execution_count": 96,
   "metadata": {},
   "outputs": [],
   "source": [
    "cyclic_reads=[]\n",
    "for key in edge_list.keys():\n",
    "    if len(edge_list[key]) != len(set(edge_list[key])) and len(edge_list[key])>0:\n",
    "        #refined_reads.append(\"\\n\".join([key, read_list[key]]  ))\n",
    "        cyclic_reads.append(key)\n",
    "        cyclic_reads.append(read_list[key])"
   ]
  },
  {
   "cell_type": "code",
   "execution_count": 97,
   "metadata": {},
   "outputs": [
    {
     "name": "stdout",
     "output_type": "stream",
     "text": [
      "rem:  25\n",
      "64\n"
     ]
    }
   ],
   "source": [
    "buildGraph(cMG,cyclic_reads,PSV,32)\n",
    "print(cMG.number_of_nodes())"
   ]
  },
  {
   "cell_type": "code",
   "execution_count": 98,
   "metadata": {},
   "outputs": [],
   "source": [
    "nx.write_gml(cMG, 'psv_graph/lpa_cycle.gml')"
   ]
  },
  {
   "cell_type": "code",
   "execution_count": 147,
   "metadata": {
    "collapsed": true,
    "jupyter": {
     "outputs_hidden": true
    }
   },
   "outputs": [
    {
     "data": {
      "text/plain": [
       "[('TCATAGATGACCAAGCTTGGCAGGTTCTTCCAGTGACAGTGGTGGAGTATGTGCCTCGATAAC',\n",
       "  'AGAAAACCAACCAAAAAACATACAGCAAACCTACAGATTCCTACCAATCTAGAACTGTAGTAA',\n",
       "  0,\n",
       "  'forward'),\n",
       " ('AGAAAACCAACCAAAAAACATACAGCAAACCTACAGATTCCTACCAATCTAGAACTGTAGTAA',\n",
       "  'AATGCAGGATGCAGGTGGTAATTGGCTGTCGAGGGCAGAGGAGGGGAAAGACATGGAAATTTT',\n",
       "  0,\n",
       "  'forward'),\n",
       " ('AATGCAGGATGCAGGTGGTAATTGGCTGTCGAGGGCAGAGGAGGGGAAAGACATGGAAATTTT',\n",
       "  'TGCATCAGTGGGAATTTCCATGGCTTTTCATCCCAGCATCGAAGCGTGTAGATGTCTGGCCAC',\n",
       "  0,\n",
       "  'forward'),\n",
       " ('TGCATCAGTGGGAATTTCCATGGCTTTTCATCCCAGCATCGAAGCGTGTAGATGTCTGGCCAC',\n",
       "  'AACATGCAGGGGCACCCCACACTCTCTCCTTTGTGCTGCAACAAGGTCATTACCGGTGCCTTT',\n",
       "  0,\n",
       "  'forward'),\n",
       " ('AACATGCAGGGGCACCCCACACTCTCTCCTTTGTGCTGCAACAAGGTCATTACCGGTGCCTTT',\n",
       "  'AAACGCTTCTTAGAAACACTGAGATAACACACACACGTGGCCGAAAAACGATCAGAGTATTCT',\n",
       "  0,\n",
       "  'forward'),\n",
       " ('AAACGCTTCTTAGAAACACTGAGATAACACACACACGTGGCCGAAAAACGATCAGAGTATTCT',\n",
       "  'CTCTCCTGCTCTCAGTCTACCCTCTGCTGGCCGCAGCTACTCCGGGACTGAGGGAAAGGGGGA',\n",
       "  0,\n",
       "  'forward'),\n",
       " ('CTCTCCTGCTCTCAGTCTACCCTCTGCTGGCCGCAGCTACTCCGGGACTGAGGGAAAGGGGGA',\n",
       "  'AAGAGCCTGAGCTCTTGAAAGACTTCTAGTTCTTCCTTGGCTTCCCTCTTTTGAATGCATGGA',\n",
       "  0,\n",
       "  'forward'),\n",
       " ('AAGAGCCTGAGCTCTTGAAAGACTTCTAGTTCTTCCTTGGCTTCCCTCTTTTGAATGCATGGA',\n",
       "  'TTCCGGTTTCTTTCTTTGGGGCAGTGCACAATATGCATTTATCCGACATGGATGATCTTCAAG',\n",
       "  0,\n",
       "  'forward'),\n",
       " ('TTCCGGTTTCTTTCTTTGGGGCAGTGCACAATATGCATTTATCCGACATGGATGATCTTCAAG',\n",
       "  'GAAAAGTTATCAGCCATCCTTGATTCCGGTATTTGTTTCTATTCCAAACTCCCTTGCTCTTTA',\n",
       "  0,\n",
       "  'forward'),\n",
       " ('GAAAAGTTATCAGCCATCCTTGATTCCGGTATTTGTTTCTATTCCAAACTCCCTTGCTCTTTA',\n",
       "  'TTCTTGCATGTTGTTTTTTTAAATATTTGAAATCAGTTATCATACTGATATGTCAAATTTTCA',\n",
       "  0,\n",
       "  'forward'),\n",
       " ('TTCTTGCATGTTGTTTTTTTAAATATTTGAAATCAGTTATCATACTGATATGTCAAATTTTCA',\n",
       "  'TCATAGATGACCAAGCTTGGCAGGTTCTTCCAGTGACAGTGGTGGAGTATGTGCCTCGATAAC',\n",
       "  0,\n",
       "  'forward')]"
      ]
     },
     "execution_count": 147,
     "metadata": {},
     "output_type": "execute_result"
    }
   ],
   "source": [
    "(nx.find_cycle(cMG,source=cMG.nodes(),orientation='original'))"
   ]
  },
  {
   "cell_type": "code",
   "execution_count": null,
   "metadata": {},
   "outputs": [],
   "source": []
  },
  {
   "cell_type": "code",
   "execution_count": null,
   "metadata": {},
   "outputs": [],
   "source": []
  }
 ],
 "metadata": {
  "kernelspec": {
   "display_name": "Python 3",
   "language": "python",
   "name": "python3"
  },
  "language_info": {
   "codemirror_mode": {
    "name": "ipython",
    "version": 3
   },
   "file_extension": ".py",
   "mimetype": "text/x-python",
   "name": "python",
   "nbconvert_exporter": "python",
   "pygments_lexer": "ipython3",
   "version": "3.8.2"
  }
 },
 "nbformat": 4,
 "nbformat_minor": 4
}
