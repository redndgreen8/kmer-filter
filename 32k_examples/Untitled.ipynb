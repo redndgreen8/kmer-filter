{
 "cells": [
  {
   "cell_type": "code",
   "execution_count": 1,
   "metadata": {},
   "outputs": [],
   "source": [
    "import numpy as np\n",
    "import matplotlib\n",
    "#matplotlib.use('Agg')\n",
    "import matplotlib.pyplot as plt\n",
    "import matplotlib.mlab as mlab\n",
    "import math\n"
   ]
  },
  {
   "cell_type": "code",
   "execution_count": 3,
   "metadata": {},
   "outputs": [],
   "source": [
    "%matplotlib inline\n"
   ]
  },
  {
   "cell_type": "code",
   "execution_count": 4,
   "metadata": {},
   "outputs": [],
   "source": [
    "\n",
    "b=open(\"/panfs/qcb-panasas/rdagnew/HG00514/clr.pbmm/chr1:16576200-16660500_8/kmer_filter/nucplot_PSVcandidate.full.32k.txt\")\n",
    "w=open(\"/panfs/qcb-panasas/rdagnew/HG00514/clr.pbmm/chr1:16576200-16660500_8/kmer_filter/chr1:16576200-16660500_8.local.bamToFreq.DUP_CALL.out\")\n",
    "\n"
   ]
  },
  {
   "cell_type": "code",
   "execution_count": null,
   "metadata": {},
   "outputs": [],
   "source": [
    "pos=[]\n",
    "nuc_count=[]\n",
    "mean_list=[]\n",
    "median_list=[]\n",
    "first_count=[]\n",
    "sec_count=[]\n",
    "RKN=[]\n",
    "AKN=[]\n",
    "\n",
    "for line in b.readlines():\n",
    "    vals=line.split()\n",
    "    mean=info[0].split(\"=\")[1]\n",
    "    median=info[1].split(\"=\")[1]\n",
    "    nuc_count=sorted(vals[3:7])\n",
    "    sec_ct=nuc_count[1]\n",
    "    \n",
    "\n",
    "\n",
    "    \n",
    "    pos=vals[:3]\n",
    "    nuc_count=vals[3:7]\n",
    "    info=vals[16].split(\";\")\n",
    "    \n",
    "    depth=info[2].split(\"=\")[1]\n",
    "    first_count=depth.split(\",\")[0]\n",
    "    sec_count=depth.split(\",\")[1].rstrip()\n",
    "    RKN=info[4].split(\"=\")[1]\n",
    "    AKN=info[6].split(\"=\")[1]\n",
    "    \n",
    "    "
   ]
  },
  {
   "cell_type": "code",
   "execution_count": null,
   "metadata": {},
   "outputs": [],
   "source": [
    "firstf  = []\n",
    "secondf = []\n",
    "trueposf= []\n",
    "thirdf=[]\n",
    "fourf=[]\n",
    "i=0\n",
    "for line in w:\n",
    "    line = line.split()\n",
    "    i=i+1\n",
    "    trueposf.append(int(line[1]))\n",
    "    bases = []\n",
    "    for basepair in line[2:6]:\n",
    "        bases.append(int(basepair))\n",
    "    bases = sorted(bases, reverse=True)\n",
    "    firstf.append(bases[0])\n",
    "    secondf.append(bases[1])\n",
    "    thirdf.append(bases[2])\n",
    "    fourf.append(bases[3])"
   ]
  }
 ],
 "metadata": {
  "kernelspec": {
   "display_name": "Python 3",
   "language": "python",
   "name": "python3"
  },
  "language_info": {
   "codemirror_mode": {
    "name": "ipython",
    "version": 3
   },
   "file_extension": ".py",
   "mimetype": "text/x-python",
   "name": "python",
   "nbconvert_exporter": "python",
   "pygments_lexer": "ipython3",
   "version": "3.8.2"
  }
 },
 "nbformat": 4,
 "nbformat_minor": 4
}
