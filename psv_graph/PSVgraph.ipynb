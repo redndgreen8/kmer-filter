{
 "cells": [
  {
   "cell_type": "code",
   "execution_count": 180,
   "metadata": {},
   "outputs": [],
   "source": [
    "import sys\n",
    "import math\n",
    "import networkx as nx\n",
    "from collections import OrderedDict\n",
    "\n",
    "\n",
    "reads=\"/panfs/qcb-panasas/rdagnew/HG00514/pbmm_combined/all_3/chr6:160609100-160648600/ccs/reads.fasta\"\n",
    "cov=26\n",
    "\n",
    "psv=\"/panfs/qcb-panasas/rdagnew/HG00514/pbmm_combined/all_3/chr6:160609100-160648600/ccs/kmer_filter/filtered.orig_counts.nucfreq\"\n",
    "k=32\n",
    "out=\"/home/cmb-16/mjc/rdagnew/summerproj/kmer_filter/psv_graph/psv.ccs_filt.gml\"\n",
    "\n",
    "\n",
    "\n",
    "PSV = OrderedDict()\n",
    "MG = nx.MultiDiGraph()\n",
    "#MG.add_node(\"s\")"
   ]
  },
  {
   "cell_type": "code",
   "execution_count": 181,
   "metadata": {},
   "outputs": [],
   "source": [
    "def storePSVfilt(PSV,PSVlist,MG,k):\n",
    "    l=0\n",
    "    _refnode = \"\"\n",
    "    _node = \"\"\n",
    "    info=\"\"\n",
    "    pre=\"\"\n",
    "    for n in PSVlist:\n",
    "        if n[0]==\"#\":\n",
    "            continue  \n",
    "       # print(n)\n",
    "        n = n.rstrip()\n",
    "        n = n.split()\n",
    "      #  print(n)\n",
    "        info = n[9]\n",
    "        kmer = info.split(\";\")[4]\n",
    "        pre = kmer.split(\"=\")[1].split(\",\")\n",
    "        _refnode = pre[0]\n",
    "        _node = pre[1]\n",
    "        PSV[_node] = []\n",
    "        kmer = \"\"\n",
    "#        assert k == len(line)\n",
    "        for i in range(k):\n",
    "            kmer = _node[i:i+k]\n",
    "            PSV[_node].append(kmer)\n",
    "            MG.add_node(kmer , pos=n[1], ref=_refnode[k-1], alt=_node[k-1] ,of=i)\n",
    "            l=l+1\n",
    "    print(\"stored filt PSV list:\",str(l))"
   ]
  },
  {
   "cell_type": "code",
   "execution_count": 182,
   "metadata": {},
   "outputs": [
    {
     "name": "stdout",
     "output_type": "stream",
     "text": [
      "0\n",
      "stored filt PSV list: 640\n",
      "544\n"
     ]
    }
   ],
   "source": [
    "        \n",
    "#set but need to keep track of multiplicity\n",
    "PSVlist=[]\n",
    "with open(psv) as p:\n",
    "    PSVlist=p.readlines()\n",
    "#print(PSVlist)\n",
    "print(MG.number_of_nodes())\n",
    "storePSVfilt(PSV, PSVlist, MG,k)\n",
    "print(MG.number_of_nodes())\n",
    "#print(PSV)\n",
    "\n",
    "read_name = \"\"\n",
    "offset = 0\n",
    "starter=0\n",
    "ender=0\n",
    "un_read=0\n",
    "read_stream = open(reads)\n",
    "\n",
    "read_count = 0\n",
    "node_multi = {}\n",
    "for key in PSV.keys():\n",
    "    for kmer in PSV[key]:\n",
    "        node_multi[kmer]=0\n"
   ]
  },
  {
   "cell_type": "code",
   "execution_count": 183,
   "metadata": {},
   "outputs": [
    {
     "name": "stdout",
     "output_type": "stream",
     "text": [
      "191\n",
      "991\n",
      "1177\n",
      "1177\n",
      "1177\n",
      "1177\n",
      "1197\n",
      "1246\n",
      "1295\n",
      "1382\n",
      "100\n",
      "1498\n",
      "1592\n",
      "1681\n",
      "1681\n",
      "1824\n",
      "1824\n",
      "1873\n",
      "1943\n",
      "1978\n",
      "1978\n",
      "200\n",
      "1978\n",
      "2027\n",
      "2061\n",
      "2159\n",
      "2326\n",
      "2375\n",
      "2671\n",
      "2842\n",
      "2971\n",
      "3038\n",
      "300\n",
      "3552\n",
      "4785\n",
      "5644\n",
      "6690\n"
     ]
    }
   ],
   "source": [
    "for key in PSV.keys():\n",
    "    for kmer in PSV[key]:\n",
    "        node_multi[kmer]=0\n",
    "\n",
    "for line in read_stream:\n",
    "    if line[0] == \">\":\n",
    "        line = line.lstrip()\n",
    "        read_name = \"/\".join(line.split(\"/\")[:2])\n",
    "        continue\n",
    "    read = line.rstrip()\n",
    "    read_len = len(read)\n",
    "    first_match = 1\n",
    "    read_count = read_count+1\n",
    "\n",
    "    sentinel = \"_\".join([\"t\", read_name ])\n",
    "    _starter = \"_\".join([\"s\", read_name ])\n",
    "    \n",
    "    \n",
    "    for i in range((read_len - k)+ 1):\n",
    "        kmer = read[i:i+k]\n",
    "\n",
    "\n",
    "        for key in PSV.keys():\n",
    "            current_off=-1\n",
    "            if kmer in PSV[key]:\n",
    "                offset = PSV[key].index(kmer)\n",
    "            #    print(kmer)\n",
    "\n",
    "                if MG.has_node(kmer):\n",
    "                    node_multi[kmer] = node_multi[kmer] + 1\n",
    "                    MG.add_node(kmer, mult=node_multi[kmer])\n",
    "                else:\n",
    "                    node_multi[kmer] = 1\n",
    "                    MG.add_node(kmer, mult=1)\n",
    "\n",
    "\n",
    "                if first_match and i == read_len - k:\n",
    "                    MG.add_node(_starter)\n",
    "                 #   MG.add_edge(\"s\", _starter)\n",
    "                    MG.add_node(sentinel)\n",
    "                    \n",
    "                    MG.add_edge(_starter, kmer, rn=read_name, of=offset, ii=i, rl= read_len)\n",
    "                    MG.add_edge(kmer, sentinel, rn=read_name, ii=i, rl= read_len)\n",
    "                    continue\n",
    "\n",
    "                if first_match:\n",
    "                    MG.add_node(_starter)\n",
    "                   # MG.add_edge(\"s\", _starter)\n",
    "                    MG.add_edge(_starter, kmer, rn=read_name, of=offset, ii=i,rl= read_len)\n",
    "                    current_match = kmer\n",
    "                    current_off = offset\n",
    "                    first_match = 0\n",
    "                    starter = starter +1 \n",
    "                    continue\n",
    "\n",
    "                if  i == read_len - k:\n",
    "                    MG.add_node(sentinel)\n",
    "                    MG.add_edge(kmer, sentinel, rn=read_name, ii=i,rl= read_len)\n",
    "                    ender = ender +1 \n",
    "                    continue\n",
    "                                                \n",
    "                MG.add_edge(current_match, kmer, rn=read_name, ii=i, iof = current_off,rl= read_len, of=offset)\n",
    "                current_match = kmer\n",
    "                current_off = offset\n",
    "                \n",
    "            elif not first_match and i == read_len - k:\n",
    "                MG.add_node(sentinel)\n",
    "                MG.add_edge(current_match, sentinel, rn=read_name, ii=i , iof = current_off,rl= read_len)\n",
    "                ender = ender +1 \n",
    "\n",
    "    if first_match:\n",
    "        un_read = un_read+1            \n",
    "    if read_count%10 == 0:\n",
    "        #print(read_count)\n",
    "        print(MG.number_of_edges())\n",
    "    if read_count%100 == 0:\n",
    "        print(read_count)\n",
    "\n"
   ]
  },
  {
   "cell_type": "code",
   "execution_count": 184,
   "metadata": {},
   "outputs": [
    {
     "name": "stdout",
     "output_type": "stream",
     "text": [
      "6690\n",
      "714\n"
     ]
    }
   ],
   "source": [
    "\n",
    "print(MG.number_of_edges())\n",
    "print(MG.number_of_nodes())"
   ]
  },
  {
   "cell_type": "code",
   "execution_count": 185,
   "metadata": {},
   "outputs": [
    {
     "name": "stdout",
     "output_type": "stream",
     "text": [
      "reads:  345 discard reads:  260 \n",
      "retain nodes:  714 discard nodes:  103\n",
      "source:  85 \n",
      "sink:  1445\n"
     ]
    }
   ],
   "source": [
    "print(\"reads: \",str(read_count),\"discard reads: \",str(un_read),\"\\nretain nodes: \",str(MG.number_of_nodes()),\"discard nodes: \",str(un_node))\n",
    "print(\"source: \",str(starter),\"\\nsink: \",str(ender))"
   ]
  },
  {
   "cell_type": "code",
   "execution_count": 186,
   "metadata": {},
   "outputs": [],
   "source": [
    "def contract(g):\n",
    "    is_chain = [node for node in g.nodes() if g.in_degree(node)==g.out_degree(node)]\n",
    "    chains = g.subgraph(is_chain)\n",
    "   # nx.components.connected_component_subgraphs(chains)\n",
    "    #print(chains.nodes())\n",
    "    return is_chain \n",
    "  "
   ]
  },
  {
   "cell_type": "code",
   "execution_count": 187,
   "metadata": {},
   "outputs": [
    {
     "name": "stdout",
     "output_type": "stream",
     "text": [
      "532\n",
      "714\n"
     ]
    }
   ],
   "source": [
    "pre=contract(MG)\n",
    "print(len(pre))\n",
    "print(MG.number_of_nodes())"
   ]
  },
  {
   "cell_type": "code",
   "execution_count": 190,
   "metadata": {},
   "outputs": [],
   "source": [
    "ini=1\n",
    "ct=1\n",
    "deg=-1\n",
    "master=\"\"\n",
    "prev=\"\"\n",
    "\n",
    "for node in MG.nodes():#.nodes():\n",
    "    if ini:\n",
    "        master=node\n",
    "        prev=node\n",
    "#        deg= MG.out_degree(node)\n",
    "        ini=0\n",
    "    elif not ini:\n",
    "        if prev[1:] == node[:-2]:\n",
    "            MG = nx.contracted_nodes(MG,master,node)\n",
    "            prev=node\n",
    "        else:\n",
    "            ini=1\n",
    "        \n",
    "    \n",
    "    \n",
    "    \n",
    "    "
   ]
  },
  {
   "cell_type": "code",
   "execution_count": 150,
   "metadata": {},
   "outputs": [],
   "source": [
    "ini=1\n",
    "ct=1\n",
    "deg=-1\n",
    "master=\"\"\n",
    "merged=[]\n",
    "\n",
    "for node in pre:#.nodes():\n",
    "    if ini:\n",
    "        ct=ct+1\n",
    "        master=node \n",
    "        deg= MG.out_degree(node)\n",
    "        ini=0\n",
    "    if not ini and ct>1 and deg== MG.in_degree(node):\n",
    "        merged.append(node)    \n",
    "    elif not ini and ct>1 and deg != MG.in_degree(node):\n",
    "        for n in merged:\n",
    "            MG = nx.contracted_nodes(MG,master,n)\n",
    "        ini=1\n",
    "        ct=1\n",
    "        deg=-1\n",
    "        master=\"\"\n",
    "        merged=[]\n",
    "    \n",
    "    \n",
    "    \n",
    "    \n",
    "    "
   ]
  },
  {
   "cell_type": "code",
   "execution_count": 191,
   "metadata": {},
   "outputs": [
    {
     "name": "stdout",
     "output_type": "stream",
     "text": [
      "714\n"
     ]
    }
   ],
   "source": [
    "print(MG.number_of_nodes())"
   ]
  },
  {
   "cell_type": "code",
   "execution_count": 167,
   "metadata": {},
   "outputs": [],
   "source": [
    "MG.add_nodes_from(PSVlist)"
   ]
  },
  {
   "cell_type": "code",
   "execution_count": 173,
   "metadata": {},
   "outputs": [
    {
     "name": "stdout",
     "output_type": "stream",
     "text": [
      "70\n",
      "1916\n"
     ]
    }
   ],
   "source": [
    "print(len(PSVlist))\n",
    "print(MG.number_of_nodes())"
   ]
  },
  {
   "cell_type": "code",
   "execution_count": 177,
   "metadata": {},
   "outputs": [
    {
     "name": "stdout",
     "output_type": "stream",
     "text": [
      "i 1\n",
      "j 1\n"
     ]
    },
    {
     "ename": "KeyError",
     "evalue": "'ATTCTTCTATTCTTCTTATACCTAATTCTTTT'",
     "output_type": "error",
     "traceback": [
      "\u001b[0;31m---------------------------------------------------------------------------\u001b[0m",
      "\u001b[0;31mKeyError\u001b[0m                                  Traceback (most recent call last)",
      "\u001b[0;32m<ipython-input-177-5140ca3913e0>\u001b[0m in \u001b[0;36m<module>\u001b[0;34m\u001b[0m\n\u001b[1;32m      8\u001b[0m         \u001b[0mj\u001b[0m\u001b[0;34m=\u001b[0m\u001b[0mj\u001b[0m\u001b[0;34m+\u001b[0m\u001b[0;36m1\u001b[0m\u001b[0;34m\u001b[0m\u001b[0;34m\u001b[0m\u001b[0m\n\u001b[1;32m      9\u001b[0m         \u001b[0mprint\u001b[0m\u001b[0;34m(\u001b[0m\u001b[0;34m\"j\"\u001b[0m\u001b[0;34m,\u001b[0m\u001b[0mj\u001b[0m\u001b[0;34m)\u001b[0m\u001b[0;34m\u001b[0m\u001b[0;34m\u001b[0m\u001b[0m\n\u001b[0;32m---> 10\u001b[0;31m         \u001b[0mMG\u001b[0m \u001b[0;34m=\u001b[0m \u001b[0mnx\u001b[0m\u001b[0;34m.\u001b[0m\u001b[0mcontracted_nodes\u001b[0m\u001b[0;34m(\u001b[0m\u001b[0mMG\u001b[0m\u001b[0;34m,\u001b[0m\u001b[0mnode\u001b[0m\u001b[0;34m,\u001b[0m\u001b[0mkmer\u001b[0m\u001b[0;34m)\u001b[0m\u001b[0;34m\u001b[0m\u001b[0;34m\u001b[0m\u001b[0m\n\u001b[0m\u001b[1;32m     11\u001b[0m \u001b[0;34m\u001b[0m\u001b[0m\n",
      "\u001b[0;32m/home/cmb-16/mjc/rdagnew/anaconda3/envs/jup_env/lib/python3.8/site-packages/networkx/algorithms/minors.py\u001b[0m in \u001b[0;36mcontracted_nodes\u001b[0;34m(G, u, v, self_loops)\u001b[0m\n\u001b[1;32m    373\u001b[0m                      \u001b[0;32mfor\u001b[0m \u001b[0mx\u001b[0m\u001b[0;34m,\u001b[0m \u001b[0mw\u001b[0m\u001b[0;34m,\u001b[0m \u001b[0md\u001b[0m \u001b[0;32min\u001b[0m \u001b[0mG\u001b[0m\u001b[0;34m.\u001b[0m\u001b[0medges\u001b[0m\u001b[0;34m(\u001b[0m\u001b[0mv\u001b[0m\u001b[0;34m,\u001b[0m \u001b[0mdata\u001b[0m\u001b[0;34m=\u001b[0m\u001b[0;32mTrue\u001b[0m\u001b[0;34m)\u001b[0m\u001b[0;34m\u001b[0m\u001b[0;34m\u001b[0m\u001b[0m\n\u001b[1;32m    374\u001b[0m                      if self_loops or w != u)\n\u001b[0;32m--> 375\u001b[0;31m     \u001b[0mv_data\u001b[0m \u001b[0;34m=\u001b[0m \u001b[0mH\u001b[0m\u001b[0;34m.\u001b[0m\u001b[0mnodes\u001b[0m\u001b[0;34m[\u001b[0m\u001b[0mv\u001b[0m\u001b[0;34m]\u001b[0m\u001b[0;34m\u001b[0m\u001b[0;34m\u001b[0m\u001b[0m\n\u001b[0m\u001b[1;32m    376\u001b[0m     \u001b[0mH\u001b[0m\u001b[0;34m.\u001b[0m\u001b[0mremove_node\u001b[0m\u001b[0;34m(\u001b[0m\u001b[0mv\u001b[0m\u001b[0;34m)\u001b[0m\u001b[0;34m\u001b[0m\u001b[0;34m\u001b[0m\u001b[0m\n\u001b[1;32m    377\u001b[0m     \u001b[0mH\u001b[0m\u001b[0;34m.\u001b[0m\u001b[0madd_edges_from\u001b[0m\u001b[0;34m(\u001b[0m\u001b[0mnew_edges\u001b[0m\u001b[0;34m)\u001b[0m\u001b[0;34m\u001b[0m\u001b[0;34m\u001b[0m\u001b[0m\n",
      "\u001b[0;32m/home/cmb-16/mjc/rdagnew/anaconda3/envs/jup_env/lib/python3.8/site-packages/networkx/classes/reportviews.py\u001b[0m in \u001b[0;36m__getitem__\u001b[0;34m(self, n)\u001b[0m\n\u001b[1;32m    176\u001b[0m \u001b[0;34m\u001b[0m\u001b[0m\n\u001b[1;32m    177\u001b[0m     \u001b[0;32mdef\u001b[0m \u001b[0m__getitem__\u001b[0m\u001b[0;34m(\u001b[0m\u001b[0mself\u001b[0m\u001b[0;34m,\u001b[0m \u001b[0mn\u001b[0m\u001b[0;34m)\u001b[0m\u001b[0;34m:\u001b[0m\u001b[0;34m\u001b[0m\u001b[0;34m\u001b[0m\u001b[0m\n\u001b[0;32m--> 178\u001b[0;31m         \u001b[0;32mreturn\u001b[0m \u001b[0mself\u001b[0m\u001b[0;34m.\u001b[0m\u001b[0m_nodes\u001b[0m\u001b[0;34m[\u001b[0m\u001b[0mn\u001b[0m\u001b[0;34m]\u001b[0m\u001b[0;34m\u001b[0m\u001b[0;34m\u001b[0m\u001b[0m\n\u001b[0m\u001b[1;32m    179\u001b[0m \u001b[0;34m\u001b[0m\u001b[0m\n\u001b[1;32m    180\u001b[0m     \u001b[0;31m# Set methods\u001b[0m\u001b[0;34m\u001b[0m\u001b[0;34m\u001b[0m\u001b[0;34m\u001b[0m\u001b[0m\n",
      "\u001b[0;31mKeyError\u001b[0m: 'ATTCTTCTATTCTTCTTATACCTAATTCTTTT'"
     ]
    }
   ],
   "source": [
    "i=0\n",
    "j=0\n",
    "for key in PSV.keys():\n",
    "    node=key\n",
    "    i=i+1\n",
    "    print(\"i\",i)\n",
    "    for kmer in PSV[key]:\n",
    "        j=j+1\n",
    "        print(\"j\",j)\n",
    "        MG = nx.contracted_nodes(MG,node,kmer)\n",
    "        "
   ]
  },
  {
   "cell_type": "code",
   "execution_count": 192,
   "metadata": {},
   "outputs": [],
   "source": [
    "un_node=0\n",
    "rem=[]\n",
    "for node in MG.nodes():\n",
    "    if MG.degree(node) == 0:\n",
    "        rem.append(node)\n",
    "        un_node = un_node+1\n",
    "MG.remove_nodes_from(rem)"
   ]
  },
  {
   "cell_type": "code",
   "execution_count": 193,
   "metadata": {},
   "outputs": [],
   "source": [
    "nx.write_gml(MG,out)"
   ]
  },
  {
   "cell_type": "code",
   "execution_count": null,
   "metadata": {},
   "outputs": [],
   "source": []
  }
 ],
 "metadata": {
  "kernelspec": {
   "display_name": "Python 3",
   "language": "python",
   "name": "python3"
  },
  "language_info": {
   "codemirror_mode": {
    "name": "ipython",
    "version": 3
   },
   "file_extension": ".py",
   "mimetype": "text/x-python",
   "name": "python",
   "nbconvert_exporter": "python",
   "pygments_lexer": "ipython3",
   "version": "3.8.2"
  }
 },
 "nbformat": 4,
 "nbformat_minor": 4
}
