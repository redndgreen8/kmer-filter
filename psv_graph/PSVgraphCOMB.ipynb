{
 "cells": [
  {
   "cell_type": "code",
   "execution_count": 44,
   "metadata": {},
   "outputs": [],
   "source": [
    "import sys\n",
    "import math\n",
    "import networkx as nx\n",
    "from collections import OrderedDict\n",
    "\n",
    "\n",
    "reads=\"/panfs/qcb-panasas/rdagnew/HG00514/pbmm_combined/all_3/chr6:160609100-160648600/ccs/reads.fasta\"\n",
    "cov=26\n",
    "\n",
    "k=32\n",
    "\n",
    "\n",
    "\n",
    "PSV = OrderedDict()\n",
    "MG = nx.MultiDiGraph()\n",
    "#MG.add_node(\"s\")\n",
    "\n",
    "def storePSVfilt(PSV,PSVlist,MG,k):\n",
    "    l=0\n",
    "    _refnode = \"\"\n",
    "    _node = \"\"\n",
    "    info=\"\"\n",
    "    pre=\"\"\n",
    "    for n in PSVlist:\n",
    "        if n[0]==\"#\":\n",
    "            continue  \n",
    "       # print(n)\n",
    "        n = n.rstrip()\n",
    "        n = n.split()\n",
    "      #  print(n)\n",
    "        info = n[9]\n",
    "        kmer = info.split(\";\")[4]\n",
    "        pre = kmer.split(\"=\")[1].split(\",\")\n",
    "        _refnode = pre[0]\n",
    "        _node = pre[1]\n",
    "        PSV[_node] = []\n",
    "        kmer = \"\"\n",
    "#        assert k == len(line)\n",
    "        for i in range(k):\n",
    "            kmer = _node[i:i+k]\n",
    "            PSV[_node].append(kmer)\n",
    "            MG.add_node(kmer , pos=n[1], ref=_refnode[k-1], alt=_node[k-1] ,of=i,t=0)\n",
    "            l=l+1\n",
    "    print(\"stored filt PSV list:\",str(l))"
   ]
  },
  {
   "cell_type": "code",
   "execution_count": 45,
   "metadata": {},
   "outputs": [
    {
     "name": "stdout",
     "output_type": "stream",
     "text": [
      "0\n",
      "stored filt PSV list: 2240\n",
      "1325\n"
     ]
    }
   ],
   "source": [
    "#set but need to keep track of multiplicity\n",
    "PSVlist=[]\n",
    "with open(psv) as p:\n",
    "    PSVlist=p.readlines()\n",
    "#print(PSVlist)\n",
    "print(MG.number_of_nodes())\n",
    "storePSVfilt(PSV, PSVlist, MG,k)\n",
    "print(MG.number_of_nodes())\n",
    "#print(PSV)\n",
    "\n",
    "read_name = \"\"\n",
    "offset = 0\n",
    "starter=0\n",
    "ender=0\n",
    "un_read=0\n",
    "read_stream = open(reads)\n",
    "\n",
    "read_count = 0\n",
    "node_multi = {}\n",
    "for key in PSV.keys():\n",
    "    for kmer in PSV[key]:\n",
    "        node_multi[kmer]=0"
   ]
  },
  {
   "cell_type": "code",
   "execution_count": 46,
   "metadata": {},
   "outputs": [
    {
     "name": "stdout",
     "output_type": "stream",
     "text": [
      "1396\n",
      "4330\n",
      "5820\n",
      "6724\n",
      "7542\n",
      "8417\n",
      "9239\n",
      "10136\n",
      "10917\n",
      "11833\n",
      "100\n",
      "12704\n",
      "13650\n",
      "14506\n",
      "15418\n",
      "16194\n",
      "16787\n",
      "17569\n",
      "18319\n",
      "19031\n",
      "19836\n",
      "200\n",
      "20621\n",
      "21767\n",
      "22965\n",
      "24328\n",
      "25608\n",
      "26859\n",
      "28551\n",
      "29831\n",
      "30539\n",
      "31274\n",
      "300\n",
      "32640\n",
      "35286\n",
      "37012\n",
      "38732\n"
     ]
    }
   ],
   "source": [
    "for key in PSV.keys():\n",
    "    for kmer in PSV[key]:\n",
    "        node_multi[kmer]=0\n",
    "\n",
    "for line in read_stream:\n",
    "    if line[0] == \">\":\n",
    "        line = line.lstrip()\n",
    "        read_name = \"/\".join(line.split(\"/\")[:2])\n",
    "        continue\n",
    "    read = line.rstrip()\n",
    "    read_len = len(read)\n",
    "    first_match = 1\n",
    "    read_count = read_count+1\n",
    "\n",
    "    sentinel = \"_\".join([\"t\", read_name ])\n",
    "    _starter = \"_\".join([\"s\", read_name ])\n",
    "    \n",
    "    \n",
    "    for i in range((read_len - k)+ 1):\n",
    "        kmer = read[i:i+k]\n",
    "\n",
    "\n",
    "        for key in PSV.keys():\n",
    "            current_off=-1\n",
    "            if kmer in PSV[key]:\n",
    "                offset = PSV[key].index(kmer)\n",
    "            #    print(kmer)\n",
    "\n",
    "                if MG.has_node(kmer):\n",
    "                    node_multi[kmer] = node_multi[kmer] + 1\n",
    "                    MG.add_node(kmer, mult=node_multi[kmer])\n",
    "                else:\n",
    "                    node_multi[kmer] = 1\n",
    "                    MG.add_node(kmer, mult=1)\n",
    "\n",
    "\n",
    "                if first_match and i == read_len - k:\n",
    "                    MG.add_node(_starter,t=1)\n",
    "                 #   MG.add_edge(\"s\", _starter)\n",
    "                    MG.add_node(sentinel,t=2)\n",
    "                    \n",
    "                    MG.add_edge(_starter, kmer, rn=read_name, of=offset, ii=i, rl= read_len)\n",
    "                    MG.add_edge(kmer, sentinel, rn=read_name, ii=i, rl= read_len)\n",
    "                    continue\n",
    "\n",
    "                if first_match:\n",
    "                    MG.add_node(_starter,t=1)\n",
    "                   # MG.add_edge(\"s\", _starter)\n",
    "                    MG.add_edge(_starter, kmer, rn=read_name, of=offset, ii=i,rl= read_len)\n",
    "                    current_match = kmer\n",
    "                    current_off = offset\n",
    "                    first_match = 0\n",
    "                    starter = starter +1 \n",
    "                    continue\n",
    "\n",
    "                if  i == read_len - k:\n",
    "                    MG.add_node(sentinel,t=2)\n",
    "                    MG.add_edge(kmer, sentinel, rn=read_name, ii=i,rl= read_len)\n",
    "                    ender = ender +1 \n",
    "                    continue\n",
    "                                                \n",
    "                MG.add_edge(current_match, kmer, rn=read_name, ii=i, iof = current_off,rl= read_len, of=offset)\n",
    "                current_match = kmer\n",
    "                current_off = offset\n",
    "                \n",
    "            elif not first_match and i == read_len - k:\n",
    "                MG.add_node(sentinel, t=2)\n",
    "                MG.add_edge(current_match, sentinel, rn=read_name, ii=i , iof = current_off,rl= read_len)\n",
    "                ender = ender +1 \n",
    "\n",
    "    if first_match:\n",
    "        un_read = un_read+1            \n",
    "    if read_count%10 == 0:\n",
    "        #print(read_count)\n",
    "        print(MG.number_of_edges())\n",
    "    if read_count%100 == 0:\n",
    "        print(read_count)\n",
    "\n",
    "\n"
   ]
  },
  {
   "cell_type": "code",
   "execution_count": 47,
   "metadata": {},
   "outputs": [
    {
     "name": "stdout",
     "output_type": "stream",
     "text": [
      "38732\n",
      "2001\n"
     ]
    }
   ],
   "source": [
    "print(MG.number_of_edges())\n",
    "print(MG.number_of_nodes())"
   ]
  },
  {
   "cell_type": "code",
   "execution_count": 48,
   "metadata": {},
   "outputs": [
    {
     "name": "stdout",
     "output_type": "stream",
     "text": [
      "reads:  345 discard reads:  7 \n",
      "retain nodes:  2001\n",
      "source:  338 \n",
      "sink:  14196\n"
     ]
    }
   ],
   "source": [
    "print(\"reads: \",str(read_count),\"discard reads: \",str(un_read),\"\\nretain nodes: \",str(MG.number_of_nodes()))#,\"discard nodes: \",str(un_node))\n",
    "print(\"source: \",str(starter),\"\\nsink: \",str(ender))"
   ]
  },
  {
   "cell_type": "code",
   "execution_count": 49,
   "metadata": {},
   "outputs": [],
   "source": [
    "ini=1\n",
    "\n",
    "master=\"\"\n",
    "prev=\"\"\n",
    "\n",
    "for node in MG.nodes():#.nodes():\n",
    "    if ini:\n",
    "        master=node\n",
    "        prev=node\n",
    " #       print(prev)\n",
    "#        deg= MG.out_degree(node)\n",
    "        ini=0\n",
    "    elif not ini:\n",
    "#        print(\"enter1\",prev[1:],node[:-2])      \n",
    "        if str(prev[1:]) == str(node[:-1]):\n",
    "     #       print(\"enter\")\n",
    "            MG = nx.contracted_nodes(MG,master,node)\n",
    "            prev=node\n",
    "        else:\n",
    "            ini=1"
   ]
  },
  {
   "cell_type": "code",
   "execution_count": 50,
   "metadata": {},
   "outputs": [
    {
     "name": "stdout",
     "output_type": "stream",
     "text": [
      "38841\n",
      "759\n",
      "70\n"
     ]
    }
   ],
   "source": [
    "#MG.nodes()\n",
    "print(MG.number_of_edges())\n",
    "print(MG.number_of_nodes())\n",
    "print(len(PSVlist))"
   ]
  },
  {
   "cell_type": "code",
   "execution_count": 51,
   "metadata": {},
   "outputs": [
    {
     "name": "stdout",
     "output_type": "stream",
     "text": [
      "6\n"
     ]
    }
   ],
   "source": [
    "un_node=0\n",
    "rem=[]\n",
    "for node in MG.nodes():\n",
    "    if MG.degree(node) == 0:\n",
    "        rem.append(node)\n",
    "        un_node = un_node+1\n",
    "MG.remove_nodes_from(rem)\n",
    "print(len(rem))"
   ]
  },
  {
   "cell_type": "code",
   "execution_count": 52,
   "metadata": {},
   "outputs": [
    {
     "name": "stdout",
     "output_type": "stream",
     "text": [
      "38841\n",
      "753\n",
      "70\n"
     ]
    }
   ],
   "source": [
    "#MG.nodes()\n",
    "print(MG.number_of_edges())\n",
    "print(MG.number_of_nodes())\n",
    "print(len(PSVlist))"
   ]
  },
  {
   "cell_type": "code",
   "execution_count": 53,
   "metadata": {},
   "outputs": [],
   "source": [
    "out=\"/home/cmb-16/mjc/rdagnew/summerproj/kmer_filter/psv_graph/psv.COMB.clr_filt.gml\"\n",
    "\n",
    "nx.write_gml(MG,out)"
   ]
  },
  {
   "cell_type": "code",
   "execution_count": null,
   "metadata": {},
   "outputs": [],
   "source": []
  }
 ],
 "metadata": {
  "kernelspec": {
   "display_name": "Python 3",
   "language": "python",
   "name": "python3"
  },
  "language_info": {
   "codemirror_mode": {
    "name": "ipython",
    "version": 3
   },
   "file_extension": ".py",
   "mimetype": "text/x-python",
   "name": "python",
   "nbconvert_exporter": "python",
   "pygments_lexer": "ipython3",
   "version": "3.8.2"
  }
 },
 "nbformat": 4,
 "nbformat_minor": 4
}
